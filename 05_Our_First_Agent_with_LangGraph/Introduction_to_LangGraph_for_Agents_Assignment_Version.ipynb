{
  "cells": [
    {
      "cell_type": "markdown",
      "metadata": {
        "id": "gJXW_DgiSebM"
      },
      "source": [
        "# LangGraph and LangSmith - Agentic RAG Powered by LangChain\n",
        "\n",
        "In the following notebook we'll complete the following tasks:\n",
        "\n",
        "- 🤝 Breakout Room #1:\n",
        "  1. Install required libraries\n",
        "  2. Set Environment Variables\n",
        "  3. Creating our Tool Belt\n",
        "  4. Creating Our State\n",
        "  5. Creating and Compiling A Graph!\n",
        "\n",
        "- 🤝 Breakout Room #2:\n",
        "  1. Evaluating the LangGraph Application with LangSmith\n",
        "  2. Adding Helpfulness Check and \"Loop\" Limits\n",
        "  3. LangGraph for the \"Patterns\" of GenAI"
      ]
    },
    {
      "cell_type": "markdown",
      "metadata": {
        "id": "djQ3nRAgoF67"
      },
      "source": [
        "# 🤝 Breakout Room #1"
      ]
    },
    {
      "cell_type": "markdown",
      "metadata": {
        "id": "e7pQDUhUnIo8"
      },
      "source": [
        "## Part 1: LangGraph - Building Cyclic Applications with LangChain\n",
        "\n",
        "LangGraph is a tool that leverages LangChain Expression Language to build coordinated multi-actor and stateful applications that includes cyclic behaviour.\n",
        "\n",
        "### Why Cycles?\n",
        "\n",
        "In essence, we can think of a cycle in our graph as a more robust and customizable loop. It allows us to keep our application agent-forward while still giving the powerful functionality of traditional loops.\n",
        "\n",
        "Due to the inclusion of cycles over loops, we can also compose rather complex flows through our graph in a much more readable and natural fashion. Effectively allowing us to recreate application flowcharts in code in an almost 1-to-1 fashion.\n",
        "\n",
        "### Why LangGraph?\n",
        "\n",
        "Beyond the agent-forward approach - we can easily compose and combine traditional \"DAG\" (directed acyclic graph) chains with powerful cyclic behaviour due to the tight integration with LCEL. This means it's a natural extension to LangChain's core offerings!"
      ]
    },
    {
      "cell_type": "markdown",
      "metadata": {
        "id": "3_fLDElOVoop"
      },
      "source": [
        "## Task 1:  Dependencies\n"
      ]
    },
    {
      "cell_type": "markdown",
      "metadata": {
        "id": "wujPjGJuoPwg"
      },
      "source": [
        "## Task 2: Environment Variables\n",
        "\n",
        "We'll want to set both our OpenAI API key and our LangSmith environment variables."
      ]
    },
    {
      "cell_type": "code",
      "execution_count": 1,
      "metadata": {
        "colab": {
          "base_uri": "https://localhost:8080/"
        },
        "id": "Jdh8CoVWHRvs",
        "outputId": "3fa78560-393c-4ee5-b871-9886bf0d70f4"
      },
      "outputs": [],
      "source": [
        "import os\n",
        "import getpass\n",
        "\n",
        "os.environ[\"OPENAI_API_KEY\"] = getpass.getpass(\"OpenAI API Key:\")"
      ]
    },
    {
      "cell_type": "code",
      "execution_count": 2,
      "metadata": {
        "colab": {
          "base_uri": "https://localhost:8080/"
        },
        "id": "Jkla2fpx28QK",
        "outputId": "52d7ad22-fcb1-4abe-853b-216c55a12650"
      },
      "outputs": [],
      "source": [
        "os.environ[\"TAVILY_API_KEY\"] = getpass.getpass(\"TAVILY_API_KEY\")"
      ]
    },
    {
      "cell_type": "code",
      "execution_count": 3,
      "metadata": {
        "colab": {
          "base_uri": "https://localhost:8080/"
        },
        "id": "Nv0glIDyHmRt",
        "outputId": "b69df90a-b4e1-4ddb-9de0-882d98b68ab2"
      },
      "outputs": [],
      "source": [
        "from uuid import uuid4\n",
        "\n",
        "os.environ[\"LANGCHAIN_TRACING_V2\"] = \"true\"\n",
        "os.environ[\"LANGCHAIN_PROJECT\"] = f\"AIE7 - LangGraph - {uuid4().hex[0:8]}\"\n",
        "os.environ[\"LANGCHAIN_API_KEY\"] = getpass.getpass(\"LangSmith API Key: \")"
      ]
    },
    {
      "cell_type": "markdown",
      "metadata": {
        "id": "sBRyQmEAVzua"
      },
      "source": [
        "## Task 3: Creating our Tool Belt\n",
        "\n",
        "As is usually the case, we'll want to equip our agent with a toolbelt to help answer questions and add external knowledge.\n",
        "\n",
        "There's a tonne of tools in the [LangChain Community Repo](https://github.com/langchain-ai/langchain-community/tree/main/libs/community) but we'll stick to a couple just so we can observe the cyclic nature of LangGraph in action!\n",
        "\n",
        "We'll leverage:\n",
        "\n",
        "- [Tavily Search Results](https://github.com/langchain-ai/langchain-community/blob/main/libs/community/langchain_community/tools/tavily_search/tool.py)\n",
        "- [Arxiv](https://github.com/langchain-ai/langchain-community/blob/main/libs/community/langchain_community/tools/arxiv/tool.py)"
      ]
    },
    {
      "cell_type": "markdown",
      "metadata": {
        "id": "2k6n_Dob2F46"
      },
      "source": [
        "#### 🏗️ Activity #1:\n",
        "\n",
        "Please add the tools to use into our toolbelt.\n",
        "\n",
        "> NOTE: Each tool in our toolbelt should be a method."
      ]
    },
    {
      "cell_type": "code",
      "execution_count": 4,
      "metadata": {
        "id": "lAxaSvlfIeOg"
      },
      "outputs": [
        {
          "name": "stderr",
          "output_type": "stream",
          "text": [
            "/var/folders/cx/b3fm099x785dtystc1m_m_640000gn/T/ipykernel_29083/1203815797.py:4: LangChainDeprecationWarning: The class `TavilySearchResults` was deprecated in LangChain 0.3.25 and will be removed in 1.0. An updated version of the class exists in the :class:`~langchain-tavily package and should be used instead. To use it run `pip install -U :class:`~langchain-tavily` and import as `from :class:`~langchain_tavily import TavilySearch``.\n",
            "  tavily_tool = TavilySearchResults(max_results=5)\n"
          ]
        }
      ],
      "source": [
        "from langchain_community.tools.tavily_search import TavilySearchResults\n",
        "from langchain_community.tools.arxiv.tool import ArxivQueryRun\n",
        "\n",
        "tavily_tool = TavilySearchResults(max_results=5)\n",
        "\n",
        "tool_belt = [\n",
        "    tavily_tool,\n",
        "    ArxivQueryRun(),\n",
        "]"
      ]
    },
    {
      "cell_type": "markdown",
      "metadata": {
        "id": "VI-C669ZYVI5"
      },
      "source": [
        "### Model\n",
        "\n",
        "Now we can set-up our model! We'll leverage the familiar OpenAI model suite for this example - but it's not *necessary* to use with LangGraph. LangGraph supports all models - though you might not find success with smaller models - as such, they recommend you stick with:\n",
        "\n",
        "- OpenAI's GPT-3.5 and GPT-4\n",
        "- Anthropic's Claude\n",
        "- Google's Gemini\n",
        "\n",
        "> NOTE: Because we're leveraging the OpenAI function calling API - we'll need to use OpenAI *for this specific example* (or any other service that exposes an OpenAI-style function calling API."
      ]
    },
    {
      "cell_type": "code",
      "execution_count": 5,
      "metadata": {
        "id": "QkNS8rNZJs4z"
      },
      "outputs": [],
      "source": [
        "from langchain_openai import ChatOpenAI\n",
        "\n",
        "model = ChatOpenAI(model=\"gpt-4.1-nano\", temperature=0)"
      ]
    },
    {
      "cell_type": "markdown",
      "metadata": {
        "id": "Ugkj3GzuZpQv"
      },
      "source": [
        "Now that we have our model set-up, let's \"put on the tool belt\", which is to say: We'll bind our LangChain formatted tools to the model in an OpenAI function calling format."
      ]
    },
    {
      "cell_type": "code",
      "execution_count": 6,
      "metadata": {
        "id": "4OdMqFafZ_0V"
      },
      "outputs": [],
      "source": [
        "model = model.bind_tools(tool_belt)"
      ]
    },
    {
      "cell_type": "markdown",
      "metadata": {
        "id": "ERzuGo6W18Lr"
      },
      "source": [
        "#### ❓ Question #1:\n",
        "\n",
        "How does the model determine which tool to use?\n",
        "\n",
        "##### ✅ Answer:\n",
        "\n",
        "## How LangGraph Determines Tool Selection\n",
        "\n",
        "In LangGraph, tool selection is driven by the **LLM's decision-making process** combined with **conditional routing logic**. Here's how it works:\n",
        "\n",
        "### 1. Tool Binding and Schema Exposure\n",
        "\n",
        "First, tools are bound to the model, making them available for selection:\n",
        "\n",
        "```python\n",
        "from langchain_core.tools import tool\n",
        "from langgraph.prebuilt import ToolNode\n",
        "\n",
        "@tool\n",
        "def get_weather(location: str) -> str:\n",
        "    \"\"\"Get current weather for a location.\"\"\"\n",
        "    return f\"Weather in {location}: 72°F, sunny\"\n",
        "\n",
        "@tool  \n",
        "def search_database(query: str) -> str:\n",
        "    \"\"\"Search the knowledge database.\"\"\"\n",
        "    return f\"Found results for: {query}\"\n",
        "\n",
        "# Bind tools to model\n",
        "llm_with_tools = llm.bind_tools([get_weather, search_database])\n",
        "```\n",
        "\n",
        "### 2. Model Decision Process\n",
        "\n",
        "The model has the freedom to choose which tool to use based on the user's input. The LLM analyzes the input and determines:\n",
        "- **Whether** to call any tool\n",
        "- **Which specific tool** to call  \n",
        "- **What arguments** to pass\n",
        "\n",
        "A key principle of tool calling is that the model decides when to use a tool based on the input's relevance. The model doesn't always need to call a tool.\n",
        "\n",
        "### 3. Tool Calls Detection\n",
        "\n",
        "When the model decides to use a tool, it generates an `AIMessage` with a `tool_calls` attribute:\n",
        "\n",
        "```python\n",
        "def call_model(state: MessagesState):\n",
        "    messages = state[\"messages\"]\n",
        "    response = llm_with_tools.invoke(messages)\n",
        "    return {\"messages\": [response]}\n",
        "```\n",
        "\n",
        "### 4. Conditional Routing Logic\n",
        "\n",
        "The core routing mechanism uses a `should_continue` function that inspects the model's response:\n",
        "\n",
        "```python\n",
        "def should_continue(state: MessagesState) -> str:\n",
        "    messages = state[\"messages\"]\n",
        "    last_message = messages[-1]\n",
        "    \n",
        "    # Check if model called any tools\n",
        "    if last_message.tool_calls:\n",
        "        return \"tools\"  # Route to tool execution\n",
        "    else:\n",
        "        return END      # End conversation\n",
        "```\n",
        "\n",
        "### 5. Graph Structure\n",
        "\n",
        "The graph defines the flow: START ➔ agent ➔ should_continue ➔ (tools OR END) ➔ agent:\n",
        "\n",
        "```python\n",
        "from langgraph.graph import StateGraph, MessagesState, START, END\n",
        "\n",
        "workflow = StateGraph(MessagesState)\n",
        "workflow.add_node(\"agent\", call_model)\n",
        "workflow.add_node(\"tools\", ToolNode([get_weather, search_database]))\n",
        "\n",
        "workflow.add_edge(START, \"agent\")\n",
        "workflow.add_conditional_edges(\"agent\", should_continue, [\"tools\", END])\n",
        "workflow.add_edge(\"tools\", \"agent\")\n",
        "```\n",
        "\n",
        "### 6. Tool Selection Factors\n",
        "\n",
        "The model's tool selection is influenced by:\n",
        "\n",
        "- **Tool descriptions**: Tools that are well-named, correctly-documented and properly type-hinted are easier for models to use\n",
        "- **Input relevance**: The model matches user intent to appropriate tools\n",
        "- **Tool simplicity**: Simple, narrowly scoped tools are easier for models to use correctly\n",
        "\n",
        "### 7. Advanced Control\n",
        "\n",
        "You can influence tool selection through:\n",
        "\n",
        "```python\n",
        "# Force tool usage\n",
        "llm_with_tools = llm.bind_tools(tools, tool_choice=\"any\")\n",
        "\n",
        "# Limit parallel calls  \n",
        "llm_with_tools = llm.bind_tools(tools, parallel_tool_calls=False)\n",
        "\n",
        "# Dynamic tool selection with retrieval\n",
        "selected_tools = retrieve_relevant_tools(user_query)\n",
        "llm_with_selected_tools = llm.bind_tools(selected_tools)\n",
        "```\n",
        "\n",
        "### Bottom Line\n",
        "\n",
        "The model decides whether to invoke a tool and determine the appropriate arguments based on analyzing the user input against available tool schemas. The `should_continue` function then routes the graph flow based on whether `tool_calls` are present in the model's response, creating a **ReAct (Reasoning + Acting) pattern** where the agent alternates between reasoning and tool execution until the task is complete."
      ]
    },
    {
      "cell_type": "markdown",
      "metadata": {
        "id": "_296Ub96Z_H8"
      },
      "source": [
        "## Task 4: Putting the State in Stateful\n",
        "\n",
        "Earlier we used this phrasing:\n",
        "\n",
        "`coordinated multi-actor and stateful applications`\n",
        "\n",
        "So what does that \"stateful\" mean?\n",
        "\n",
        "To put it simply - we want to have some kind of object which we can pass around our application that holds information about what the current situation (state) is. Since our system will be constructed of many parts moving in a coordinated fashion - we want to be able to ensure we have some commonly understood idea of that state.\n",
        "\n",
        "LangGraph leverages a `StatefulGraph` which uses an `AgentState` object to pass information between the various nodes of the graph.\n",
        "\n",
        "There are more options than what we'll see below - but this `AgentState` object is one that is stored in a `TypedDict` with the key `messages` and the value is a `Sequence` of `BaseMessages` that will be appended to whenever the state changes.\n",
        "\n",
        "Let's think about a simple example to help understand exactly what this means (we'll simplify a great deal to try and clearly communicate what state is doing):\n",
        "\n",
        "1. We initialize our state object:\n",
        "  - `{\"messages\" : []}`\n",
        "2. Our user submits a query to our application.\n",
        "  - New State: `HumanMessage(#1)`\n",
        "  - `{\"messages\" : [HumanMessage(#1)}`\n",
        "3. We pass our state object to an Agent node which is able to read the current state. It will use the last `HumanMessage` as input. It gets some kind of output which it will add to the state.\n",
        "  - New State: `AgentMessage(#1, additional_kwargs {\"function_call\" : \"WebSearchTool\"})`\n",
        "  - `{\"messages\" : [HumanMessage(#1), AgentMessage(#1, ...)]}`\n",
        "4. We pass our state object to a \"conditional node\" (more on this later) which reads the last state to determine if we need to use a tool - which it can determine properly because of our provided object!"
      ]
    },
    {
      "cell_type": "code",
      "execution_count": 7,
      "metadata": {
        "id": "mxL9b_NZKUdL"
      },
      "outputs": [],
      "source": [
        "from typing import TypedDict, Annotated\n",
        "from langgraph.graph.message import add_messages\n",
        "import operator\n",
        "from langchain_core.messages import BaseMessage\n",
        "\n",
        "class AgentState(TypedDict):\n",
        "  messages: Annotated[list, add_messages]"
      ]
    },
    {
      "cell_type": "markdown",
      "metadata": {
        "id": "vWsMhfO9grLu"
      },
      "source": [
        "## Task 5: It's Graphing Time!\n",
        "\n",
        "Now that we have state, and we have tools, and we have an LLM - we can finally start making our graph!\n",
        "\n",
        "Let's take a second to refresh ourselves about what a graph is in this context.\n",
        "\n",
        "Graphs, also called networks in some circles, are a collection of connected objects.\n",
        "\n",
        "The objects in question are typically called nodes, or vertices, and the connections are called edges.\n",
        "\n",
        "Let's look at a simple graph.\n",
        "\n",
        "![image](https://i.imgur.com/2NFLnIc.png)\n",
        "\n",
        "Here, we're using the coloured circles to represent the nodes and the yellow lines to represent the edges. In this case, we're looking at a fully connected graph - where each node is connected by an edge to each other node.\n",
        "\n",
        "If we were to think about nodes in the context of LangGraph - we would think of a function, or an LCEL runnable.\n",
        "\n",
        "If we were to think about edges in the context of LangGraph - we might think of them as \"paths to take\" or \"where to pass our state object next\".\n",
        "\n",
        "Let's create some nodes and expand on our diagram.\n",
        "\n",
        "> NOTE: Due to the tight integration with LCEL - we can comfortably create our nodes in an async fashion!"
      ]
    },
    {
      "cell_type": "code",
      "execution_count": 8,
      "metadata": {
        "id": "91flJWtZLUrl"
      },
      "outputs": [],
      "source": [
        "from langgraph.prebuilt import ToolNode\n",
        "\n",
        "def call_model(state):\n",
        "  messages = state[\"messages\"]\n",
        "  response = model.invoke(messages)\n",
        "  return {\"messages\" : [response]}\n",
        "\n",
        "tool_node = ToolNode(tool_belt)"
      ]
    },
    {
      "cell_type": "code",
      "execution_count": null,
      "metadata": {},
      "outputs": [],
      "source": []
    },
    {
      "cell_type": "markdown",
      "metadata": {
        "id": "2bwR7MgWj3Wg"
      },
      "source": [
        "Now we have two total nodes. We have:\n",
        "\n",
        "- `call_model` is a node that will...well...call the model\n",
        "- `tool_node` is a node which can call a tool\n",
        "\n",
        "Let's start adding nodes! We'll update our diagram along the way to keep track of what this looks like!\n"
      ]
    },
    {
      "cell_type": "code",
      "execution_count": 9,
      "metadata": {
        "colab": {
          "base_uri": "https://localhost:8080/"
        },
        "id": "_vF4_lgtmQNo",
        "outputId": "a4384377-8f7a-415f-be1b-fee6169cb101"
      },
      "outputs": [
        {
          "data": {
            "text/plain": [
              "<langgraph.graph.state.StateGraph at 0x111311be0>"
            ]
          },
          "execution_count": 9,
          "metadata": {},
          "output_type": "execute_result"
        }
      ],
      "source": [
        "from langgraph.graph import StateGraph, END\n",
        "\n",
        "uncompiled_graph = StateGraph(AgentState)\n",
        "\n",
        "uncompiled_graph.add_node(\"agent\", call_model)\n",
        "uncompiled_graph.add_node(\"action\", tool_node)"
      ]
    },
    {
      "cell_type": "markdown",
      "metadata": {
        "id": "b8CjRlbVmRpW"
      },
      "source": [
        "Let's look at what we have so far:\n",
        "\n",
        "![image](https://i.imgur.com/md7inqG.png)"
      ]
    },
    {
      "cell_type": "markdown",
      "metadata": {
        "id": "uaXHpPeSnOWC"
      },
      "source": [
        "Next, we'll add our entrypoint. All our entrypoint does is indicate which node is called first."
      ]
    },
    {
      "cell_type": "code",
      "execution_count": 10,
      "metadata": {
        "colab": {
          "base_uri": "https://localhost:8080/"
        },
        "id": "YGCbaYqRnmiw",
        "outputId": "5351807c-2ac7-4316-a3a3-878abeacd114"
      },
      "outputs": [
        {
          "data": {
            "text/plain": [
              "<langgraph.graph.state.StateGraph at 0x111311be0>"
            ]
          },
          "execution_count": 10,
          "metadata": {},
          "output_type": "execute_result"
        }
      ],
      "source": [
        "uncompiled_graph.set_entry_point(\"agent\")"
      ]
    },
    {
      "cell_type": "markdown",
      "metadata": {
        "id": "BUsfGoSpoF9U"
      },
      "source": [
        "![image](https://i.imgur.com/wNixpJe.png)"
      ]
    },
    {
      "cell_type": "markdown",
      "metadata": {
        "id": "0Q_pQgHmoW0M"
      },
      "source": [
        "Now we want to build a \"conditional edge\" which will use the output state of a node to determine which path to follow.\n",
        "\n",
        "We can help conceptualize this by thinking of our conditional edge as a conditional in a flowchart!\n",
        "\n",
        "Notice how our function simply checks if there is a \"function_call\" kwarg present.\n",
        "\n",
        "Then we create an edge where the origin node is our agent node and our destination node is *either* the action node or the END (finish the graph).\n",
        "\n",
        "It's important to highlight that the dictionary passed in as the third parameter (the mapping) should be created with the possible outputs of our conditional function in mind. In this case `should_continue` outputs either `\"end\"` or `\"continue\"` which are subsequently mapped to the action node or the END node."
      ]
    },
    {
      "cell_type": "code",
      "execution_count": 11,
      "metadata": {
        "colab": {
          "base_uri": "https://localhost:8080/"
        },
        "id": "1BZgb81VQf9o",
        "outputId": "73a07c15-5f0b-40f2-b033-38b57d056dd8"
      },
      "outputs": [
        {
          "data": {
            "text/plain": [
              "<langgraph.graph.state.StateGraph at 0x111311be0>"
            ]
          },
          "execution_count": 11,
          "metadata": {},
          "output_type": "execute_result"
        }
      ],
      "source": [
        "def should_continue(state):\n",
        "  last_message = state[\"messages\"][-1]\n",
        "\n",
        "  if last_message.tool_calls:\n",
        "    return \"action\"\n",
        "\n",
        "  return END\n",
        "\n",
        "uncompiled_graph.add_conditional_edges(\n",
        "    \"agent\",\n",
        "    should_continue\n",
        ")"
      ]
    },
    {
      "cell_type": "markdown",
      "metadata": {
        "id": "-Cvhcf4jp0Ce"
      },
      "source": [
        "Let's visualize what this looks like.\n",
        "\n",
        "![image](https://i.imgur.com/8ZNwKI5.png)"
      ]
    },
    {
      "cell_type": "markdown",
      "metadata": {
        "id": "yKCjWJCkrJb9"
      },
      "source": [
        "Finally, we can add our last edge which will connect our action node to our agent node. This is because we *always* want our action node (which is used to call our tools) to return its output to our agent!"
      ]
    },
    {
      "cell_type": "code",
      "execution_count": 12,
      "metadata": {
        "colab": {
          "base_uri": "https://localhost:8080/"
        },
        "id": "UvcgbHf1rIXZ",
        "outputId": "45d4bdd6-d6bb-4a1d-bb79-cad43c130bf2"
      },
      "outputs": [
        {
          "data": {
            "text/plain": [
              "<langgraph.graph.state.StateGraph at 0x111311be0>"
            ]
          },
          "execution_count": 12,
          "metadata": {},
          "output_type": "execute_result"
        }
      ],
      "source": [
        "uncompiled_graph.add_edge(\"action\", \"agent\")"
      ]
    },
    {
      "cell_type": "markdown",
      "metadata": {
        "id": "EiWDwBQtrw7Z"
      },
      "source": [
        "Let's look at the final visualization.\n",
        "\n",
        "![image](https://i.imgur.com/NWO7usO.png)"
      ]
    },
    {
      "cell_type": "markdown",
      "metadata": {
        "id": "KYqDpErlsCsu"
      },
      "source": [
        "All that's left to do now is to compile our workflow - and we're off!"
      ]
    },
    {
      "cell_type": "code",
      "execution_count": 13,
      "metadata": {
        "id": "zt9-KS8DpzNx"
      },
      "outputs": [],
      "source": [
        "simple_agent_graph = uncompiled_graph.compile()"
      ]
    },
    {
      "cell_type": "markdown",
      "metadata": {
        "id": "xhNWIwBL1W4Q"
      },
      "source": [
        "#### ❓ Question #2:\n",
        "\n",
        "Is there any specific limit to how many times we can cycle?\n",
        "\n",
        "If not, how could we impose a limit to the number of cycles?\n",
        "\n",
        "##### ✅ Answer:\n",
        "\n",
        "## LangGraph Cycle Limits\n",
        "\n",
        "### Default Behavior\n",
        "By default this value is set to 25 steps. LangGraph has a built-in **recursion limit** that prevents infinite loops. Once the limit is reached, LangGraph will raise GraphRecursionError.\n",
        "\n",
        "### 1. Global Recursion Limit\n",
        "\n",
        "You can control the overall number of graph execution steps using the `recursion_limit` parameter:\n",
        "\n",
        "```python\n",
        "# Method 1: Pass at runtime\n",
        "graph.invoke(inputs, config={\"recursion_limit\": 10})\n",
        "\n",
        "# Method 2: Configure permanently  \n",
        "agent_with_limit = agent.with_config(recursion_limit=10)\n",
        "\n",
        "# Method 3: Handle exceptions\n",
        "from langgraph.errors import GraphRecursionError\n",
        "\n",
        "try:\n",
        "    response = graph.invoke(inputs, {\"recursion_limit\": 5})\n",
        "except GraphRecursionError:\n",
        "    print(\"Agent stopped due to max iterations.\")\n",
        "```\n",
        "\n",
        "### 2. Custom Cycle Counters in State\n",
        "\n",
        "For more granular control, implement custom counters within your state:\n",
        "\n",
        "```python\n",
        "from typing import TypedDict, Annotated\n",
        "from collections import defaultdict\n",
        "from langgraph.graph.message import add_messages\n",
        "\n",
        "class StateWithCounter(TypedDict):\n",
        "    messages: Annotated[list, add_messages]\n",
        "    iteration_count: int\n",
        "    step_counter: dict  # Track specific loops\n",
        "    max_iterations: int\n",
        "\n",
        "def should_continue(state: StateWithCounter) -> str:\n",
        "    messages = state[\"messages\"]\n",
        "    last_message = messages[-1]\n",
        "    \n",
        "    # Check global iteration limit\n",
        "    if state[\"iteration_count\"] >= state[\"max_iterations\"]:\n",
        "        return END\n",
        "    \n",
        "    # Check tool calls\n",
        "    if last_message.tool_calls:\n",
        "        return \"tools\"\n",
        "    return END\n",
        "\n",
        "def call_model(state: StateWithCounter):\n",
        "    messages = state[\"messages\"]\n",
        "    response = llm_with_tools.invoke(messages)\n",
        "    \n",
        "    # Increment counter\n",
        "    return {\n",
        "        \"messages\": [response],\n",
        "        \"iteration_count\": state[\"iteration_count\"] + 1\n",
        "    }\n",
        "```\n",
        "\n",
        "### 3. Node-Specific Loop Limits\n",
        "\n",
        "Track Iterations: Implement a counter within your custom class to monitor the number of iterations. Limit Iterations: Before proceeding with each iteration, check if the counter has reached the predefined maximum:\n",
        "\n",
        "```python\n",
        "class AgentState(TypedDict):\n",
        "    messages: Annotated[list, add_messages]\n",
        "    step_counter: dict[str, int]  # Per-node counters\n",
        "    max_tool_calls: int\n",
        "    max_analysis_steps: int\n",
        "\n",
        "def tool_decision_node(state: AgentState):\n",
        "    # Check specific tool call limit\n",
        "    tool_count = state[\"step_counter\"].get(\"tools\", 0)\n",
        "    \n",
        "    if tool_count >= state[\"max_tool_calls\"]:\n",
        "        return END\n",
        "        \n",
        "    # Update counter\n",
        "    new_counter = state[\"step_counter\"].copy()\n",
        "    new_counter[\"tools\"] = tool_count + 1\n",
        "    \n",
        "    return {\"step_counter\": new_counter}\n",
        "```\n",
        "\n",
        "### 4. Practical Implementation\n",
        "\n",
        "It also includes an iteration counter and a max_iterations limit to control how many times the workflow can loop, enabling iterative reasoning or decision-making by the agent:\n",
        "\n",
        "```python\n",
        "@dataclass\n",
        "class ComplexAgentState:\n",
        "    query: str = \"\"\n",
        "    context: str = \"\"\n",
        "    iteration: int = 0\n",
        "    max_iterations: int = 3\n",
        "    \n",
        "def analysis_node(state: ComplexAgentState):\n",
        "    if state.iteration >= state.max_iterations:\n",
        "        return {\"next_action\": \"finish\"}\n",
        "    \n",
        "    # Perform analysis\n",
        "    result = analyze_query(state.query)\n",
        "    \n",
        "    return {\n",
        "        \"context\": result,\n",
        "        \"iteration\": state.iteration + 1,\n",
        "        \"next_action\": \"continue\" if needs_more_analysis(result) else \"finish\"\n",
        "    }\n",
        "```\n",
        "\n",
        "### Bottom Line\n",
        "\n",
        "**No inherent cycle limit exists** beyond the global recursion limit. You can impose limits through:\n",
        "\n",
        "1. **Global approach**: recursion_limit value into your config object when invoking your graph like this: graph.invoke({...}, {\"recursion_limit\": 100})\n",
        "2. **Custom state counters**: Track iterations within your state and implement conditional logic in your `should_continue` functions\n",
        "3. **Node-specific limits**: You can pass {\"recursion_limit\": 15} for example to limit the graph loop iterations globally, or use per-node counters for granular control\n",
        "\n",
        "The custom state approach gives you the most flexibility, allowing different limits for different types of operations while maintaining full control over the agent's behavior."
      ]
    },
    {
      "cell_type": "markdown",
      "metadata": {
        "id": "VEYcTShCsPaa"
      },
      "source": [
        "## Using Our Graph\n",
        "\n",
        "Now that we've created and compiled our graph - we can call it *just as we'd call any other* `Runnable`!\n",
        "\n",
        "Let's try out a few examples to see how it fairs:"
      ]
    },
    {
      "cell_type": "code",
      "execution_count": 14,
      "metadata": {
        "colab": {
          "base_uri": "https://localhost:8080/"
        },
        "id": "Qn4n37PQRPII",
        "outputId": "5eeedfae-089d-496e-e71f-071939fa5832"
      },
      "outputs": [
        {
          "name": "stdout",
          "output_type": "stream",
          "text": [
            "Receiving update from node: 'agent'\n",
            "[AIMessage(content='', additional_kwargs={'tool_calls': [{'id': 'call_RSN7ADZ1fAfLArxoXf7wZUUG', 'function': {'arguments': '{\"query\":\"current captain of the Winnipeg Jets\"}', 'name': 'tavily_search_results_json'}, 'type': 'function'}], 'refusal': None}, response_metadata={'token_usage': {'completion_tokens': 23, 'prompt_tokens': 162, 'total_tokens': 185, 'completion_tokens_details': {'accepted_prediction_tokens': 0, 'audio_tokens': 0, 'reasoning_tokens': 0, 'rejected_prediction_tokens': 0}, 'prompt_tokens_details': {'audio_tokens': 0, 'cached_tokens': 0}}, 'model_name': 'gpt-4.1-nano-2025-04-14', 'system_fingerprint': 'fp_38343a2f8f', 'id': 'chatcmpl-BrCdcXMHPSWUSsTEK59SDkEjIXZZ0', 'service_tier': 'default', 'finish_reason': 'tool_calls', 'logprobs': None}, id='run--bd0a8cb1-2576-429a-82d7-461d850cf08a-0', tool_calls=[{'name': 'tavily_search_results_json', 'args': {'query': 'current captain of the Winnipeg Jets'}, 'id': 'call_RSN7ADZ1fAfLArxoXf7wZUUG', 'type': 'tool_call'}], usage_metadata={'input_tokens': 162, 'output_tokens': 23, 'total_tokens': 185, 'input_token_details': {'audio': 0, 'cache_read': 0}, 'output_token_details': {'audio': 0, 'reasoning': 0}})]\n",
            "\n",
            "\n",
            "\n",
            "Receiving update from node: 'action'\n",
            "[ToolMessage(content='[{\"title\": \"Winnipeg Jets - Wikipedia\", \"url\": \"https://en.wikipedia.org/wiki/Winnipeg_Jets\", \"content\": \"|  v  t  e  Winnipeg Jets | |\\\\n| --- | --- |\\\\n|  Formerly the Atlanta Thrashers  Founded in 1999  Based in Winnipeg, Manitoba | |\\\\n| Franchise |  Team  General managers  Coaches  Players  Captains  Draft picks   + expansion draft  Seasons  Current season |\\\\n| History |  Records  Award winners  Broadcasters |\\\\n| Personnel | Owner(s)  True North Sports & Entertainment (Mark Chipman, chairman)  General manager  Kevin Cheveldayoff  Head coach  Scott Arniel  Team captain  Adam Lowry  Current roster | [...] the draft lottery, which they used to select Finnish prospect Patrik Laine. Later that summer, the team appointed Blake Wheeler as their new captain. [...] In the 2021–22 season, the Jets finished a disappointing sixth in the Central Division, missing the playoffs. At the start of the 2022–23 season, forward Blake Wheeler was stripped of the team captaincy. The Jets then clinched the 2023 playoffs at the end of the regular season, but were defeated by the eventual Stanley Cup champion Vegas Golden Knights in five games in the first round. Before the start of the 2023–24 season, forward Adam Lowry was appointed team captain. The Jets then clinched\", \"score\": 0.885404}, {\"title\": \"Jets Name Adam Lowry as Team Captain - The Hockey News\", \"url\": \"https://thehockeynews.com/nhl/winnipeg-jets/news/jets-name-adam-lowry-as-team-captain\", \"content\": \"After going captain-less in 2022-23, the Winnipeg Jets unveiled Adam Lowry as the club\\'s new captain on Tuesday morning.\", \"score\": 0.8851659}, {\"title\": \"Adam Lowry named Jets captain | Winnipeg Jets - NHL.com\", \"url\": \"https://www.nhl.com/jets/news/adam-lowry-named-jets-captain\", \"content\": \"That honour was given to Winnipeg Jet forward Adam Lowry officially Tuesday morning as he becomes the third captain in franchise history since the team moved here from Atlanta. He follows Andrew Ladd and Blake Wheeler who served as captain for five and six years respectively.\\\\n\\\\nâ\\x80\\x9cWhen I found out, I was pretty excited, almost a little speechless. Itâ\\x80\\x99s something growing up you kind of can dream about and something that seems almost unattainable,â\\x80\\x9d said Lowry. [...] â\\x80\\x9cHeâ\\x80\\x99s a true professional, he has total respect from every player on the team, every player around the league and certainly from the coaching staff as well. We just feel at this point itâ\\x80\\x99s the right time to name Adam as our captain.â\\x80\\x9d [...] â\\x80\\x9cGetting to be a captain of a Canadian NHL team is pretty special and something Iâ\\x80\\x99m really looking forward too.â\\x80\\x9d\", \"score\": 0.8449346}, {\"title\": \"Lowry named Jets captain, replaces Wheeler | NHL.com\", \"url\": \"https://www.nhl.com/news/adam-lowry-named-winnipeg-captain\", \"content\": \"NHL logo\\\\nNHL logo\\\\n\\\\n# Lowry named Jets captain, replaces Wheeler\\\\n\\\\n30-year-old forward entering 10th season with Winnipeg\\\\n\\\\nLowry_Jets\\\\n\\\\nAdam Lowry was named captain of the Winnipeg Jets on Tuesday.\\\\n\\\\nThe 30-year-old forward was selected by the Jets in the third round (No. 67) of the 2011 NHL Draft and has played his entire nine-season NHL career with Winnipeg. [...] Lowry replaces Blake Wheeler, who was removed as captain Sept. 16, 2022, and signed with the New York Rangers after having his contract bought out this offseason. The Jets opted for three alternate captains last season; Lowry, forward Mark Scheifele and defenseman Josh Morrissey. Coach Rick Bowness said Scheifele and Morrissey will remain alternate captains.\", \"score\": 0.84027237}, {\"title\": \"Winnipeg Jets Captain To Miss Start of Next Season - Sports Illustrated\", \"url\": \"https://www.si.com/onsi/breakaway/news-feed-page/winnipeg-jets-adam-lowry-miss-start-next-season\", \"content\": \"The Winnipeg Jets fell short of expectations after winning the 2024-25 Presidentâ\\x80\\x99s Trophy, but they are retooling and looking forward to next season. Despite the high hopes, the Jets will likely have to start the 2025-26 season without their captain.\\\\n\\\\nThe Jets announced that captain Adam Lowry underwent a successful hip surgery and is expected to be sidelined for five to six months. Lowry played 73 games during the 2024-25 regular season and didnâ\\x80\\x99t miss a single playoff game. [...] The following is a statement from the Winnipeg Jets Hockey Club regarding Captain Adam Lowry: pic.twitter.com/t6S7wajrKq\\\\n\\\\nLowry never showed signs of needing postseason surgery, averaging almost 17:30 in ice time throughout the playoffs.\\\\n\\\\nIn 13 playoff games this season, Lowry scored four goals, including the double overtime game-winner in Game 7 of their opening-round series against the St. Louis Blues.\", \"score\": 0.8361405}]', name='tavily_search_results_json', id='432f1cfb-929d-43f8-a8a7-34e0eb7265e4', tool_call_id='call_RSN7ADZ1fAfLArxoXf7wZUUG', artifact={'query': 'current captain of the Winnipeg Jets', 'follow_up_questions': None, 'answer': None, 'images': [], 'results': [{'url': 'https://en.wikipedia.org/wiki/Winnipeg_Jets', 'title': 'Winnipeg Jets - Wikipedia', 'content': '|  v  t  e  Winnipeg Jets | |\\n| --- | --- |\\n|  Formerly the Atlanta Thrashers  Founded in 1999  Based in Winnipeg, Manitoba | |\\n| Franchise |  Team  General managers  Coaches  Players  Captains  Draft picks   + expansion draft  Seasons  Current season |\\n| History |  Records  Award winners  Broadcasters |\\n| Personnel | Owner(s)  True North Sports & Entertainment (Mark Chipman, chairman)  General manager  Kevin Cheveldayoff  Head coach  Scott Arniel  Team captain  Adam Lowry  Current roster | [...] the draft lottery, which they used to select Finnish prospect Patrik Laine. Later that summer, the team appointed Blake Wheeler as their new captain. [...] In the 2021–22 season, the Jets finished a disappointing sixth in the Central Division, missing the playoffs. At the start of the 2022–23 season, forward Blake Wheeler was stripped of the team captaincy. The Jets then clinched the 2023 playoffs at the end of the regular season, but were defeated by the eventual Stanley Cup champion Vegas Golden Knights in five games in the first round. Before the start of the 2023–24 season, forward Adam Lowry was appointed team captain. The Jets then clinched', 'score': 0.885404, 'raw_content': None}, {'url': 'https://thehockeynews.com/nhl/winnipeg-jets/news/jets-name-adam-lowry-as-team-captain', 'title': 'Jets Name Adam Lowry as Team Captain - The Hockey News', 'content': \"After going captain-less in 2022-23, the Winnipeg Jets unveiled Adam Lowry as the club's new captain on Tuesday morning.\", 'score': 0.8851659, 'raw_content': None}, {'url': 'https://www.nhl.com/jets/news/adam-lowry-named-jets-captain', 'title': 'Adam Lowry named Jets captain | Winnipeg Jets - NHL.com', 'content': 'That honour was given to Winnipeg Jet forward Adam Lowry officially Tuesday morning as he becomes the third captain in franchise history since the team moved here from Atlanta. He follows Andrew Ladd and Blake Wheeler who served as captain for five and six years respectively.\\n\\nâ\\x80\\x9cWhen I found out, I was pretty excited, almost a little speechless. Itâ\\x80\\x99s something growing up you kind of can dream about and something that seems almost unattainable,â\\x80\\x9d said Lowry. [...] â\\x80\\x9cHeâ\\x80\\x99s a true professional, he has total respect from every player on the team, every player around the league and certainly from the coaching staff as well. We just feel at this point itâ\\x80\\x99s the right time to name Adam as our captain.â\\x80\\x9d [...] â\\x80\\x9cGetting to be a captain of a Canadian NHL team is pretty special and something Iâ\\x80\\x99m really looking forward too.â\\x80\\x9d', 'score': 0.8449346, 'raw_content': None}, {'url': 'https://www.nhl.com/news/adam-lowry-named-winnipeg-captain', 'title': 'Lowry named Jets captain, replaces Wheeler | NHL.com', 'content': 'NHL logo\\nNHL logo\\n\\n# Lowry named Jets captain, replaces Wheeler\\n\\n30-year-old forward entering 10th season with Winnipeg\\n\\nLowry_Jets\\n\\nAdam Lowry was named captain of the Winnipeg Jets on Tuesday.\\n\\nThe 30-year-old forward was selected by the Jets in the third round (No. 67) of the 2011 NHL Draft and has played his entire nine-season NHL career with Winnipeg. [...] Lowry replaces Blake Wheeler, who was removed as captain Sept. 16, 2022, and signed with the New York Rangers after having his contract bought out this offseason. The Jets opted for three alternate captains last season; Lowry, forward Mark Scheifele and defenseman Josh Morrissey. Coach Rick Bowness said Scheifele and Morrissey will remain alternate captains.', 'score': 0.84027237, 'raw_content': None}, {'url': 'https://www.si.com/onsi/breakaway/news-feed-page/winnipeg-jets-adam-lowry-miss-start-next-season', 'title': 'Winnipeg Jets Captain To Miss Start of Next Season - Sports Illustrated', 'content': 'The Winnipeg Jets fell short of expectations after winning the 2024-25 Presidentâ\\x80\\x99s Trophy, but they are retooling and looking forward to next season. Despite the high hopes, the Jets will likely have to start the 2025-26 season without their captain.\\n\\nThe Jets announced that captain Adam Lowry underwent a successful hip surgery and is expected to be sidelined for five to six months. Lowry played 73 games during the 2024-25 regular season and didnâ\\x80\\x99t miss a single playoff game. [...] The following is a statement from the Winnipeg Jets Hockey Club regarding Captain Adam Lowry: pic.twitter.com/t6S7wajrKq\\n\\nLowry never showed signs of needing postseason surgery, averaging almost 17:30 in ice time throughout the playoffs.\\n\\nIn 13 playoff games this season, Lowry scored four goals, including the double overtime game-winner in Game 7 of their opening-round series against the St. Louis Blues.', 'score': 0.8361405, 'raw_content': None}], 'response_time': 3.85})]\n",
            "\n",
            "\n",
            "\n",
            "Receiving update from node: 'agent'\n",
            "[AIMessage(content='The current captain of the Winnipeg Jets is Adam Lowry.', additional_kwargs={'refusal': None}, response_metadata={'token_usage': {'completion_tokens': 13, 'prompt_tokens': 1363, 'total_tokens': 1376, 'completion_tokens_details': {'accepted_prediction_tokens': 0, 'audio_tokens': 0, 'reasoning_tokens': 0, 'rejected_prediction_tokens': 0}, 'prompt_tokens_details': {'audio_tokens': 0, 'cached_tokens': 0}}, 'model_name': 'gpt-4.1-nano-2025-04-14', 'system_fingerprint': 'fp_38343a2f8f', 'id': 'chatcmpl-BrCdhcw1NnfNj5aGYuYe0YLAIkts5', 'service_tier': 'default', 'finish_reason': 'stop', 'logprobs': None}, id='run--097c5732-0729-4db9-901d-10a4286fb955-0', usage_metadata={'input_tokens': 1363, 'output_tokens': 13, 'total_tokens': 1376, 'input_token_details': {'audio': 0, 'cache_read': 0}, 'output_token_details': {'audio': 0, 'reasoning': 0}})]\n",
            "\n",
            "\n",
            "\n"
          ]
        }
      ],
      "source": [
        "from langchain_core.messages import HumanMessage\n",
        "\n",
        "inputs = {\"messages\" : [HumanMessage(content=\"Who is the current captain of the Winnipeg Jets?\")]}\n",
        "\n",
        "async for chunk in simple_agent_graph.astream(inputs, stream_mode=\"updates\"):\n",
        "    for node, values in chunk.items():\n",
        "        print(f\"Receiving update from node: '{node}'\")\n",
        "        print(values[\"messages\"])\n",
        "        print(\"\\n\\n\")"
      ]
    },
    {
      "cell_type": "markdown",
      "metadata": {
        "id": "DBHnUtLSscRr"
      },
      "source": [
        "Let's look at what happened:\n",
        "\n",
        "1. Our state object was populated with our request\n",
        "2. The state object was passed into our entry point (agent node) and the agent node added an `AIMessage` to the state object and passed it along the conditional edge\n",
        "3. The conditional edge received the state object, found the \"tool_calls\" `additional_kwarg`, and sent the state object to the action node\n",
        "4. The action node added the response from the OpenAI function calling endpoint to the state object and passed it along the edge to the agent node\n",
        "5. The agent node added a response to the state object and passed it along the conditional edge\n",
        "6. The conditional edge received the state object, could not find the \"tool_calls\" `additional_kwarg` and passed the state object to END where we see it output in the cell above!\n",
        "\n",
        "Now let's look at an example that shows a multiple tool usage - all with the same flow!"
      ]
    },
    {
      "cell_type": "code",
      "execution_count": 15,
      "metadata": {
        "colab": {
          "base_uri": "https://localhost:8080/"
        },
        "id": "afv2BuEsV5JG",
        "outputId": "ff009536-d281-4a56-c126-9cd245352bfe"
      },
      "outputs": [
        {
          "name": "stdout",
          "output_type": "stream",
          "text": [
            "Receiving update from node: 'agent'\n",
            "[AIMessage(content='', additional_kwargs={'tool_calls': [{'id': 'call_ZiRCPFRMrk5STyAjwroPWyPi', 'function': {'arguments': '{\"query\": \"QLoRA\"}', 'name': 'arxiv'}, 'type': 'function'}, {'id': 'call_bxELJtaBCWhl2BnMAPZoR88N', 'function': {'arguments': '{\"query\": \"latest Tweet of author\"}', 'name': 'tavily_search_results_json'}, 'type': 'function'}], 'refusal': None}, response_metadata={'token_usage': {'completion_tokens': 54, 'prompt_tokens': 178, 'total_tokens': 232, 'completion_tokens_details': {'accepted_prediction_tokens': 0, 'audio_tokens': 0, 'reasoning_tokens': 0, 'rejected_prediction_tokens': 0}, 'prompt_tokens_details': {'audio_tokens': 0, 'cached_tokens': 0}}, 'model_name': 'gpt-4.1-nano-2025-04-14', 'system_fingerprint': 'fp_38343a2f8f', 'id': 'chatcmpl-BrCdjlP6gVFvl3dKrlIWJo4c6r0nn', 'service_tier': 'default', 'finish_reason': 'tool_calls', 'logprobs': None}, id='run--0d924770-5c85-4755-8e49-087aa6cce9b3-0', tool_calls=[{'name': 'arxiv', 'args': {'query': 'QLoRA'}, 'id': 'call_ZiRCPFRMrk5STyAjwroPWyPi', 'type': 'tool_call'}, {'name': 'tavily_search_results_json', 'args': {'query': 'latest Tweet of author'}, 'id': 'call_bxELJtaBCWhl2BnMAPZoR88N', 'type': 'tool_call'}], usage_metadata={'input_tokens': 178, 'output_tokens': 54, 'total_tokens': 232, 'input_token_details': {'audio': 0, 'cache_read': 0}, 'output_token_details': {'audio': 0, 'reasoning': 0}})]\n",
            "\n",
            "\n",
            "\n",
            "Receiving update from node: 'action'\n",
            "Tool Used: arxiv\n",
            "[ToolMessage(content='Published: 2023-05-23\\nTitle: QLoRA: Efficient Finetuning of Quantized LLMs\\nAuthors: Tim Dettmers, Artidoro Pagnoni, Ari Holtzman, Luke Zettlemoyer\\nSummary: We present QLoRA, an efficient finetuning approach that reduces memory usage\\nenough to finetune a 65B parameter model on a single 48GB GPU while preserving\\nfull 16-bit finetuning task performance. QLoRA backpropagates gradients through\\na frozen, 4-bit quantized pretrained language model into Low Rank\\nAdapters~(LoRA). Our best model family, which we name Guanaco, outperforms all\\nprevious openly released models on the Vicuna benchmark, reaching 99.3% of the\\nperformance level of ChatGPT while only requiring 24 hours of finetuning on a\\nsingle GPU. QLoRA introduces a number of innovations to save memory without\\nsacrificing performance: (a) 4-bit NormalFloat (NF4), a new data type that is\\ninformation theoretically optimal for normally distributed weights (b) double\\nquantization to reduce the average memory footprint by quantizing the\\nquantization constants, and (c) paged optimziers to manage memory spikes. We\\nuse QLoRA to finetune more than 1,000 models, providing a detailed analysis of\\ninstruction following and chatbot performance across 8 instruction datasets,\\nmultiple model types (LLaMA, T5), and model scales that would be infeasible to\\nrun with regular finetuning (e.g. 33B and 65B parameter models). Our results\\nshow that QLoRA finetuning on a small high-quality dataset leads to\\nstate-of-the-art results, even when using smaller models than the previous\\nSoTA. We provide a detailed analysis of chatbot performance based on both human\\nand GPT-4 evaluations showing that GPT-4 evaluations are a cheap and reasonable\\nalternative to human evaluation. Furthermore, we find that current chatbot\\nbenchmarks are not trustworthy to accurately evaluate the performance levels of\\nchatbots. A lemon-picked analysis demonstrates where Guanaco fails compared to\\nChatGPT. We release all of our models and code, including CUDA kernels for\\n4-bit training.\\n\\nPublished: 2024-05-27\\nTitle: Accurate LoRA-Finetuning Quantization of LLMs via Information Retention\\nAuthors: Haotong Qin, Xudong Ma, Xingyu Zheng, Xiaoyang Li, Yang Zhang, Shouda Liu, Jie Luo, Xianglong Liu, Michele Magno\\nSummary: The LoRA-finetuning quantization of LLMs has been extensively studied to\\nobtain accurate yet compact LLMs for deployment on resource-constrained\\nhardware. However, existing methods cause the quantized LLM to severely degrade\\nand even fail to benefit from the finetuning of LoRA. This paper proposes a\\nnovel IR-QLoRA for pushing quantized LLMs with LoRA to be highly accurate\\nthrough information retention. The proposed IR-QLoRA mainly relies on two\\ntechnologies derived from the perspective of unified information: (1)\\nstatistics-based Information Calibration Quantization allows the quantized\\nparameters of LLM to retain original information accurately; (2)\\nfinetuning-based Information Elastic Connection makes LoRA utilizes elastic\\nrepresentation transformation with diverse information. Comprehensive\\nexperiments show that IR-QLoRA can significantly improve accuracy across LLaMA\\nand LLaMA2 families under 2-4 bit-widths, e.g., 4- bit LLaMA-7B achieves 1.4%\\nimprovement on MMLU compared with the state-of-the-art methods. The significant\\nperformance gain requires only a tiny 0.31% additional time consumption,\\nrevealing the satisfactory efficiency of our IR-QLoRA. We highlight that\\nIR-QLoRA enjoys excellent versatility, compatible with various frameworks\\n(e.g., NormalFloat and Integer quantization) and brings general accuracy gains.\\nThe code is available at https://github.com/htqin/ir-qlora.\\n\\nPublished: 2025-02-05\\nTitle: Resource-Efficient & Effective Code Summarization\\nAuthors: Saima Afrin, Joseph Call, Khai-Nguyen Nguyen, Oscar Chaparro, Antonio Mastropaolo\\nSummary: Code Language Models (CLMs) have demonstrated high effectiveness in\\nautomating software engineering tasks such as bug fixing, code generation, and\\ncode documentation. This ', name='arxiv', id='336d80f2-7335-43db-a816-f54f67a432ea', tool_call_id='call_ZiRCPFRMrk5STyAjwroPWyPi'), ToolMessage(content='[{\"title\": \"Sharon D. Tweet, author - Facebook\", \"url\": \"https://www.facebook.com/SharonDTweetAuthor/\", \"content\": \"Sharon D. Tweet, author. 3654 likes · 10 talking about this. Author of Contemporary Christian Inspirational Romance. #LiveYourFaithBoldly & #loveonpurpose.\", \"score\": 0.49846253}, {\"title\": \"Ray Dalio (@RayDalio) / X\", \"url\": \"https://twitter.com/RayDalio\", \"content\": \"Official account of Ray Dalio, founder of Bridgewater Associates, author of #1 New York Times bestseller \\'Principles,\\' professional mistake maker.\", \"score\": 0.4352539}, {\"title\": \"Author to Author (@author2authors) / X\", \"url\": \"https://twitter.com/author2authors\", \"content\": \"Account for #author community benefit. Tweet about authors New Release. #readers and #author join #a2a to support author\\'s #BookRelease\", \"score\": 0.3895703}, {\"title\": \"Paul Vigna (@paulvigna) / X\", \"url\": \"https://twitter.com/paulvigna\", \"content\": \"Author, The Age of Cryptocurrency. Next book: The Almightier. Preorder it now. (Also, the blue checkmark was given back to me; I\\'m not paying for it.)\", \"score\": 0.37800032}, {\"title\": \"Angie Thomas (@angiecthomas) / X\", \"url\": \"https://twitter.com/angiecthomas\", \"content\": \"2nd grader Savanah loves learning about Rosa Parks. Author Angie Thomas reminds us how stories like “The Hate U Give” empower young voices. Read about the books\", \"score\": 0.363173}]', name='tavily_search_results_json', id='444ccc13-7331-4267-b7c6-72988cf3bb28', tool_call_id='call_bxELJtaBCWhl2BnMAPZoR88N', artifact={'query': 'latest Tweet of author', 'follow_up_questions': None, 'answer': None, 'images': [], 'results': [{'url': 'https://www.facebook.com/SharonDTweetAuthor/', 'title': 'Sharon D. Tweet, author - Facebook', 'content': 'Sharon D. Tweet, author. 3654 likes · 10 talking about this. Author of Contemporary Christian Inspirational Romance. #LiveYourFaithBoldly & #loveonpurpose.', 'score': 0.49846253, 'raw_content': None}, {'url': 'https://twitter.com/RayDalio', 'title': 'Ray Dalio (@RayDalio) / X', 'content': \"Official account of Ray Dalio, founder of Bridgewater Associates, author of #1 New York Times bestseller 'Principles,' professional mistake maker.\", 'score': 0.4352539, 'raw_content': None}, {'url': 'https://twitter.com/author2authors', 'title': 'Author to Author (@author2authors) / X', 'content': \"Account for #author community benefit. Tweet about authors New Release. #readers and #author join #a2a to support author's #BookRelease\", 'score': 0.3895703, 'raw_content': None}, {'url': 'https://twitter.com/paulvigna', 'title': 'Paul Vigna (@paulvigna) / X', 'content': \"Author, The Age of Cryptocurrency. Next book: The Almightier. Preorder it now. (Also, the blue checkmark was given back to me; I'm not paying for it.)\", 'score': 0.37800032, 'raw_content': None}, {'url': 'https://twitter.com/angiecthomas', 'title': 'Angie Thomas (@angiecthomas) / X', 'content': '2nd grader Savanah loves learning about Rosa Parks. Author Angie Thomas reminds us how stories like “The Hate U Give” empower young voices. Read about the books', 'score': 0.363173, 'raw_content': None}], 'response_time': 2.96})]\n",
            "\n",
            "\n",
            "\n",
            "Receiving update from node: 'agent'\n",
            "[AIMessage(content='I found the QLoRA paper on Arxiv, titled \"QLoRA: Efficient Finetuning of Quantized LLMs,\" authored by Tim Dettmers, Artidoro Pagnoni, Ari Holtzman, and Luke Zettlemoyer. \\n\\nRegarding the authors\\' latest Tweets:\\n- Sharon D. Tweet: [Facebook](https://www.facebook.com/SharonDTweetAuthor/)\\n- Ray Dalio: [Twitter](https://twitter.com/RayDalio)\\n- Author to Author: [Twitter](https://twitter.com/author2authors)\\n- Paul Vigna: [Twitter](https://twitter.com/paulvigna)\\n- Angie Thomas: [Twitter](https://twitter.com/angiecthomas)\\n\\nWould you like more detailed information on any of these?', additional_kwargs={'refusal': None}, response_metadata={'token_usage': {'completion_tokens': 163, 'prompt_tokens': 1595, 'total_tokens': 1758, 'completion_tokens_details': {'accepted_prediction_tokens': 0, 'audio_tokens': 0, 'reasoning_tokens': 0, 'rejected_prediction_tokens': 0}, 'prompt_tokens_details': {'audio_tokens': 0, 'cached_tokens': 0}}, 'model_name': 'gpt-4.1-nano-2025-04-14', 'system_fingerprint': 'fp_38343a2f8f', 'id': 'chatcmpl-BrCdofE25s4l7PsZtY5DLpEidnTJE', 'service_tier': 'default', 'finish_reason': 'stop', 'logprobs': None}, id='run--b46d718b-8788-4def-977d-3e7005bf5916-0', usage_metadata={'input_tokens': 1595, 'output_tokens': 163, 'total_tokens': 1758, 'input_token_details': {'audio': 0, 'cache_read': 0}, 'output_token_details': {'audio': 0, 'reasoning': 0}})]\n",
            "\n",
            "\n",
            "\n"
          ]
        }
      ],
      "source": [
        "inputs = {\"messages\" : [HumanMessage(content=\"Search Arxiv for the QLoRA paper, then search each of the authors to find out their latest Tweet using Tavily!\")]}\n",
        "\n",
        "async for chunk in simple_agent_graph.astream(inputs, stream_mode=\"updates\"):\n",
        "    for node, values in chunk.items():\n",
        "        print(f\"Receiving update from node: '{node}'\")\n",
        "        if node == \"action\":\n",
        "          print(f\"Tool Used: {values['messages'][0].name}\")\n",
        "        print(values[\"messages\"])\n",
        "\n",
        "        print(\"\\n\\n\")"
      ]
    },
    {
      "cell_type": "markdown",
      "metadata": {
        "id": "CXzDlZVz1Hnf"
      },
      "source": [
        "#### 🏗️ Activity #2:\n",
        "\n",
        "Please write out the steps the agent took to arrive at the correct answer.\n",
        "\n",
        "##### ✅ Answer:\n",
        "\n",
        "Here are the steps the agent took to answer the query **\"Search Arxiv for the QLoRA paper, then search each of the authors to find out their latest Tweet using Tavily!\"**:\n",
        "\n",
        "## Step-by-Step Agent Execution\n",
        "\n",
        "### 1. **Initial Query Analysis**\n",
        "The agent received a complex multi-part request requiring two different information sources:\n",
        "- Academic paper search (Arxiv)\n",
        "- Social media/web search (Tavily)\n",
        "\n",
        "### 2. **Parallel Tool Selection**\n",
        "The agent made a smart decision to call **both tools simultaneously** rather than sequentially:\n",
        "\n",
        "```python\n",
        "tool_calls=[\n",
        "    {'name': 'arxiv', 'args': {'query': 'QLoRA'}},\n",
        "    {'name': 'tavily_search_results_json', 'args': {'query': 'latest Tweet of author'}}\n",
        "]\n",
        "```\n",
        "\n",
        "### 3. **Tool Execution Phase**\n",
        "**Action Node** executed both tools:\n",
        "\n",
        "- **ArxivQueryRun**: Retrieved detailed information about QLoRA papers, including:\n",
        "  - Main paper: \"QLoRA: Efficient Finetuning of Quantized LLMs\" \n",
        "  - Authors: Tim Dettmers, Artidoro Pagnoni, Ari Holtzman, Luke Zettlemoyer\n",
        "  - Publication date: 2023-05-23\n",
        "  - Technical details about the approach\n",
        "\n",
        "- **TavilySearchResults**: Searched for \"latest Tweet of author\" but returned generic results about various authors rather than specific tweets from the QLoRA paper authors\n",
        "\n",
        "### 4. **Information Integration**\n",
        "The agent analyzed both tool outputs and recognized that:\n",
        "- The Arxiv search was successful and provided the target paper\n",
        "- The Tavily search didn't return specific tweets from the QLoRA authors\n",
        "- The search query was too generic (\"latest Tweet of author\")\n",
        "\n",
        "### 5. **Final Response Synthesis**\n",
        "The agent provided a structured response:\n",
        "- Confirmed finding the QLoRA paper with full citation details\n",
        "- Listed the authors found\n",
        "- Acknowledged the limitation in the tweet search results\n",
        "- Provided links to various author profiles found by Tavily\n",
        "\n",
        "## Key Insights\n",
        "\n",
        "**Parallel Processing**: The agent efficiently used both tools simultaneously rather than waiting for sequential execution.\n",
        "\n",
        "**Query Interpretation**: The agent understood that \"latest Tweet of author\" referred to the QLoRA paper authors, though the search wasn't specific enough.\n",
        "\n",
        "**Graceful Handling**: When the tweet search didn't return the expected results, the agent still provided useful information about author profiles.\n",
        "\n",
        "**Structured Output**: The final response clearly separated the successful Arxiv results from the less successful Twitter search results.\n",
        "\n",
        "This demonstrates LangGraph's ability to coordinate multiple tools and handle partial success scenarios while maintaining a coherent response structure."
      ]
    },
    {
      "cell_type": "markdown",
      "metadata": {},
      "source": [
        "# 🤝 Breakout Room #2"
      ]
    },
    {
      "cell_type": "markdown",
      "metadata": {
        "id": "v7c8-Uyarh1v"
      },
      "source": [
        "## Part 1: LangSmith Evaluator"
      ]
    },
    {
      "cell_type": "markdown",
      "metadata": {
        "id": "pV3XeFOT1Sar"
      },
      "source": [
        "### Pre-processing for LangSmith"
      ]
    },
    {
      "cell_type": "markdown",
      "metadata": {
        "id": "wruQCuzewUuO"
      },
      "source": [
        "To do a little bit more preprocessing, let's wrap our LangGraph agent in a simple chain."
      ]
    },
    {
      "cell_type": "code",
      "execution_count": 16,
      "metadata": {
        "id": "oeXdQgbxwhTv"
      },
      "outputs": [],
      "source": [
        "def convert_inputs(input_object):\n",
        "  return {\"messages\" : [HumanMessage(content=input_object[\"question\"])]}\n",
        "\n",
        "def parse_output(input_state):\n",
        "  return input_state[\"messages\"][-1].content\n",
        "\n",
        "agent_chain_with_formatting = convert_inputs | simple_agent_graph | parse_output"
      ]
    },
    {
      "cell_type": "code",
      "execution_count": 17,
      "metadata": {
        "colab": {
          "base_uri": "https://localhost:8080/",
          "height": 105
        },
        "id": "orYxBZXSxJjZ",
        "outputId": "76be837b-6424-4516-8f63-07fbd8c25bf5"
      },
      "outputs": [
        {
          "data": {
            "text/plain": [
              "\"RAG can refer to different concepts depending on the context. Could you please specify whether you're asking about RAG in the context of project management, machine learning, or another field?\""
            ]
          },
          "execution_count": 17,
          "metadata": {},
          "output_type": "execute_result"
        }
      ],
      "source": [
        "agent_chain_with_formatting.invoke({\"question\" : \"What is RAG?\"})"
      ]
    },
    {
      "cell_type": "markdown",
      "metadata": {
        "id": "f9UkCIqkpyZu"
      },
      "source": [
        "### Task 1: Creating An Evaluation Dataset\n",
        "\n",
        "Just as we saw last week, we'll want to create a dataset to test our Agent's ability to answer questions.\n",
        "\n",
        "In order to do this - we'll want to provide some questions and some answers. Let's look at how we can create such a dataset below.\n",
        "\n",
        "```python\n",
        "questions = [\n",
        "    \"What optimizer is used in QLoRA?\",\n",
        "    \"What data type was created in the QLoRA paper?\",\n",
        "    \"What is a Retrieval Augmented Generation system?\",\n",
        "    \"Who authored the QLoRA paper?\",\n",
        "    \"What is the most popular deep learning framework?\",\n",
        "    \"What significant improvements does the LoRA system make?\"\n",
        "]\n",
        "\n",
        "answers = [\n",
        "    {\"must_mention\" : [\"paged\", \"optimizer\"]},\n",
        "    {\"must_mention\" : [\"NF4\", \"NormalFloat\"]},\n",
        "    {\"must_mention\" : [\"ground\", \"context\"]},\n",
        "    {\"must_mention\" : [\"Tim\", \"Dettmers\"]},\n",
        "    {\"must_mention\" : [\"PyTorch\", \"TensorFlow\"]},\n",
        "    {\"must_mention\" : [\"reduce\", \"parameters\"]},\n",
        "]\n",
        "```"
      ]
    },
    {
      "cell_type": "markdown",
      "metadata": {
        "id": "VfMXF2KAsQxs"
      },
      "source": [
        "#### 🏗️ Activity #3:\n",
        "\n",
        "Please create a dataset in the above format with at least 5 questions."
      ]
    },
    {
      "cell_type": "code",
      "execution_count": 18,
      "metadata": {
        "id": "CbagRuJop83E"
      },
      "outputs": [],
      "source": [
        "questions = [\n",
        "    \"What optimizer is used in QLoRA?\",\n",
        "    \"What data type was created in the QLoRA paper?\",\n",
        "    \"What is a Retrieval Augmented Generation system?\",\n",
        "    \"Who authored the QLoRA paper?\",\n",
        "    \"What is the most popular deep learning framework?\",\n",
        "    \"What significant improvements does the LoRA system make?\"\n",
        "]\n",
        "\n",
        "answers = [\n",
        "    {\"must_mention\" : [\"paged\", \"optimizer\"]},\n",
        "    {\"must_mention\" : [\"NF4\", \"NormalFloat\"]},\n",
        "    {\"must_mention\" : [\"ground\", \"context\"]},\n",
        "    {\"must_mention\" : [\"Tim\", \"Dettmers\"]},\n",
        "    {\"must_mention\" : [\"PyTorch\", \"TensorFlow\"]},\n",
        "    {\"must_mention\" : [\"reduce\", \"parameters\"]},\n",
        "]"
      ]
    },
    {
      "cell_type": "markdown",
      "metadata": {
        "id": "z7QVFuAmsh7L"
      },
      "source": [
        "Now we can add our dataset to our LangSmith project using the following code which we saw last Thursday!"
      ]
    },
    {
      "cell_type": "code",
      "execution_count": 19,
      "metadata": {
        "id": "RLfrZrgSsn85"
      },
      "outputs": [
        {
          "data": {
            "text/plain": [
              "{'example_ids': ['14bfed01-8f31-4365-8efa-bce818d9f6c7',\n",
              "  'f932c488-9a4c-4fcd-8f55-a034a27d61ef',\n",
              "  '96279627-6209-4a7f-a158-cded03fe7809',\n",
              "  'a704243d-5c8c-4a8d-8a4b-358937accede',\n",
              "  'b1e60149-5ea1-42df-aa35-584ece34b20e',\n",
              "  '338b5881-783f-4cf4-8f10-2b922714b256'],\n",
              " 'count': 6}"
            ]
          },
          "execution_count": 19,
          "metadata": {},
          "output_type": "execute_result"
        }
      ],
      "source": [
        "from langsmith import Client\n",
        "\n",
        "client = Client()\n",
        "\n",
        "dataset_name = f\"Retrieval Augmented Generation - Evaluation Dataset - {uuid4().hex[0:8]}\"\n",
        "\n",
        "dataset = client.create_dataset(\n",
        "    dataset_name=dataset_name,\n",
        "    description=\"Questions about the QLoRA Paper to Evaluate RAG over the same paper.\"\n",
        ")\n",
        "\n",
        "client.create_examples(\n",
        "    inputs=[{\"question\" : q} for q in questions],\n",
        "    outputs=answers,\n",
        "    dataset_id=dataset.id,\n",
        ")"
      ]
    },
    {
      "cell_type": "markdown",
      "metadata": {
        "id": "ciV73F9Q04w0"
      },
      "source": [
        "#### ❓ Question #3:\n",
        "\n",
        "How are the correct answers associated with the questions?\n",
        "\n",
        "> NOTE: Feel free to indicate if this is problematic or not\n",
        "\n",
        "##### ✅ Answer:\n",
        "\n",
        "The correct answers are associated with questions through **positional indexing**. Here's how it works:\n",
        "\n",
        "## Association Method\n",
        "\n",
        "The questions and answers are linked by their **position in their respective arrays**:\n",
        "\n",
        "```python\n",
        "questions = [\n",
        "    \"What optimizer is used in QLoRA?\",                    # Index 0\n",
        "    \"What data type was created in the QLoRA paper?\",     # Index 1\n",
        "    \"What is a Retrieval Augmented Generation system?\",   # Index 2\n",
        "    \"Who authored the QLoRA paper?\",                      # Index 3\n",
        "    \"What is the most popular deep learning framework?\",  # Index 4\n",
        "    \"What significant improvements does the LoRA system make?\" # Index 5\n",
        "]\n",
        "\n",
        "answers = [\n",
        "    {\"must_mention\" : [\"paged\", \"optimizer\"]},      # Index 0 → matches question 0\n",
        "    {\"must_mention\" : [\"NF4\", \"NormalFloat\"]},      # Index 1 → matches question 1\n",
        "    {\"must_mention\" : [\"ground\", \"context\"]},       # Index 2 → matches question 2\n",
        "    {\"must_mention\" : [\"Tim\", \"Dettmers\"]},         # Index 3 → matches question 3\n",
        "    {\"must_mention\" : [\"PyTorch\", \"TensorFlow\"]},   # Index 4 → matches question 4\n",
        "    {\"must_mention\" : [\"reduce\", \"parameters\"]},    # Index 5 → matches question 5\n",
        "]\n",
        "```\n",
        "\n",
        "## LangSmith Dataset Creation\n",
        "\n",
        "The association is maintained when creating the dataset:\n",
        "\n",
        "```python\n",
        "client.create_examples(\n",
        "    inputs=[{\"question\" : q} for q in questions],  # Preserves order\n",
        "    outputs=answers,                               # Preserves order\n",
        "    dataset_id=dataset.id,\n",
        ")\n",
        "```\n",
        "\n",
        "####  ✅ Is This Problematic?\n",
        "\n",
        "**Yes, this approach has several potential issues:**\n",
        "\n",
        "1. **Fragile Ordering**: If you accidentally reorder one array but not the other, the associations break silently\n",
        "2. **Maintenance Risk**: Adding/removing questions requires careful synchronization of both arrays\n",
        "3. **Error-Prone**: No explicit validation that arrays have the same length\n",
        "4. **Poor Readability**: The relationship between questions and answers isn't immediately obvious\n",
        "\n",
        "## Better Approaches\n",
        "\n",
        "```python\n",
        "# Option 1: Combined data structure\n",
        "evaluation_data = [\n",
        "    {\n",
        "        \"question\": \"What optimizer is used in QLoRA?\",\n",
        "        \"must_mention\": [\"paged\", \"optimizer\"]\n",
        "    },\n",
        "    {\n",
        "        \"question\": \"What data type was created in the QLoRA paper?\",\n",
        "        \"must_mention\": [\"NF4\", \"NormalFloat\"]\n",
        "    }\n",
        "]\n",
        "\n",
        "# Option 2: Dictionary mapping\n",
        "qa_pairs = {\n",
        "    \"What optimizer is used in QLoRA?\": {\"must_mention\": [\"paged\", \"optimizer\"]},\n",
        "    \"What data type was created in the QLoRA paper?\": {\"must_mention\": [\"NF4\", \"NormalFloat\"]}\n",
        "}\n",
        "```\n",
        "\n",
        "The current positional approach works but is brittle and should be replaced with a more robust data structure for production use."
      ]
    },
    {
      "cell_type": "markdown",
      "metadata": {
        "id": "-lRTXUrTtP9Y"
      },
      "source": [
        "### Task 2: Adding Evaluators\n",
        "\n",
        "Now we can add a custom evaluator to see if our responses contain the expected information.\n",
        "\n",
        "We'll be using a fairly naive exact-match process to determine if our response contains specific strings."
      ]
    },
    {
      "cell_type": "code",
      "execution_count": 20,
      "metadata": {
        "id": "QrAUXMFftlAY"
      },
      "outputs": [],
      "source": [
        "from langsmith.evaluation import EvaluationResult, run_evaluator\n",
        "\n",
        "@run_evaluator\n",
        "def must_mention(run, example) -> EvaluationResult:\n",
        "    prediction = run.outputs.get(\"output\") or \"\"\n",
        "    required = example.outputs.get(\"must_mention\") or []\n",
        "    score = all(phrase in prediction for phrase in required)\n",
        "    return EvaluationResult(key=\"must_mention\", score=score)"
      ]
    },
    {
      "cell_type": "markdown",
      "metadata": {
        "id": "PNtHORUh0jZY"
      },
      "source": [
        "#### ❓ Question #4:\n",
        "\n",
        "What are some ways you could improve this metric as-is?\n",
        "\n",
        "> NOTE: Alternatively you can suggest where gaps exist in this method.\n",
        "\n",
        "##### ✅ Answer:\n",
        "\n",
        "## Current Method Limitations\n",
        "\n",
        "The current evaluator uses simple exact string matching:\n",
        "```python\n",
        "@run_evaluator\n",
        "def must_mention(run, example) -> EvaluationResult:\n",
        "    prediction = run.outputs.get(\"output\") or \"\"\n",
        "    required = example.outputs.get(\"must_mention\") or []\n",
        "    score = all(phrase in prediction for phrase in required)\n",
        "    return EvaluationResult(key=\"must_mention\", score=score)\n",
        "```\n",
        "\n",
        "## Major Gaps & Improvements\n",
        "\n",
        "### 1. **Case Sensitivity Issues**\n",
        "```python\n",
        "# Current: Fails if case doesn't match exactly\n",
        "# \"Tim Dettmers\" vs \"tim dettmers\" → False\n",
        "\n",
        "# Improved:\n",
        "score = all(phrase.lower() in prediction.lower() for phrase in required)\n",
        "```\n",
        "\n",
        "### 2. **Partial Word Matching Problems**\n",
        "```python\n",
        "# Current: \"paged\" matches \"paged optimizer\" but also \"damaged\" \n",
        "# Need word boundary checking:\n",
        "import re\n",
        "score = all(re.search(r'\\b' + re.escape(phrase) + r'\\b', prediction, re.IGNORECASE) \n",
        "           for phrase in required)\n",
        "```\n",
        "\n",
        "### 3. **Synonyms and Semantic Equivalence**\n",
        "```python\n",
        "# Current: Misses semantically equivalent terms\n",
        "# \"PyTorch\" required but answer says \"PyTorch framework\" → should pass\n",
        "# \"reduce parameters\" required but answer says \"fewer parameters\" → should pass\n",
        "\n",
        "# Improved: Use semantic similarity\n",
        "from sentence_transformers import SentenceTransformer\n",
        "model = SentenceTransformer('all-MiniLM-L6-v2')\n",
        "\n",
        "def semantic_match(required_phrase, prediction):\n",
        "    similarity = model.encode([required_phrase, prediction])\n",
        "    return cosine_similarity(similarity[0], similarity[1]) > 0.8\n",
        "```\n",
        "\n",
        "### 4. **Contextual Understanding**\n",
        "```python\n",
        "# Current: No context awareness\n",
        "# \"Tim\" could refer to any Tim, not specifically Tim Dettmers\n",
        "\n",
        "# Improved: Check context\n",
        "def contextual_mention(required_terms, prediction):\n",
        "    # Check if terms appear in meaningful context\n",
        "    return all(term in prediction and \n",
        "              any(context_word in prediction.lower() \n",
        "                  for context_word in [\"author\", \"paper\", \"researcher\"]) \n",
        "              for term in required_terms)\n",
        "```\n",
        "\n",
        "### 5. **Scoring Granularity**\n",
        "```python\n",
        "# Current: Binary pass/fail\n",
        "# Improved: Partial credit scoring\n",
        "def partial_credit_evaluator(run, example) -> EvaluationResult:\n",
        "    prediction = run.outputs.get(\"output\") or \"\"\n",
        "    required = example.outputs.get(\"must_mention\") or []\n",
        "    \n",
        "    matches = sum(1 for phrase in required if phrase.lower() in prediction.lower())\n",
        "    score = matches / len(required) if required else 0\n",
        "    \n",
        "    return EvaluationResult(\n",
        "        key=\"must_mention\", \n",
        "        score=score,\n",
        "        comment=f\"Found {matches}/{len(required)} required phrases\"\n",
        "    )\n",
        "```\n",
        "\n",
        "### 6. **Robustness to Variations**\n",
        "```python\n",
        "# Handle common variations\n",
        "def robust_evaluator(run, example) -> EvaluationResult:\n",
        "    prediction = run.outputs.get(\"output\") or \"\"\n",
        "    required = example.outputs.get(\"must_mention\") or []\n",
        "    \n",
        "    # Handle variations\n",
        "    variations = {\n",
        "        \"PyTorch\": [\"pytorch\", \"torch\", \"pytorch framework\"],\n",
        "        \"TensorFlow\": [\"tensorflow\", \"tf\", \"tensor flow\"],\n",
        "        \"NF4\": [\"nf4\", \"normalfloat4\", \"normal float 4\"]\n",
        "    }\n",
        "    \n",
        "    score = all(\n",
        "        any(variant.lower() in prediction.lower() \n",
        "            for variant in variations.get(phrase, [phrase]))\n",
        "        for phrase in required\n",
        "    )\n",
        "    \n",
        "    return EvaluationResult(key=\"must_mention\", score=score)\n",
        "```\n",
        "\n",
        "### 7. **Add Detailed Feedback**\n",
        "```python\n",
        "@run_evaluator\n",
        "def enhanced_must_mention(run, example) -> EvaluationResult:\n",
        "    prediction = run.outputs.get(\"output\") or \"\"\n",
        "    required = example.outputs.get(\"must_mention\") or []\n",
        "    \n",
        "    found_phrases = []\n",
        "    missing_phrases = []\n",
        "    \n",
        "    for phrase in required:\n",
        "        if phrase.lower() in prediction.lower():\n",
        "            found_phrases.append(phrase)\n",
        "        else:\n",
        "            missing_phrases.append(phrase)\n",
        "    \n",
        "    score = len(found_phrases) / len(required) if required else 0\n",
        "    \n",
        "    return EvaluationResult(\n",
        "        key=\"must_mention\",\n",
        "        score=score,\n",
        "        comment=f\"Found: {found_phrases}, Missing: {missing_phrases}\"\n",
        "    )\n",
        "```\n",
        "\n",
        "## Bottom Line\n",
        "\n",
        "The current method is too simplistic for production use. Key improvements should focus on:\n",
        "1. **Case-insensitive matching**\n",
        "2. **Word boundary detection**\n",
        "3. **Semantic similarity for synonyms**\n",
        "4. **Partial credit scoring**\n",
        "5. **Detailed feedback on what was found/missing**\n",
        "6. **Handling of common variations and abbreviations**\n",
        "\n",
        "These improvements would make the evaluator much more robust and provide better insights into model performance."
      ]
    },
    {
      "cell_type": "markdown",
      "metadata": {
        "id": "r1RJr349zhv7"
      },
      "source": [
        "Task 3: Evaluating\n",
        "\n",
        "All that is left to do is evaluate our agent's response!"
      ]
    },
    {
      "cell_type": "code",
      "execution_count": 21,
      "metadata": {
        "colab": {
          "base_uri": "https://localhost:8080/",
          "height": 118,
          "referenced_widgets": [
            "efcf57067cf743d8b4ce059a61cbe02e",
            "53e33aae3b97490c82aec7bbb0d6ebba",
            "ad84e0e971d3455db2efe7dd0d1f803e",
            "72adef9b70dd48198b7322b6c5b113cf",
            "8a61d045ffd44ac58f3f13eb10044836",
            "041e22a9b5514e36bd4d1dac01d5d398",
            "886d762f2a7c421382efb5502c6d42a1",
            "ab91fd625bbd43afbf8c6398193a88d0",
            "716557ad09874dcb989d75f7c74424cd",
            "77d4c0ebaae045b58efc4f789c9a2360",
            "0d622ccc56264fac8fd7508dbdbe6e29"
          ]
        },
        "id": "p5TeCUUkuGld",
        "outputId": "2f7d62a2-e78d-447a-d07b-f9e4d500fb79"
      },
      "outputs": [
        {
          "name": "stdout",
          "output_type": "stream",
          "text": [
            "View the evaluation results for experiment: 'Search Pipeline - Evaluation - 8690-6a8a9360' at:\n",
            "https://smith.langchain.com/o/7ffaf126-290e-4d08-9a81-6ef0b42d5153/datasets/2e674849-8462-481f-8ec0-a285bbb02079/compare?selectedSessions=e28148c1-e997-436f-925d-b1e97d6482bd\n",
            "\n",
            "\n"
          ]
        },
        {
          "data": {
            "application/vnd.jupyter.widget-view+json": {
              "model_id": "81c22520fbd34253aeb43c7124c34a33",
              "version_major": 2,
              "version_minor": 0
            },
            "text/plain": [
              "0it [00:00, ?it/s]"
            ]
          },
          "metadata": {},
          "output_type": "display_data"
        }
      ],
      "source": [
        "experiment_results = client.evaluate(\n",
        "    agent_chain_with_formatting,\n",
        "    data=dataset_name,\n",
        "    evaluators=[must_mention],\n",
        "    experiment_prefix=f\"Search Pipeline - Evaluation - {uuid4().hex[0:4]}\",\n",
        "    metadata={\"version\": \"1.0.0\"},\n",
        ")"
      ]
    },
    {
      "cell_type": "code",
      "execution_count": 22,
      "metadata": {
        "colab": {
          "base_uri": "https://localhost:8080/",
          "height": 342
        },
        "id": "eeEqU7s05Byu",
        "outputId": "78395075-a05d-4ebd-c798-ed968b935318"
      },
      "outputs": [
        {
          "data": {
            "text/html": [
              "<ExperimentResults Search Pipeline - Evaluation - 8690-6a8a9360>"
            ],
            "text/plain": [
              "<ExperimentResults Search Pipeline - Evaluation - 8690-6a8a9360>"
            ]
          },
          "execution_count": 22,
          "metadata": {},
          "output_type": "execute_result"
        }
      ],
      "source": [
        "experiment_results"
      ]
    },
    {
      "cell_type": "markdown",
      "metadata": {
        "id": "jhTNe4kWrplB"
      },
      "source": [
        "## Part 2: LangGraph with Helpfulness:"
      ]
    },
    {
      "cell_type": "markdown",
      "metadata": {
        "id": "w1wKRddbIY_S"
      },
      "source": [
        "### Task 3: Adding Helpfulness Check and \"Loop\" Limits\n",
        "\n",
        "Now that we've done evaluation - let's see if we can add an extra step where we review the content we've generated to confirm if it fully answers the user's query!\n",
        "\n",
        "We're going to make a few key adjustments to account for this:\n",
        "\n",
        "1. We're going to add an artificial limit on how many \"loops\" the agent can go through - this will help us to avoid the potential situation where we never exit the loop.\n",
        "2. We'll add to our existing conditional edge to obtain the behaviour we desire."
      ]
    },
    {
      "cell_type": "markdown",
      "metadata": {
        "id": "npTYJ8ayR5B3"
      },
      "source": [
        "First, let's define our state again - we can check the length of the state object, so we don't need additional state for this."
      ]
    },
    {
      "cell_type": "code",
      "execution_count": 23,
      "metadata": {
        "id": "-LQ84YhyJG0w"
      },
      "outputs": [],
      "source": [
        "class AgentState(TypedDict):\n",
        "  messages: Annotated[list, add_messages]"
      ]
    },
    {
      "cell_type": "markdown",
      "metadata": {
        "id": "sD7EV0HqSQcb"
      },
      "source": [
        "Now we can set our graph up! This process will be almost entirely the same - with the inclusion of one additional node/conditional edge!"
      ]
    },
    {
      "cell_type": "markdown",
      "metadata": {
        "id": "oajBwLkFVi1N"
      },
      "source": [
        "#### 🏗️ Activity #5:\n",
        "\n",
        "Please write markdown for the following cells to explain what each is doing."
      ]
    },
    {
      "cell_type": "markdown",
      "metadata": {
        "id": "M6rN7feNVn9f"
      },
      "source": [
        "<!-- YOUR MARKDOWN HERE -->\n",
        "##### ✅ Answer:\n",
        "Think of this like building a flowchart for a smart assistant. We're creating a new \"graph\" (like a flowchart) that will have different steps our AI assistant can take.\n",
        "\n",
        "In this cell, we're adding two main \"stations\" or \"nodes\" to our flowchart:\n",
        "1. **Agent node**: This is where our AI assistant thinks and decides what to do\n",
        "2. **Action node**: This is where our AI assistant actually uses tools (like searching the internet or looking up research papers)\n",
        "\n",
        "It's like setting up a workspace with two desks - one for thinking and one for doing tasks!"
      ]
    },
    {
      "cell_type": "code",
      "execution_count": 24,
      "metadata": {
        "colab": {
          "base_uri": "https://localhost:8080/"
        },
        "id": "6r6XXA5FJbVf",
        "outputId": "ff713041-e498-4f0f-a875-a03502b87729"
      },
      "outputs": [
        {
          "data": {
            "text/plain": [
              "<langgraph.graph.state.StateGraph at 0x11183f250>"
            ]
          },
          "execution_count": 24,
          "metadata": {},
          "output_type": "execute_result"
        }
      ],
      "source": [
        "graph_with_helpfulness_check = StateGraph(AgentState)\n",
        "\n",
        "graph_with_helpfulness_check.add_node(\"agent\", call_model)\n",
        "graph_with_helpfulness_check.add_node(\"action\", tool_node)"
      ]
    },
    {
      "cell_type": "markdown",
      "metadata": {
        "id": "XZ22o2mWVrfp"
      },
      "source": [
        "<!-- YOUR MARKDOWN HERE -->\n",
        "##### ✅ Answer:\n",
        "This is like telling our AI assistant where to start! Every flowchart needs a starting point, right?\n",
        "\n",
        "In this cell, we're saying \"When someone asks you a question, start at the 'agent' desk first.\" This means:\n",
        "- The AI will always begin by thinking about the question\n",
        "- It won't immediately jump to using tools\n",
        "- It's like a student who reads the question carefully before deciding whether they need to look something up\n",
        "\n",
        "Think of it like the \"START\" circle at the beginning of a flowchart - we're pointing to the agent node and saying \"Begin here!\""
      ]
    },
    {
      "cell_type": "code",
      "execution_count": 25,
      "metadata": {
        "colab": {
          "base_uri": "https://localhost:8080/"
        },
        "id": "HNWHwWxuRiLY",
        "outputId": "295f5a35-ceff-452a-ffb8-c52eada6a816"
      },
      "outputs": [
        {
          "data": {
            "text/plain": [
              "<langgraph.graph.state.StateGraph at 0x11183f250>"
            ]
          },
          "execution_count": 25,
          "metadata": {},
          "output_type": "execute_result"
        }
      ],
      "source": [
        "graph_with_helpfulness_check.set_entry_point(\"agent\")"
      ]
    },
    {
      "cell_type": "markdown",
      "metadata": {
        "id": "rsXeF6xlaXOZ"
      },
      "source": [
        "<!-- YOUR MARKDOWN HERE -->\n",
        "##### ✅ Answer:\n",
        "This is the \"brain\" of our AI assistant! It's like a traffic controller that decides where to go next. Let me break it down:\n",
        "\n",
        "**The function makes 3 important decisions:**\n",
        "\n",
        "1. **\"Do I need to use tools?\"** - If the AI wants to search the internet or look up papers, it says \"go to action\"\n",
        "2. **\"Have I talked too much?\"** - If there are more than 10 messages, it says \"stop\" (like a parent saying \"enough chatting!\")\n",
        "3. **\"Is my answer good enough?\"** - It asks another AI to grade its response:\n",
        "   - If the answer is helpful → \"end\" (we're done!)\n",
        "   - If the answer isn't helpful → \"continue\" (try again!)\n",
        "\n",
        "It's like a smart study buddy who knows when to look things up, when to stop talking, and when their explanation is clear enough for you to understand!"
      ]
    },
    {
      "cell_type": "code",
      "execution_count": 26,
      "metadata": {
        "id": "z_Sq3A9SaV1O"
      },
      "outputs": [],
      "source": [
        "from langchain_core.prompts import PromptTemplate\n",
        "from langchain_core.output_parsers import StrOutputParser\n",
        "\n",
        "def tool_call_or_helpful(state):\n",
        "  last_message = state[\"messages\"][-1]\n",
        "\n",
        "  if last_message.tool_calls:\n",
        "    return \"action\"\n",
        "\n",
        "  initial_query = state[\"messages\"][0]\n",
        "  final_response = state[\"messages\"][-1]\n",
        "\n",
        "  if len(state[\"messages\"]) > 10:\n",
        "    return \"END\"\n",
        "\n",
        "  prompt_template = \"\"\"\\\n",
        "  Given an initial query and a final response, determine if the final response is extremely helpful or not. Please indicate helpfulness with a 'Y' and unhelpfulness as an 'N'.\n",
        "\n",
        "  Initial Query:\n",
        "  {initial_query}\n",
        "\n",
        "  Final Response:\n",
        "  {final_response}\"\"\"\n",
        "\n",
        "  helpfullness_prompt_template = PromptTemplate.from_template(prompt_template)\n",
        "\n",
        "  helpfulness_check_model = ChatOpenAI(model=\"gpt-4.1-mini\")\n",
        "\n",
        "  helpfulness_chain = helpfullness_prompt_template | helpfulness_check_model | StrOutputParser()\n",
        "\n",
        "  helpfulness_response = helpfulness_chain.invoke({\"initial_query\" : initial_query.content, \"final_response\" : final_response.content})\n",
        "\n",
        "  if \"Y\" in helpfulness_response:\n",
        "    return \"end\"\n",
        "  else:\n",
        "    return \"continue\""
      ]
    },
    {
      "cell_type": "markdown",
      "metadata": {
        "id": "Fz1u9Vf4SHxJ"
      },
      "source": [
        "#### 🏗️ Activity #4:\n",
        "\n",
        "Please write what is happening in our `tool_call_or_helpful` function!\n",
        "\n",
        "##### ✅ Answer:\n",
        "\n",
        "**What's happening in the `tool_call_or_helpful` function:**\n",
        "\n",
        "This function is like a smart decision-maker that looks at what the AI just did and decides what should happen next. Let me break it down step by step:\n",
        "\n",
        "**Step 1: \"Did the AI want to use tools?\"**\n",
        "- It checks if the AI's last message included requests to use tools (like searching the internet)\n",
        "- If YES → return \"action\" (go use those tools!)\n",
        "- If NO → keep checking...\n",
        "\n",
        "**Step 2: \"Has the conversation gotten too long?\"**\n",
        "- It counts how many messages have been exchanged\n",
        "- If there are more than 10 messages → return \"END\" (stop talking, this is getting too long!)\n",
        "- If less than 10 → keep checking...\n",
        "\n",
        "**Step 3: \"Is the AI's answer actually helpful?\"**\n",
        "- It takes the original question and the AI's current answer\n",
        "- It asks a second AI to be like a teacher grading the response: \"Is this helpful? Y or N?\"\n",
        "- If the grade is \"Y\" (helpful) → return \"end\" (we're done!)\n",
        "- If the grade is \"N\" (not helpful) → return \"continue\" (try again!)\n",
        "\n",
        "**Think of it like a quality control inspector:**\n",
        "- First, they check if more work needs to be done (tools needed?)\n",
        "- Then, they check if we've spent too much time already (message limit)\n",
        "- Finally, they check if the final product is good enough (helpfulness check)\n",
        "\n",
        "This function is the \"brain\" that keeps our AI from getting stuck in endless loops while making sure it gives good answers!"
      ]
    },
    {
      "cell_type": "markdown",
      "metadata": {
        "id": "6BhnBW2YVsJO"
      },
      "source": [
        "<!-- YOUR MARKDOWN HERE -->\n",
        "##### ✅ Answer:\n",
        "Now we're connecting the dots! Remember that traffic controller function we just made? This is where we tell our flowchart what to do with those decisions.\n",
        "\n",
        "**We're creating 3 different paths the AI can take:**\n",
        "\n",
        "1. **\"continue\"** → Goes back to the agent (like saying \"think again!\")\n",
        "2. **\"action\"** → Goes to the action node (like saying \"time to use your tools!\")\n",
        "3. **\"end\"** → Stops the conversation (like saying \"we're done here!\")\n",
        "\n",
        "Imagine you're at a crossroads with 3 signs:\n",
        "- ← \"Think More\" (continue)\n",
        "- → \"Use Tools\" (action)  \n",
        "- ↓ \"All Done!\" (end)\n",
        "\n",
        "The traffic controller (our function) reads the situation and points you toward the right path. It's like a choose-your-own-adventure book, but the AI is making the choices!"
      ]
    },
    {
      "cell_type": "code",
      "execution_count": 27,
      "metadata": {
        "colab": {
          "base_uri": "https://localhost:8080/"
        },
        "id": "aVTKnWMbP_8T",
        "outputId": "7f729b1f-311c-4084-ceaf-0da437900c85"
      },
      "outputs": [
        {
          "data": {
            "text/plain": [
              "<langgraph.graph.state.StateGraph at 0x11183f250>"
            ]
          },
          "execution_count": 27,
          "metadata": {},
          "output_type": "execute_result"
        }
      ],
      "source": [
        "graph_with_helpfulness_check.add_conditional_edges(\n",
        "    \"agent\",\n",
        "    tool_call_or_helpful,\n",
        "    {\n",
        "        \"continue\" : \"agent\",\n",
        "        \"action\" : \"action\",\n",
        "        \"end\" : END\n",
        "    }\n",
        ")"
      ]
    },
    {
      "cell_type": "markdown",
      "metadata": {
        "id": "ZGDLEWOIVtK0"
      },
      "source": [
        "<!-- YOUR MARKDOWN HERE -->\n",
        "##### ✅ Answer:\n",
        "This is like creating a \"return path\" in our flowchart! \n",
        "\n",
        "**Here's what's happening:**\n",
        "- When the AI finishes using its tools (like searching the internet), it doesn't just stop\n",
        "- Instead, it **always** goes back to the \"thinking\" desk (agent node) to process what it found\n",
        "- It's like a student who goes to the library, finds information, and then comes back to their desk to write their report\n",
        "\n",
        "**Why is this important?**\n",
        "- The AI needs to think about the information it found\n",
        "- It might need to search for more things\n",
        "- It needs to put together a helpful answer from all the pieces it collected\n",
        "\n",
        "Think of it like a basketball player who gets the ball, shoots, and then **always** runs back to defense. The action node always returns to the agent node - no exceptions!"
      ]
    },
    {
      "cell_type": "code",
      "execution_count": 28,
      "metadata": {
        "colab": {
          "base_uri": "https://localhost:8080/"
        },
        "id": "cbDK2MbuREgU",
        "outputId": "21a64c20-27a1-4e0e-afde-a639abaa8b55"
      },
      "outputs": [
        {
          "data": {
            "text/plain": [
              "<langgraph.graph.state.StateGraph at 0x11183f250>"
            ]
          },
          "execution_count": 28,
          "metadata": {},
          "output_type": "execute_result"
        }
      ],
      "source": [
        "graph_with_helpfulness_check.add_edge(\"action\", \"agent\")"
      ]
    },
    {
      "cell_type": "markdown",
      "metadata": {
        "id": "rSI8AOaEVvT-"
      },
      "source": [
        "<!-- YOUR MARKDOWN HERE -->\n",
        "##### ✅ Answer:\n",
        "This is the magic moment! We've been building our flowchart piece by piece, and now we're turning it into a working AI assistant.\n",
        "\n",
        "**Think of it like this:**\n",
        "- We've drawn all the boxes and arrows on paper (our flowchart)\n",
        "- Now we're bringing it to life - like turning a blueprint into a real house!\n",
        "\n",
        "**What \"compile\" means:**\n",
        "- It takes our flowchart design and creates a working AI assistant\n",
        "- It's like pressing \"Save\" on a video game - everything becomes real and usable\n",
        "- The AI can now actually follow the paths we created\n",
        "\n",
        "**What can our new AI do?**\n",
        "- It can think, use tools, and make decisions\n",
        "- It knows when to stop talking (no more endless loops!)\n",
        "- It can judge if its own answers are good enough\n",
        "- It's like having a study buddy who knows when to research more and when to give you the final answer\n",
        "\n",
        "Now our AI assistant is ready to help people with questions!"
      ]
    },
    {
      "cell_type": "code",
      "execution_count": 29,
      "metadata": {
        "id": "oQldl8ERQ8lf"
      },
      "outputs": [],
      "source": [
        "agent_with_helpfulness_check = graph_with_helpfulness_check.compile()"
      ]
    },
    {
      "cell_type": "markdown",
      "metadata": {
        "id": "F67FGCMRVwGz"
      },
      "source": [
        "<!-- YOUR MARKDOWN HERE -->\n",
        "##### ✅ Answer:\n",
        "Time for the big test! Let's see if our AI assistant actually works the way we designed it.\n",
        "\n",
        "**We're asking a challenging question:**\n",
        "\"What is LoRA? Who is Tim Dettmers? What is Attention?\"\n",
        "\n",
        "This is like asking 3 different questions at once - perfect for testing our AI!\n",
        "\n",
        "**What we're watching for:**\n",
        "- Does the AI realize it needs to search for information? (Will it use tools?)\n",
        "- Does it search for all the different topics we asked about?\n",
        "- Does it put together a helpful answer from what it finds?\n",
        "- Does it know when to stop and say \"I'm done\"?\n",
        "\n",
        "**The \"streaming\" part:**\n",
        "- Instead of waiting for the final answer, we get to watch the AI work step by step\n",
        "- It's like watching a chef cook instead of just getting the finished meal\n",
        "- We can see each decision the AI makes along the way\n",
        "\n",
        "This is our \"report card\" moment - let's see how well our AI assistant performs!"
      ]
    },
    {
      "cell_type": "code",
      "execution_count": 30,
      "metadata": {
        "colab": {
          "base_uri": "https://localhost:8080/"
        },
        "id": "B3oo8E-PRK1T",
        "outputId": "f152dea8-96ad-4d29-d8b2-a064c96a8bd3"
      },
      "outputs": [
        {
          "name": "stdout",
          "output_type": "stream",
          "text": [
            "Receiving update from node: 'agent'\n",
            "[AIMessage(content='', additional_kwargs={'tool_calls': [{'id': 'call_Qm3qI2HjXYodlWduMXXfjdyI', 'function': {'arguments': '{\"query\": \"LoRA machine learning\"}', 'name': 'tavily_search_results_json'}, 'type': 'function'}, {'id': 'call_1pxnN8Sp2UIm86w78C5XKTYA', 'function': {'arguments': '{\"query\": \"Tim Dettmers\"}', 'name': 'tavily_search_results_json'}, 'type': 'function'}, {'id': 'call_Lsx5cldlTqCNM2LnGnLfer0z', 'function': {'arguments': '{\"query\": \"Attention in machine learning\"}', 'name': 'tavily_search_results_json'}, 'type': 'function'}], 'refusal': None}, response_metadata={'token_usage': {'completion_tokens': 79, 'prompt_tokens': 177, 'total_tokens': 256, 'completion_tokens_details': {'accepted_prediction_tokens': 0, 'audio_tokens': 0, 'reasoning_tokens': 0, 'rejected_prediction_tokens': 0}, 'prompt_tokens_details': {'audio_tokens': 0, 'cached_tokens': 0}}, 'model_name': 'gpt-4.1-nano-2025-04-14', 'system_fingerprint': 'fp_38343a2f8f', 'id': 'chatcmpl-BrCeDcdlqN8FFbIX5hRdXOinjNbL1', 'service_tier': 'default', 'finish_reason': 'tool_calls', 'logprobs': None}, id='run--1545885a-cb22-4752-8379-7dc24b9562fd-0', tool_calls=[{'name': 'tavily_search_results_json', 'args': {'query': 'LoRA machine learning'}, 'id': 'call_Qm3qI2HjXYodlWduMXXfjdyI', 'type': 'tool_call'}, {'name': 'tavily_search_results_json', 'args': {'query': 'Tim Dettmers'}, 'id': 'call_1pxnN8Sp2UIm86w78C5XKTYA', 'type': 'tool_call'}, {'name': 'tavily_search_results_json', 'args': {'query': 'Attention in machine learning'}, 'id': 'call_Lsx5cldlTqCNM2LnGnLfer0z', 'type': 'tool_call'}], usage_metadata={'input_tokens': 177, 'output_tokens': 79, 'total_tokens': 256, 'input_token_details': {'audio': 0, 'cache_read': 0}, 'output_token_details': {'audio': 0, 'reasoning': 0}})]\n",
            "\n",
            "\n",
            "\n",
            "Receiving update from node: 'action'\n",
            "[ToolMessage(content='[{\"title\": \"What is LoRA? | Low-rank adaptation - Cloudflare\", \"url\": \"https://www.cloudflare.com/learning/ai/what-is-lora/\", \"content\": \"Low-rank adaptation (LoRA) is a technique for quickly adapting machine learning models to new contexts. LoRA helps make huge and complicated machine learning models much more suited for specific uses. It works by adding lightweight pieces to the original model, as opposed to changing the entire model. LoRA helps developers quickly expand the use cases for the machine learning models they build.\\\\n\\\\n## What does LoRA do? [...] LoRA adds low-rank matrices to the frozen original machine learning model. These matrices contain new weights to apply to the model when generating results. This process alters the outputs that the model produces with minimal computing power and training time.\\\\n\\\\nIn the analogy used above, Jim bought cheap adapters to plug his appliances into the wall. Low-rank matrices are like those cheap adapters, with the outlets being the original machine learning models.\\\\n\\\\n## How does machine learning work? [...] Sign upSales: +1 (888) 99 FLARE\\\\n\\\\n# What is low-rank adaptation (LoRA)?\\\\n\\\\nLow-rank adaptation (LoRA) is a way to adapt a large machine learning model for specific uses without retraining the entire model.\\\\n\\\\n#### Learning Objectives\\\\n\\\\nAfter reading this article you will be able to:\\\\n\\\\n Define \\\\\"low-rank adaptation\\\\\" (LoRA)\\\\n Explain in simple fashion how LoRA works\\\\n Understand the advantages of using LoRA\\\\n\\\\nRelated Content\\\\n\\\\n---\", \"score\": 0.9255605}, {\"title\": \"Improving LoRA: Implementing Weight-Decomposed Low-Rank ...\", \"url\": \"https://magazine.sebastianraschka.com/p/lora-and-dora-from-scratch\", \"content\": \"Image 7 Image 8: Ahead of AI Ahead of AI Improving LoRA: Implementing Weight-Decomposed Low-Rank Adaptation (DoRA) from Scratch\\\\n\\\\nCopy link Facebook Email Notes More\\\\n\\\\n4617\\\\n\\\\nShare)\\\\n\\\\nLow-rank adaptation (LoRA) is a machine learning technique that modifies a pretrained model (for example, an LLM or vision transformer) to better suit a specific, often smaller, dataset by adjusting only a small, low-rank subset of the model\\'s parameters.\", \"score\": 0.9183121}, {\"title\": \"What is Low Rank Adaptation (LoRA)? - GeeksforGeeks\", \"url\": \"https://www.geeksforgeeks.org/deep-learning/what-is-low-rank-adaptation-lora/\", \"content\": \"Low-Rank Adaptation (LoRA)is a parameter-efficient fine-tuning technique designed to adapt large pre-trained models for specific tasks without significantly increasing computational costs. LoRA addresses the challenge of fine-tuning massive deep learning models by reducing the number of trainable parameters, thus making the process more efficient and scalable. [...] LoRA introduces low-rank decomposition into the weight matrices of a neural network during fine-tuning. Instead of updating all model parameters, LoRA injects trainable low-rank matrices into the pre-trained model’s layers. This approach significantly reduces memory and computational overhead while maintaining high performance.\\\\n\\\\n### Key Features of LoRA:\", \"score\": 0.8974172}, {\"title\": \"Understanding LoRA with a minimal example - Posit AI Blog\", \"url\": \"https://blogs.rstudio.com/tensorflow/posts/2023-06-22-understanding-lora/\", \"content\": \"LoRA (Low-Rank Adaptation) is a new technique for fine tuning large scale pre-trained\\\\nmodels. Such models are usually trained on general domain data, so as to have\\\\nthe maximum amount of data. In order to obtain better results in tasks like chatting\\\\nor question answering, these models can be further ‘fine-tuned’ or adapted on domain\\\\nspecific data. [...] LoRA (Low Rank Adaptation) is a new technique for fine-tuning deep learning models that works by reducing the number of trainable parameters and enables efficient task switching. In this blog post we will talk about the key ideas behind LoRA in a very minimal torch example.\\\\n\\\\nContents [...] Understanding LoRA with a minimal example\\\\n\\\\nLoRA (Low Rank Adaptation) is a new technique for fine-tuning deep learning models that works by reducing the number of trainable parameters and enables efficient task switching. In this blog post we will talk about the key ideas behind LoRA in a very minimal torch example.\", \"score\": 0.88420963}, {\"title\": \"What is LoRA (Low-Rank Adaption)? - IBM\", \"url\": \"https://www.ibm.com/think/topics/lora\", \"content\": \"LoRA adds low-rank matrices to the frozen original machine learning model. The low-rank matrices are updated through gradient descent during fine-tuning, without modifying the weights of the base model. These matrices contain new weights to apply to the model when generating results. The multiplied change matrix is added to the base model weights to get the final fine-tuned model. This process alters the outputs that the model produces with minimal computing power and training time. [...] LoRA leverages the concept of lower-rank matrices to make the model training process extremely efficient and fast. Traditionally fine-tuning LLMs requires adjusting the entire model. LoRA focuses on modifying a smaller subset of parameters (lower-rank matrices) to reduce computational and memory overhead. [...] LoRA makes training more efficient and lowers the hardware barrier to entry because users do not need to calculate the gradients or maintain the optimizer states for most parameters. Instead, the process requires optimizing only the much smaller low-rank matrices.\\\\n\\\\nThe linear design of LoRA allows data scientists to merge the trainable matrices with the frozen pretrained model weights when deployed, introducing no inference latency compared to a fully fine-tuned model by construction.\", \"score\": 0.8810534}]', name='tavily_search_results_json', id='6d627630-7c5f-4e53-9561-67af9fca18e9', tool_call_id='call_Qm3qI2HjXYodlWduMXXfjdyI', artifact={'query': 'LoRA machine learning', 'follow_up_questions': None, 'answer': None, 'images': [], 'results': [{'url': 'https://www.cloudflare.com/learning/ai/what-is-lora/', 'title': 'What is LoRA? | Low-rank adaptation - Cloudflare', 'content': 'Low-rank adaptation (LoRA) is a technique for quickly adapting machine learning models to new contexts. LoRA helps make huge and complicated machine learning models much more suited for specific uses. It works by adding lightweight pieces to the original model, as opposed to changing the entire model. LoRA helps developers quickly expand the use cases for the machine learning models they build.\\n\\n## What does LoRA do? [...] LoRA adds low-rank matrices to the frozen original machine learning model. These matrices contain new weights to apply to the model when generating results. This process alters the outputs that the model produces with minimal computing power and training time.\\n\\nIn the analogy used above, Jim bought cheap adapters to plug his appliances into the wall. Low-rank matrices are like those cheap adapters, with the outlets being the original machine learning models.\\n\\n## How does machine learning work? [...] Sign upSales: +1 (888) 99 FLARE\\n\\n# What is low-rank adaptation (LoRA)?\\n\\nLow-rank adaptation (LoRA) is a way to adapt a large machine learning model for specific uses without retraining the entire model.\\n\\n#### Learning Objectives\\n\\nAfter reading this article you will be able to:\\n\\n Define \"low-rank adaptation\" (LoRA)\\n Explain in simple fashion how LoRA works\\n Understand the advantages of using LoRA\\n\\nRelated Content\\n\\n---', 'score': 0.9255605, 'raw_content': None}, {'url': 'https://magazine.sebastianraschka.com/p/lora-and-dora-from-scratch', 'title': 'Improving LoRA: Implementing Weight-Decomposed Low-Rank ...', 'content': \"Image 7 Image 8: Ahead of AI Ahead of AI Improving LoRA: Implementing Weight-Decomposed Low-Rank Adaptation (DoRA) from Scratch\\n\\nCopy link Facebook Email Notes More\\n\\n4617\\n\\nShare)\\n\\nLow-rank adaptation (LoRA) is a machine learning technique that modifies a pretrained model (for example, an LLM or vision transformer) to better suit a specific, often smaller, dataset by adjusting only a small, low-rank subset of the model's parameters.\", 'score': 0.9183121, 'raw_content': None}, {'url': 'https://www.geeksforgeeks.org/deep-learning/what-is-low-rank-adaptation-lora/', 'title': 'What is Low Rank Adaptation (LoRA)? - GeeksforGeeks', 'content': 'Low-Rank Adaptation (LoRA)is a parameter-efficient fine-tuning technique designed to adapt large pre-trained models for specific tasks without significantly increasing computational costs. LoRA addresses the challenge of fine-tuning massive deep learning models by reducing the number of trainable parameters, thus making the process more efficient and scalable. [...] LoRA introduces low-rank decomposition into the weight matrices of a neural network during fine-tuning. Instead of updating all model parameters, LoRA injects trainable low-rank matrices into the pre-trained model’s layers. This approach significantly reduces memory and computational overhead while maintaining high performance.\\n\\n### Key Features of LoRA:', 'score': 0.8974172, 'raw_content': None}, {'url': 'https://blogs.rstudio.com/tensorflow/posts/2023-06-22-understanding-lora/', 'title': 'Understanding LoRA with a minimal example - Posit AI Blog', 'content': 'LoRA (Low-Rank Adaptation) is a new technique for fine tuning large scale pre-trained\\nmodels. Such models are usually trained on general domain data, so as to have\\nthe maximum amount of data. In order to obtain better results in tasks like chatting\\nor question answering, these models can be further ‘fine-tuned’ or adapted on domain\\nspecific data. [...] LoRA (Low Rank Adaptation) is a new technique for fine-tuning deep learning models that works by reducing the number of trainable parameters and enables efficient task switching. In this blog post we will talk about the key ideas behind LoRA in a very minimal torch example.\\n\\nContents [...] Understanding LoRA with a minimal example\\n\\nLoRA (Low Rank Adaptation) is a new technique for fine-tuning deep learning models that works by reducing the number of trainable parameters and enables efficient task switching. In this blog post we will talk about the key ideas behind LoRA in a very minimal torch example.', 'score': 0.88420963, 'raw_content': None}, {'url': 'https://www.ibm.com/think/topics/lora', 'title': 'What is LoRA (Low-Rank Adaption)? - IBM', 'content': 'LoRA adds low-rank matrices to the frozen original machine learning model. The low-rank matrices are updated through gradient descent during fine-tuning, without modifying the weights of the base model. These matrices contain new weights to apply to the model when generating results. The multiplied change matrix is added to the base model weights to get the final fine-tuned model. This process alters the outputs that the model produces with minimal computing power and training time. [...] LoRA leverages the concept of lower-rank matrices to make the model training process extremely efficient and fast. Traditionally fine-tuning LLMs requires adjusting the entire model. LoRA focuses on modifying a smaller subset of parameters (lower-rank matrices) to reduce computational and memory overhead. [...] LoRA makes training more efficient and lowers the hardware barrier to entry because users do not need to calculate the gradients or maintain the optimizer states for most parameters. Instead, the process requires optimizing only the much smaller low-rank matrices.\\n\\nThe linear design of LoRA allows data scientists to merge the trainable matrices with the frozen pretrained model weights when deployed, introducing no inference latency compared to a fully fine-tuned model by construction.', 'score': 0.8810534, 'raw_content': None}], 'response_time': 0.8}), ToolMessage(content='[{\"title\": \"Tim Dettmers - AI2050 - Schmidt Sciences\", \"url\": \"https://ai2050.schmidtsciences.org/fellow/tim-dettmers/\", \"content\": \"Tim Dettmers is an Assistant Professor at Carnegie Mellon University and a Research Scientist at the Allen Institute for AI, and his research focuses on making foundation models, such as ChatGPT, accessible to researchers and practitioners by reducing their resource requirements. This involves developing novel compression and networking algorithms and building systems that allow for memory-efficient, fast, and cheap deep learning. He has won oral, spotlight, and best paper awards at conferences [...] such as ICLR and NeurIPS. He created the bitsandbytes library for efficient deep learning, which is growing at 2.2 million installations per month, and received Google Open Source and PyTorch Foundation awards.\", \"score\": 0.9245858}, {\"title\": \"Author: Tim Dettmers | NVIDIA Technical Blog\", \"url\": \"https://developer.nvidia.com/blog/author/tdettmers/\", \"content\": \"Tim Dettmers is a masters student in informatics at the University of Lugano where he works on deep learning research.\", \"score\": 0.8732259}, {\"title\": \"Interviewing Tim Dettmers on open-source AI - Interconnects\", \"url\": \"https://www.interconnects.ai/p/tim-dettmers\", \"content\": \"Tim Dettmers does not need an introduction for most people building open-source AI. If you are part of that minority, you’re in for a treat. Tim is the lead developer behind most of the open-source tools for quantization: QLoRA, bitsandbytes, 4 and 8 bit inference, and plenty more. He recently finished his Ph.D. at the University of Washington, is now a researcher at the Allen Institute for AI, and is starting as a professor at Carnegie Mellon University in fall of 2025. [...] Tim is a joy to talk to. He thinks independently on all the AI issues of today, bringing new perspectives that challenge the status quo. At the same time, he’s sincere and very helpful to work with, working hard to uplift those around him and the academic community. There’s a reason he’s so loved in the open-source AI community. We cover: [...] Nathan Lambert \\\\\\\\[01:06:39\\\\\\\\]: What is the difference? What would be the core technique?\\\\n\\\\nTim Dettmers \\\\\\\\[01:06:44\\\\\\\\]: It\\'s more fine grain control. So you can say like, if certain evaluation has certain value, go along this branch. Whereas an agent, you would say like, here\\'s my prompt and do what the answer says. And it\\'s like, it makes no sense. Yeah, it\\'s a mess.\", \"score\": 0.7591723}, {\"title\": \"CSE Faculty Candidate Seminar - Tim Dettmers\", \"url\": \"https://cse.gatech.edu/events/2024/02/20/cse-faculty-candidate-seminar-tim-dettmers\", \"content\": \"Bio:Tim Dettmers’s research focuses on making foundation models, such as ChatGPT, accessible to researchers and practitioners by reducing their resource requirements. This involves developing novel compression and networking algorithms and building systems that allow for memory-efficient, fast, and cheap deep learning. These methods enable many more people to use, adapt, or train foundation models without affecting the quality of AI predictions or generations. He is a PhD candidate at the [...] News and Events\\\\n       News\\\\n       Upcoming Events\\\\n       Calendar\\\\n       CSE Biweekly Roundup\\\\n       Analyzer\\\\n       2024 Annual Brief.pdf)\\\\n\\\\n\\\\n\\\\nSearch\\\\n------\\\\n\\\\nSearch \\\\n\\\\nBreadcrumb\\\\n----------\\\\n\\\\n1.   Home\\\\n2.   Events\\\\n\\\\nUpcoming Events\\\\n---------------\\\\n\\\\nCSE Faculty Candidate Seminar - Tim Dettmers\\\\n============================================\\\\n\\\\nImage 2: Tim Dettmers.png\\\\n\\\\nName:Tim Dettmers, Ph.D. student at University of Washington\\\\n\\\\nDate:Tuesday, February 20, 2024 at 11:00 am [...] University of Washington and has won oral, spotlight, and best paper awards at conferences such as ICLR and NeurIPS. He created the bitsandbytes library for efficient deep learning, which is growing at 1.4 million installations per month and received Google Open Source and PyTorch Foundation awards.\", \"score\": 0.70531887}, {\"title\": \"Tim Dettmers - OpenReview\", \"url\": \"https://openreview.net/profile?id=~Tim_Dettmers2\", \"content\": \"Toggle navigationOpenReview.net\\\\n\\\\n   Login\\\\n\\\\n×\\\\n\\\\n×\\\\n### BibTeX Record\\\\n\\\\n_Click anywhere on the box above to highlight complete record_\\\\n\\\\nDone\\\\n\\\\nTim Dettmers\\\\n============\\\\n\\\\n### Assistant Professor, Machine learning; Computer Science, Carnegie Mellon University\\\\n\\\\n### Researcher, Allen Institute for Artificial Intelligence\\\\n\\\\n    Joined September 2019\\\\n\\\\n#### Names\\\\n\\\\nTim Dettmers(Preferred)\\\\n\\\\n   Suggest Name\\\\n\\\\n#### Emails\\\\n\\\\n@gmail.com(Confirmed)\\\\n\\\\n, \\\\n\\\\n@cs.washington.edu(Confirmed)\\\\n\\\\n, \\\\n\\\\n@fb.com(Confirmed)\\\\n\\\\n, [...] @allenai.org(Confirmed)\\\\n\\\\n, \\\\n\\\\n@cmu.edu(Confirmed)\\\\n\\\\n   Suggest Email\\\\n\\\\n#### Personal Links\\\\n\\\\nHomepage\\\\n\\\\nGoogle Scholar\\\\n\\\\nDBLP\\\\n\\\\n   Suggest URL\\\\n\\\\n#### Career & Education History\\\\n\\\\nAssistant Professor\\\\n\\\\nMachine learning; Computer Science, Carnegie Mellon University(cmu.edu)\\\\n\\\\n_2025 – Present_\\\\n\\\\nResearcher\\\\n\\\\nAllen Institute for Artificial Intelligence(allenai.org)\\\\n\\\\n_2024 – Present_\\\\n\\\\nPhD student\\\\n\\\\nComputer Science, University of Washington(cs.washington.edu)\\\\n\\\\n_2018 – 2024_\\\\n\\\\n   Suggest Position\", \"score\": 0.70531887}]', name='tavily_search_results_json', id='f2f9576a-583d-477b-bcf6-d7b9a3c53036', tool_call_id='call_1pxnN8Sp2UIm86w78C5XKTYA', artifact={'query': 'Tim Dettmers', 'follow_up_questions': None, 'answer': None, 'images': [], 'results': [{'url': 'https://ai2050.schmidtsciences.org/fellow/tim-dettmers/', 'title': 'Tim Dettmers - AI2050 - Schmidt Sciences', 'content': 'Tim Dettmers is an Assistant Professor at Carnegie Mellon University and a Research Scientist at the Allen Institute for AI, and his research focuses on making foundation models, such as ChatGPT, accessible to researchers and practitioners by reducing their resource requirements. This involves developing novel compression and networking algorithms and building systems that allow for memory-efficient, fast, and cheap deep learning. He has won oral, spotlight, and best paper awards at conferences [...] such as ICLR and NeurIPS. He created the bitsandbytes library for efficient deep learning, which is growing at 2.2 million installations per month, and received Google Open Source and PyTorch Foundation awards.', 'score': 0.9245858, 'raw_content': None}, {'url': 'https://developer.nvidia.com/blog/author/tdettmers/', 'title': 'Author: Tim Dettmers | NVIDIA Technical Blog', 'content': 'Tim Dettmers is a masters student in informatics at the University of Lugano where he works on deep learning research.', 'score': 0.8732259, 'raw_content': None}, {'url': 'https://www.interconnects.ai/p/tim-dettmers', 'title': 'Interviewing Tim Dettmers on open-source AI - Interconnects', 'content': \"Tim Dettmers does not need an introduction for most people building open-source AI. If you are part of that minority, you’re in for a treat. Tim is the lead developer behind most of the open-source tools for quantization: QLoRA, bitsandbytes, 4 and 8 bit inference, and plenty more. He recently finished his Ph.D. at the University of Washington, is now a researcher at the Allen Institute for AI, and is starting as a professor at Carnegie Mellon University in fall of 2025. [...] Tim is a joy to talk to. He thinks independently on all the AI issues of today, bringing new perspectives that challenge the status quo. At the same time, he’s sincere and very helpful to work with, working hard to uplift those around him and the academic community. There’s a reason he’s so loved in the open-source AI community. We cover: [...] Nathan Lambert \\\\[01:06:39\\\\]: What is the difference? What would be the core technique?\\n\\nTim Dettmers \\\\[01:06:44\\\\]: It's more fine grain control. So you can say like, if certain evaluation has certain value, go along this branch. Whereas an agent, you would say like, here's my prompt and do what the answer says. And it's like, it makes no sense. Yeah, it's a mess.\", 'score': 0.7591723, 'raw_content': None}, {'url': 'https://cse.gatech.edu/events/2024/02/20/cse-faculty-candidate-seminar-tim-dettmers', 'title': 'CSE Faculty Candidate Seminar - Tim Dettmers', 'content': 'Bio:Tim Dettmers’s research focuses on making foundation models, such as ChatGPT, accessible to researchers and practitioners by reducing their resource requirements. This involves developing novel compression and networking algorithms and building systems that allow for memory-efficient, fast, and cheap deep learning. These methods enable many more people to use, adapt, or train foundation models without affecting the quality of AI predictions or generations. He is a PhD candidate at the [...] News and Events\\n       News\\n       Upcoming Events\\n       Calendar\\n       CSE Biweekly Roundup\\n       Analyzer\\n       2024 Annual Brief.pdf)\\n\\n\\n\\nSearch\\n------\\n\\nSearch \\n\\nBreadcrumb\\n----------\\n\\n1.   Home\\n2.   Events\\n\\nUpcoming Events\\n---------------\\n\\nCSE Faculty Candidate Seminar - Tim Dettmers\\n============================================\\n\\nImage 2: Tim Dettmers.png\\n\\nName:Tim Dettmers, Ph.D. student at University of Washington\\n\\nDate:Tuesday, February 20, 2024 at 11:00 am [...] University of Washington and has won oral, spotlight, and best paper awards at conferences such as ICLR and NeurIPS. He created the bitsandbytes library for efficient deep learning, which is growing at 1.4 million installations per month and received Google Open Source and PyTorch Foundation awards.', 'score': 0.70531887, 'raw_content': None}, {'url': 'https://openreview.net/profile?id=~Tim_Dettmers2', 'title': 'Tim Dettmers - OpenReview', 'content': 'Toggle navigationOpenReview.net\\n\\n   Login\\n\\n×\\n\\n×\\n### BibTeX Record\\n\\n_Click anywhere on the box above to highlight complete record_\\n\\nDone\\n\\nTim Dettmers\\n============\\n\\n### Assistant Professor, Machine learning; Computer Science, Carnegie Mellon University\\n\\n### Researcher, Allen Institute for Artificial Intelligence\\n\\n    Joined September 2019\\n\\n#### Names\\n\\nTim Dettmers(Preferred)\\n\\n   Suggest Name\\n\\n#### Emails\\n\\n@gmail.com(Confirmed)\\n\\n, \\n\\n@cs.washington.edu(Confirmed)\\n\\n, \\n\\n@fb.com(Confirmed)\\n\\n, [...] @allenai.org(Confirmed)\\n\\n, \\n\\n@cmu.edu(Confirmed)\\n\\n   Suggest Email\\n\\n#### Personal Links\\n\\nHomepage\\n\\nGoogle Scholar\\n\\nDBLP\\n\\n   Suggest URL\\n\\n#### Career & Education History\\n\\nAssistant Professor\\n\\nMachine learning; Computer Science, Carnegie Mellon University(cmu.edu)\\n\\n_2025 – Present_\\n\\nResearcher\\n\\nAllen Institute for Artificial Intelligence(allenai.org)\\n\\n_2024 – Present_\\n\\nPhD student\\n\\nComputer Science, University of Washington(cs.washington.edu)\\n\\n_2018 – 2024_\\n\\n   Suggest Position', 'score': 0.70531887, 'raw_content': None}], 'response_time': 1.35}), ToolMessage(content='[{\"title\": \"Attention Mechanisms and Their Applications to Complex Systems\", \"url\": \"https://pmc.ncbi.nlm.nih.gov/articles/PMC7996841/\", \"content\": \"Generally formulated, attention in machine learning is a sequential process in which a learning task is guided by a set of elements of the input source (or memory). This is achieved by integrating the attention value into the task. [...] Attention mechanisms have provided and will provide a paradigm shift in machine learning. Specifically, this change is from traditional large-scale vector transformations to more conscious processes (i.e., that focus only on a set of elements), e.g., decomposing a problem into a sequence of attention based reasoning tasks [13,30,31,32,33,34]. [...] Attention mechanisms have provided and will provide a paradigm shift in machine learning [11,12]. These mechanisms allow a model to focus only on a set of elements and to decompose a problem into a sequence of attention based reasoning tasks . Moreover, they can be applied to model complex systems in a flexible and promising way. When it comes to their application, information processing in the system and internal structure are crucial.\", \"score\": 0.9581988}, {\"title\": \"Attention (machine learning) - Wikipedia\", \"url\": \"https://en.wikipedia.org/wiki/Attention_(machine_learning)\", \"content\": \"Attention is a machine learning method that determines the importance of each component in a sequence relative to the other components in that sequence. In natural language processing, importance is represented by \\\\\"soft\\\\\" weights assigned to each word in a sentence. More generally, attention encodes vectors called tokenembeddings across a fixed-width sequence that can range from tens to millions of tokens in size. [...] Inspired by ideas about attention in humans, the attention mechanism was developed to address the weaknesses of leveraging information from the hidden layers of recurrent neural networks. Recurrent neural networks favor more recent information contained in words at the end of a sentence, while information earlier in the sentence tends to be attenuated. Attention allows a token equal access to any part of a sentence directly, rather than only through the previous state.\\\\n\\\\nHistory\\\\n------- [...] Attention(A Q,B K,B V)=A Attention(Q,K,V){\\\\\\\\displaystyle {\\\\\\\\text{Attention}}(\\\\\\\\mathbf {A} \\\\\\\\mathbf {Q} ,\\\\\\\\mathbf {B} \\\\\\\\mathbf {K} ,\\\\\\\\mathbf {B} \\\\\\\\mathbf {V} )=\\\\\\\\mathbf {A} \\\\\\\\,{\\\\\\\\text{Attention}}(\\\\\\\\mathbf {Q} ,\\\\\\\\mathbf {K} ,\\\\\\\\mathbf {V} )}Image 31: {\\\\\\\\displaystyle {\\\\\\\\text{Attention}}(\\\\\\\\mathbf {A} \\\\\\\\mathbf {Q} ,\\\\\\\\mathbf {B} \\\\\\\\mathbf {K} ,\\\\\\\\mathbf {B} \\\\\\\\mathbf {V} )=\\\\\\\\mathbf {A} \\\\\\\\,{\\\\\\\\text{Attention}}(\\\\\\\\mathbf {Q} ,\\\\\\\\mathbf {K} ,\\\\\\\\mathbf {V} )}\", \"score\": 0.94956195}, {\"title\": \"Attention mechanism: Overview - YouTube\", \"url\": \"https://www.youtube.com/watch?v=fjJOgb-E41w\", \"content\": \"# Attention mechanism: Overview\\\\n\\\\nGoogle Cloud Tech\\\\n2877 likes\\\\n191914 views\\\\n5 Jun 2023\\\\nThis video introduces you to the attention mechanism, a powerful technique that allows neural networks to focus on specific parts of an input sequence. Attention is used to improve the performance of a variety of machine learning tasks, including machine translation, text summarization, and question answering.\", \"score\": 0.83932644}, {\"title\": \"What are Attention Mechanisms in Deep Learning? - freeCodeCamp\", \"url\": \"https://www.freecodecamp.org/news/what-are-attention-mechanisms-in-deep-learning/\", \"content\": \"The attention mechanism has found applications in artificial intelligence and deep learning in a wide range of domains. Here are some notable scenarios:\\\\n\\\\nMachine Translation: Attention mechanisms enhanced the quality of machine translation systems dramatically. They enable models to concentrate on certain words or phrases in the source language when producing the corresponding terms in the target language, hence boosting translation accuracy. [...] Attention was originally employed in neural machine translation to assist the model in focusing on the most significant words or phrases in a sentence when translating it into another language. Since then, attention has become widely used in a variety of deep learning applications, including computer vision, speech recognition, and recommender systems.\\\\n\\\\n## How Does the Attention Mechanism Work? [...] In a nutshell, attention mechanisms assist machines in focusing on what is important in data, allowing them to perform better at tasks such as language processing, image recognition, and others. It’s more than simply a technical change – it’s a significant player in the realm of artificial intelligence, bringing up intriguing possibilities for smarter and more efficient systems.\\\\n\\\\nOyedele Tioluwani\\\\n\\\\nPython developer\\\\nStudying Mechanical Engineering\\\\nMachine Learning enthusiast\", \"score\": 0.81595254}, {\"title\": \"ML - Attention mechanism - GeeksforGeeks\", \"url\": \"https://www.geeksforgeeks.org/ml-attention-mechanism/\", \"content\": \"Attention mechanism is a type of neural network that helps a model focus on specific parts of the input data, it is done by assigning weights to different elements in input which helps the model to decide which parts of information are most importart. This makes the model better at understanding complex relationships and dependencies in data. It helps the model to manage long-term dependencies and improves its ability to focus on important features.\", \"score\": 0.78334314}]', name='tavily_search_results_json', id='e72ce429-9328-4f4f-b51d-fad4a532cd55', tool_call_id='call_Lsx5cldlTqCNM2LnGnLfer0z', artifact={'query': 'Attention in machine learning', 'follow_up_questions': None, 'answer': None, 'images': [], 'results': [{'url': 'https://pmc.ncbi.nlm.nih.gov/articles/PMC7996841/', 'title': 'Attention Mechanisms and Their Applications to Complex Systems', 'content': 'Generally formulated, attention in machine learning is a sequential process in which a learning task is guided by a set of elements of the input source (or memory). This is achieved by integrating the attention value into the task. [...] Attention mechanisms have provided and will provide a paradigm shift in machine learning. Specifically, this change is from traditional large-scale vector transformations to more conscious processes (i.e., that focus only on a set of elements), e.g., decomposing a problem into a sequence of attention based reasoning tasks [13,30,31,32,33,34]. [...] Attention mechanisms have provided and will provide a paradigm shift in machine learning [11,12]. These mechanisms allow a model to focus only on a set of elements and to decompose a problem into a sequence of attention based reasoning tasks . Moreover, they can be applied to model complex systems in a flexible and promising way. When it comes to their application, information processing in the system and internal structure are crucial.', 'score': 0.9581988, 'raw_content': None}, {'url': 'https://en.wikipedia.org/wiki/Attention_(machine_learning)', 'title': 'Attention (machine learning) - Wikipedia', 'content': 'Attention is a machine learning method that determines the importance of each component in a sequence relative to the other components in that sequence. In natural language processing, importance is represented by \"soft\" weights assigned to each word in a sentence. More generally, attention encodes vectors called tokenembeddings across a fixed-width sequence that can range from tens to millions of tokens in size. [...] Inspired by ideas about attention in humans, the attention mechanism was developed to address the weaknesses of leveraging information from the hidden layers of recurrent neural networks. Recurrent neural networks favor more recent information contained in words at the end of a sentence, while information earlier in the sentence tends to be attenuated. Attention allows a token equal access to any part of a sentence directly, rather than only through the previous state.\\n\\nHistory\\n------- [...] Attention(A Q,B K,B V)=A Attention(Q,K,V){\\\\displaystyle {\\\\text{Attention}}(\\\\mathbf {A} \\\\mathbf {Q} ,\\\\mathbf {B} \\\\mathbf {K} ,\\\\mathbf {B} \\\\mathbf {V} )=\\\\mathbf {A} \\\\,{\\\\text{Attention}}(\\\\mathbf {Q} ,\\\\mathbf {K} ,\\\\mathbf {V} )}Image 31: {\\\\displaystyle {\\\\text{Attention}}(\\\\mathbf {A} \\\\mathbf {Q} ,\\\\mathbf {B} \\\\mathbf {K} ,\\\\mathbf {B} \\\\mathbf {V} )=\\\\mathbf {A} \\\\,{\\\\text{Attention}}(\\\\mathbf {Q} ,\\\\mathbf {K} ,\\\\mathbf {V} )}', 'score': 0.94956195, 'raw_content': None}, {'url': 'https://www.youtube.com/watch?v=fjJOgb-E41w', 'title': 'Attention mechanism: Overview - YouTube', 'content': '# Attention mechanism: Overview\\n\\nGoogle Cloud Tech\\n2877 likes\\n191914 views\\n5 Jun 2023\\nThis video introduces you to the attention mechanism, a powerful technique that allows neural networks to focus on specific parts of an input sequence. Attention is used to improve the performance of a variety of machine learning tasks, including machine translation, text summarization, and question answering.', 'score': 0.83932644, 'raw_content': None}, {'url': 'https://www.freecodecamp.org/news/what-are-attention-mechanisms-in-deep-learning/', 'title': 'What are Attention Mechanisms in Deep Learning? - freeCodeCamp', 'content': 'The attention mechanism has found applications in artificial intelligence and deep learning in a wide range of domains. Here are some notable scenarios:\\n\\nMachine Translation: Attention mechanisms enhanced the quality of machine translation systems dramatically. They enable models to concentrate on certain words or phrases in the source language when producing the corresponding terms in the target language, hence boosting translation accuracy. [...] Attention was originally employed in neural machine translation to assist the model in focusing on the most significant words or phrases in a sentence when translating it into another language. Since then, attention has become widely used in a variety of deep learning applications, including computer vision, speech recognition, and recommender systems.\\n\\n## How Does the Attention Mechanism Work? [...] In a nutshell, attention mechanisms assist machines in focusing on what is important in data, allowing them to perform better at tasks such as language processing, image recognition, and others. It’s more than simply a technical change – it’s a significant player in the realm of artificial intelligence, bringing up intriguing possibilities for smarter and more efficient systems.\\n\\nOyedele Tioluwani\\n\\nPython developer\\nStudying Mechanical Engineering\\nMachine Learning enthusiast', 'score': 0.81595254, 'raw_content': None}, {'url': 'https://www.geeksforgeeks.org/ml-attention-mechanism/', 'title': 'ML - Attention mechanism - GeeksforGeeks', 'content': 'Attention mechanism is a type of neural network that helps a model focus on specific parts of the input data, it is done by assigning weights to different elements in input which helps the model to decide which parts of information are most importart. This makes the model better at understanding complex relationships and dependencies in data. It helps the model to manage long-term dependencies and improves its ability to focus on important features.', 'score': 0.78334314, 'raw_content': None}], 'response_time': 1.15})]\n",
            "\n",
            "\n",
            "\n",
            "Receiving update from node: 'agent'\n",
            "[AIMessage(content=\"Here's a summary of the information I found:\\n\\n1. **LoRA (Low-Rank Adaptation)**: LoRA is a machine learning technique designed to efficiently adapt large pre-trained models to specific tasks or domains. It works by adding low-rank matrices to the original model's weights, which are then fine-tuned during training. This approach reduces the number of trainable parameters, making the process faster and more resource-efficient. LoRA allows for quick customization of models without retraining the entire network, making it particularly useful for large models like language models.\\n\\n2. **Tim Dettmers**: Tim Dettmers is an Assistant Professor at Carnegie Mellon University and a Research Scientist at the Allen Institute for AI. His research focuses on making foundation models like ChatGPT more accessible by reducing their resource requirements. He has developed tools such as the bitsandbytes library for efficient deep learning and has received awards at major AI conferences like ICLR and NeurIPS. He is also known for his contributions to open-source AI tools.\\n\\n3. **Attention in Machine Learning**: Attention mechanisms are techniques that allow models to focus on specific parts of the input data, assigning different weights to different elements based on their importance. This concept is inspired by human attention and has revolutionized fields like natural language processing and computer vision. Attention enables models to handle long-range dependencies and improve performance in tasks such as translation, summarization, and question answering.\\n\\nIf you'd like more detailed information on any of these topics, please let me know!\", additional_kwargs={'refusal': None}, response_metadata={'token_usage': {'completion_tokens': 305, 'prompt_tokens': 3977, 'total_tokens': 4282, 'completion_tokens_details': {'accepted_prediction_tokens': 0, 'audio_tokens': 0, 'reasoning_tokens': 0, 'rejected_prediction_tokens': 0}, 'prompt_tokens_details': {'audio_tokens': 0, 'cached_tokens': 0}}, 'model_name': 'gpt-4.1-nano-2025-04-14', 'system_fingerprint': 'fp_38343a2f8f', 'id': 'chatcmpl-BrCeFH3uXdUrYAIKYTLwspFqR2gLs', 'service_tier': 'default', 'finish_reason': 'stop', 'logprobs': None}, id='run--d013c5aa-7697-4f90-ba83-07c01e818c6f-0', usage_metadata={'input_tokens': 3977, 'output_tokens': 305, 'total_tokens': 4282, 'input_token_details': {'audio': 0, 'cache_read': 0}, 'output_token_details': {'audio': 0, 'reasoning': 0}})]\n",
            "\n",
            "\n",
            "\n"
          ]
        }
      ],
      "source": [
        "inputs = {\"messages\" : [HumanMessage(content=\"Related to machine learning, what is LoRA? Also, who is Tim Dettmers? Also, what is Attention?\")]}\n",
        "\n",
        "async for chunk in agent_with_helpfulness_check.astream(inputs, stream_mode=\"updates\"):\n",
        "    for node, values in chunk.items():\n",
        "        print(f\"Receiving update from node: '{node}'\")\n",
        "        print(values[\"messages\"])\n",
        "        print(\"\\n\\n\")"
      ]
    },
    {
      "cell_type": "markdown",
      "metadata": {
        "id": "yVmZPs6lnpsM"
      },
      "source": [
        "### Task 4: LangGraph for the \"Patterns\" of GenAI\n",
        "\n",
        "Let's ask our system about the 4 patterns of Generative AI:\n",
        "\n",
        "1. Prompt Engineering\n",
        "2. RAG\n",
        "3. Fine-tuning\n",
        "4. Agents"
      ]
    },
    {
      "cell_type": "code",
      "execution_count": 31,
      "metadata": {
        "id": "ZoLl7GlXoae-"
      },
      "outputs": [],
      "source": [
        "patterns = [\"prompt engineering\", \"RAG\", \"fine-tuning\", \"LLM-based agents\"]"
      ]
    },
    {
      "cell_type": "code",
      "execution_count": 32,
      "metadata": {
        "colab": {
          "base_uri": "https://localhost:8080/"
        },
        "id": "Zkh0YJuCp3Zl",
        "outputId": "d847426e-71b3-47e6-b1ae-351a78d68d1e"
      },
      "outputs": [
        {
          "name": "stdout",
          "output_type": "stream",
          "text": [
            "Prompt engineering is the process of designing and refining prompts to effectively communicate with and elicit desired responses from AI language models like GPT-3 and GPT-4. It involves crafting clear, specific, and contextually appropriate prompts to improve the quality, relevance, and accuracy of the AI's outputs. Prompt engineering is crucial for maximizing the utility of AI models in various applications, including content creation, coding, data analysis, and more.\n",
            "\n",
            "Prompt engineering began gaining significant attention around 2020-2021, coinciding with the rise of large language models and their increasing adoption across industries. As these models became more powerful and versatile, the need for effective prompt design became evident, leading to the emergence of prompt engineering as a specialized skill and area of study within AI and NLP communities. The term and its practices have continued to evolve rapidly as AI technology advances.\n",
            "\n",
            "\n",
            "\n",
            "RAG, which stands for Retrieval-Augmented Generation, is a technique in natural language processing that combines pre-trained language models with retrieval systems to improve the accuracy and relevance of generated responses. It allows models to access external knowledge sources dynamically during the generation process, making the outputs more factual and up-to-date.\n",
            "\n",
            "RAG was introduced by Facebook AI Research (FAIR) in a paper published in 2020. It gained significant attention in the NLP community for its innovative approach to integrating retrieval mechanisms with generative models, leading to improved performance on tasks like open-domain question answering.\n",
            "\n",
            "Would you like a more detailed explanation of how RAG works or its impact on the field?\n",
            "\n",
            "\n",
            "\n",
            "Fine-tuning is a machine learning technique where a pre-trained model is further trained on a specific dataset to adapt it to a particular task or domain. This process involves adjusting the model's parameters slightly to improve its performance on the target task, leveraging the knowledge the model has already acquired during its initial training.\n",
            "\n",
            "Fine-tuning has been a fundamental concept in transfer learning, especially in natural language processing and computer vision, for several years. However, it gained widespread prominence and broke onto the mainstream scene around 2018-2019 with the advent of large pre-trained models like BERT, GPT, and other transformer-based architectures. These models demonstrated that fine-tuning could significantly enhance performance on a variety of downstream tasks with relatively small task-specific datasets, revolutionizing the field.\n",
            "\n",
            "Would you like more detailed information on the history or specific models related to fine-tuning?\n",
            "\n",
            "\n",
            "\n",
            "LLM-based agents are intelligent systems that leverage large language models (LLMs) to perform a variety of tasks, such as understanding natural language, generating human-like responses, and making decisions or taking actions based on the input they receive. These agents can be used in applications like chatbots, virtual assistants, automated customer support, and more complex decision-making systems.\n",
            "\n",
            "The concept of LLM-based agents gained significant attention and broke onto the scene around 2020-2021, coinciding with the development and release of large-scale language models like OpenAI's GPT-3 in 2020. GPT-3's impressive capabilities demonstrated the potential of large language models to serve as the core component of autonomous agents capable of performing diverse tasks with minimal task-specific training.\n",
            "\n",
            "Since then, the field has rapidly evolved, with many researchers and companies developing more sophisticated LLM-based agents that incorporate additional functionalities such as reasoning, memory, and multi-modal capabilities. The emergence of these agents has marked a new era in artificial intelligence, emphasizing the use of large pre-trained models as foundational building blocks for intelligent systems.\n",
            "\n",
            "Would you like more detailed information on the history, technical aspects, or recent developments of LLM-based agents?\n",
            "\n",
            "\n",
            "\n"
          ]
        }
      ],
      "source": [
        "for pattern in patterns:\n",
        "  what_is_string = f\"What is {pattern} and when did it break onto the scene??\"\n",
        "  inputs = {\"messages\" : [HumanMessage(content=what_is_string)]}\n",
        "  messages = agent_with_helpfulness_check.invoke(inputs)\n",
        "  print(messages[\"messages\"][-1].content)\n",
        "  print(\"\\n\\n\")"
      ]
    }
  ],
  "metadata": {
    "colab": {
      "provenance": []
    },
    "kernelspec": {
      "display_name": ".venv",
      "language": "python",
      "name": "python3"
    },
    "language_info": {
      "codemirror_mode": {
        "name": "ipython",
        "version": 3
      },
      "file_extension": ".py",
      "mimetype": "text/x-python",
      "name": "python",
      "nbconvert_exporter": "python",
      "pygments_lexer": "ipython3",
      "version": "3.13.3"
    }
  },
  "nbformat": 4,
  "nbformat_minor": 0
}
