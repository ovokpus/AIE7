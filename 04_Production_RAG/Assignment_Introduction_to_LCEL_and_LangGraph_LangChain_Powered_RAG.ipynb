{
  "cells": [
    {
      "cell_type": "markdown",
      "metadata": {
        "id": "47eTBHYNP4g1"
      },
      "source": [
        "# Introduction to LCEL and LangGraph: LangChain Powered RAG\n",
        "\n",
        "In the following notebook we're going to focus on learning how to navigate and build useful applications using LangChain, specifically LCEL, and how to integrate different APIs together into a coherent RAG application!\n",
        "\n",
        "In the notebook, you'll complete the following Tasks:\n",
        "\n",
        "- 🤝 Breakout Room #1:\n",
        "  1. Install LangGraph\n",
        "  2. Understanding States and Nodes\n",
        "  3. Building a Basic Graph\n",
        "  4. Implementing a Simple RAG Graph\n",
        "  5. Extending the Graph with Complex Flows\n",
        "\n",
        "Let's get started!\n",
        "\n"
      ]
    },
    {
      "cell_type": "markdown",
      "metadata": {
        "id": "2ayVXHXHRE_t"
      },
      "source": [
        "# 🤝 Breakout Room #1"
      ]
    },
    {
      "cell_type": "markdown",
      "metadata": {
        "id": "aVHd6POM0JFN"
      },
      "source": [
        "## Installing Required Libraries\n",
        "\n",
        "We'll start by grabbing all of our LangChain related packages!\n",
        "\n",
        "> NOTE: DO NOT RUN THIS CELL IF YOU ARE RUNNING THIS NOTEBOOK LOCALLY"
      ]
    },
    {
      "cell_type": "code",
      "execution_count": 1,
      "metadata": {
        "colab": {
          "base_uri": "https://localhost:8080/"
        },
        "id": "nCC2AR-Q0m0x",
        "outputId": "cbd49ab6-f2fb-420c-e64c-e656ad21524e"
      },
      "outputs": [],
      "source": [
        "#!pip install -qU \"langgraph>=0.5.0\", \"langsmith>=0.4.4\""
      ]
    },
    {
      "cell_type": "markdown",
      "metadata": {
        "id": "sl6wTp9C5qbY"
      },
      "source": [
        "## Set Environment Variables\n",
        "\n",
        "We'll be leveraging OpenAI's suite of APIs - so we'll set our `OPENAI_API_KEY` `env` variable here!"
      ]
    },
    {
      "cell_type": "code",
      "execution_count": 2,
      "metadata": {
        "colab": {
          "base_uri": "https://localhost:8080/"
        },
        "id": "7pKAfycq73wE",
        "outputId": "0b5702c2-028b-4bf4-ae8a-fffe243574a7"
      },
      "outputs": [],
      "source": [
        "import os\n",
        "import getpass\n",
        "\n",
        "os.environ[\"OPENAI_API_KEY\"] = getpass.getpass(\"OpenAI API Key:\")"
      ]
    },
    {
      "cell_type": "markdown",
      "metadata": {
        "id": "QTsujAkpRWpJ"
      },
      "source": [
        "### A Note On Runnables\n",
        "\n",
        "# Understanding LangChain Runnables and LCEL\n",
        "\n",
        "In LangChain, a Runnable is like a LEGO brick in your AI application - it's a standardized component that can be easily connected with other components. The real power of Runnables comes from their ability to be combined in flexible ways using LCEL (LangChain Expression Language).\n",
        "\n",
        "## Key Features of Runnables\n",
        "\n",
        "### 1. Universal Interface\n",
        "Every Runnable in LangChain follows the same pattern:\n",
        "- Takes an input\n",
        "- Performs some operation\n",
        "- Returns an output\n",
        "\n",
        "This consistency means you can treat different components (like models, retrievers, or parsers) in the same way.\n",
        "\n",
        "### 2. Built-in Parallelization\n",
        "Runnables come with methods for handling multiple inputs efficiently:\n",
        "```python\n",
        "# Process inputs in parallel, maintain order\n",
        "results = chain.batch([input1, input2, input3])\n",
        "\n",
        "# Process inputs as they complete\n",
        "for result in chain.batch_as_completed([input1, input2, input3]):\n",
        "    print(result)\n",
        "```\n",
        "\n",
        "### 3. Streaming Support\n",
        "Perfect for responsive applications:\n",
        "```python\n",
        "# Stream outputs as they're generated\n",
        "for chunk in chain.stream({\"query\": \"Tell me a story\"}):\n",
        "    print(chunk, end=\"\", flush=True)\n",
        "```\n",
        "\n",
        "### 4. Easy Composition\n",
        "The `|` operator makes building pipelines intuitive:\n",
        "```python\n",
        "# Create a basic RAG chain\n",
        "rag_chain = retriever | prompt | model | output_parser\n",
        "```\n",
        "\n",
        "## Common Types of Runnables\n",
        "\n",
        "- **Language Models**: Like our `ChatOpenAI` instance\n",
        "- **Prompt Templates**: Format inputs consistently\n",
        "- **Retrievers**: Get relevant context from a vector store\n",
        "- **Output Parsers**: Structure model outputs\n",
        "- **LangGraph Nodes**: Individual components in our graph\n",
        "\n",
        "Think of Runnables as the building blocks of your LLM application. Just like how you can combine LEGO bricks in countless ways, you can mix and match Runnables to create increasingly sophisticated applications!\n",
        "\n"
      ]
    },
    {
      "cell_type": "markdown",
      "metadata": {
        "id": "kaVlJiilDzwM"
      },
      "source": [
        "## LangGraph Based RAG\n",
        "\n",
        "Now that we have a reasonable grasp of LCEL and the idea of Runnables - let's see how we can use LangGraph to build the same system!"
      ]
    },
    {
      "cell_type": "markdown",
      "metadata": {
        "id": "I77-NKo1EowG"
      },
      "source": [
        "### Primer: What is LangGraph?\n",
        "LangGraph is a tool that leverages LangChain Expression Language to build coordinated multi-actor and stateful applications that includes cyclic behaviour.\n",
        "\n",
        "#### Why Cycles?\n",
        "In essence, we can think of a cycle in our graph as a more robust and customizable loop. It allows us to keep our application agent-forward while still giving the powerful functionality of traditional loops.\n",
        "\n",
        "Due to the inclusion of cycles over loops, we can also compose rather complex flows through our graph in a much more readable and natural fashion. Effectively allowing us to recreate application flowcharts in code in an almost 1-to-1 fashion.\n",
        "\n",
        "#### Why LangGraph?\n",
        "Beyond the agent-forward approach - we can easily compose and combine traditional \"DAG\" (directed acyclic graph) chains with powerful cyclic behaviour due to the tight integration with LCEL. This means it's a natural extension to LangChain's core offerings!\n",
        "\n",
        "> NOTE: We're going to focus on building a simple DAG for today's assignment as an introduction to LangGraph"
      ]
    },
    {
      "cell_type": "markdown",
      "metadata": {
        "id": "kfLCnMXNE_Qc"
      },
      "source": [
        "### Putting the State in Stateful\n",
        "\n",
        "Earlier we used this phrasing:\n",
        "\n",
        "> coordinated multi-actor and stateful applications\n",
        "\n",
        "So what does that \"stateful\" mean?\n",
        "\n",
        "To put it simply - we want to have some kind of object which we can pass around our application that holds information about what the current situation (state) is. Since our system will be constructed of many parts moving in a coordinated fashion - we want to be able to ensure we have some commonly understood idea of that state.\n",
        "\n",
        "LangGraph leverages a `StatefulGraph` which uses an `AgentState` object to pass information between the various nodes of the graph.\n",
        "\n",
        "There are more options than what we'll see below - but this `AgentState` object is one that is stored in a `TypedDict` with the key `messages` and the value is a `Sequence` of `BaseMessages` that will be appended to whenever the state changes.\n",
        "\n",
        "However, in our example here, we're focusing on a simpler `State` object:\n",
        "\n",
        "```python\n",
        "class State(TypedDict):\n",
        "    question: str\n",
        "    context: list[Document]\n",
        "    response: str\n",
        "```\n",
        "\n",
        "Let's think about a simple example to help understand exactly what this means (we'll simplify a great deal to try and clearly communicate what state is doing):\n",
        "\n",
        "1. **We initialize our state object**:\n",
        "   ```python\n",
        "   {\n",
        "       \"question\": \"\",\n",
        "       \"context\": [],\n",
        "       \"response\": \"\"\n",
        "   }\n",
        "   ```\n",
        "\n",
        "2. **Our user submits a query to our application.**  \n",
        "   We store the user's question in `state[\"question\"]`. Now we have:\n",
        "   ```python\n",
        "   {\n",
        "       \"question\": \"How tall is the Eiffel Tower?\",\n",
        "       \"context\": [],\n",
        "       \"response\": \"\"\n",
        "   }\n",
        "   ```\n",
        "\n",
        "3. **We pass our state object to an Agent node** which is able to read the current state. It will use the value of `state[\"question\"]` as input and might retrieve some context documents related to the question. It then generates a response which it stores in `state[\"response\"]`. For example:\n",
        "   ```python\n",
        "   {\n",
        "       \"question\": \"How tall is the Eiffel Tower?\",\n",
        "       \"context\": [Document(page_content=\"...some data...\")],\n",
        "       \"response\": \"The Eiffel Tower is about 324 meters tall...\"\n",
        "   }\n",
        "   ```\n",
        "\n",
        "That's it! The important part is that we have a consistent object (`State`) that's passed around, holding the crucial information as we go from one node to the next. This ensures our application has a single source of truth about what has happened so far and what is happening now.\n",
        "\n"
      ]
    },
    {
      "cell_type": "code",
      "execution_count": 3,
      "metadata": {
        "id": "kxczzsfVFNWT"
      },
      "outputs": [],
      "source": [
        "from langgraph.graph import START, StateGraph\n",
        "from typing_extensions import TypedDict\n",
        "from langchain_core.documents import Document\n",
        "\n",
        "class State(TypedDict):\n",
        "  question: str\n",
        "  context: list[Document]\n",
        "  response: str"
      ]
    },
    {
      "cell_type": "markdown",
      "metadata": {
        "id": "6l6xFY0_HoXG"
      },
      "source": [
        "Now that we have state, and we have tools, and we have an LLM - we can finally start making our graph!\n",
        "\n",
        "Let's take a second to refresh ourselves about what a graph is in this context.\n",
        "\n",
        "Graphs, also called networks in some circles, are a collection of connected objects.\n",
        "\n",
        "The objects in question are typically called nodes, or vertices, and the connections are called edges.\n",
        "\n",
        "Let's look at a simple graph.\n",
        "\n",
        "![image](https://i.imgur.com/2NFLnIc.png)\n",
        "\n",
        "Here, we're using the coloured circles to represent the nodes and the yellow lines to represent the edges. In this case, we're looking at a fully connected graph - where each node is connected by an edge to each other node.\n",
        "\n",
        "If we were to think about nodes in the context of LangGraph - we would think of a function, or an LCEL Runnable.\n",
        "\n",
        "If we were to think about edges in the context of LangGraph - we might think of them as \"paths to take\" or \"where to pass our state object next\".  "
      ]
    },
    {
      "cell_type": "markdown",
      "metadata": {
        "id": "keL9O1drInw1"
      },
      "source": [
        "### Building Nodes\n",
        "\n",
        "We're going to need two nodes:\n",
        "\n",
        "A node for retrieval, and a node for generation.\n",
        "\n",
        "Let's start with our `retrieve` node!\n",
        "\n",
        "Notice how we do not need to update the state object in the node, but can instead return a modification directly to our state."
      ]
    },
    {
      "cell_type": "markdown",
      "metadata": {},
      "source": [
        "#### Building a Retriever with LangChain\n",
        "\n",
        "In order to build our `retrieve` node, we'll first need to build a retriever!\n",
        "\n",
        "This will involve the following steps: \n",
        "\n",
        "1. Ingesting Data\n",
        "2. Chunking the Data\n",
        "3. Vectorizing the Data and Storing it in a Vector Database\n",
        "4. Converting it to a Retriever"
      ]
    },
    {
      "cell_type": "markdown",
      "metadata": {},
      "source": [
        "##### Retreiver Step 1: Ingesting Data\n",
        "\n",
        "In today's lesson, we're going to be building a RAG system to answer questions about loan complaints - and we will pull information into our index (vectorized chunks stored in our vector store) through LangChain's [`CSVLoader`](https://python.langchain.com/api_reference/community/document_loaders/langchain_community.document_loaders.csv_loader.CSVLoader.html)!"
      ]
    },
    {
      "cell_type": "markdown",
      "metadata": {},
      "source": [
        "> NOTE: We'll be using an async loader during our document ingesting - but our Jupyter Kernel is already running in an asyc loop! This means we'll want the ability to *nest* async loops. "
      ]
    },
    {
      "cell_type": "code",
      "execution_count": 4,
      "metadata": {},
      "outputs": [],
      "source": [
        "import nest_asyncio\n",
        "\n",
        "nest_asyncio.apply()"
      ]
    },
    {
      "cell_type": "markdown",
      "metadata": {},
      "source": [
        "Now, we're good to load our documents through the [`PyMuPDFLoader`](https://python.langchain.com/api_reference/community/document_loaders/langchain_community.document_loaders.pdf.PyMuPDFLoader.html)!"
      ]
    },
    {
      "cell_type": "code",
      "execution_count": 5,
      "metadata": {},
      "outputs": [],
      "source": [
        "from langchain_community.document_loaders import DirectoryLoader\n",
        "from langchain_community.document_loaders import PyMuPDFLoader\n",
        "\n",
        "directory_loader = DirectoryLoader(\"data\", glob=\"**/*.pdf\", loader_cls=PyMuPDFLoader)\n",
        "\n",
        "loan_knowledge_resources = directory_loader.load()"
      ]
    },
    {
      "cell_type": "code",
      "execution_count": 6,
      "metadata": {},
      "outputs": [
        {
          "data": {
            "text/plain": [
              "'Volume 3\\nAcademic Calendars, Cost of Attendance, and\\nPackaging\\nIntroduction\\nThis volume of the Federal Student Aid (FSA) Handbook discusses the academic calendar, payment period, and\\ndisbursement requirements for awarding aid under the Title IV student financial aid programs, determining a student9s\\ncost of attendance, and packaging Title IV aid.\\nThroughout this volume of the Handbook, the words \"we,\" \"our,\" and \"us\" refer to the United States Department of\\nEducation (the Department). The word \"you\" refers to the primary audience of the Handbook, school financial aid\\nadministrators. In other volumes of the Handbook we use \"institution,\" \"school,\" and \"college\" interchangeably, unless a\\nmore specific meaning is provided. In this volume we consistently use the term \"school.\" <HEA= refers to the Higher\\nEducation Act of 1965, as amended. Title IV refers to the student financial aid programs authorized under Title IV of the\\nHEA.\\nWe appreciate any comments that you have on this volume as wel'"
            ]
          },
          "execution_count": 6,
          "metadata": {},
          "output_type": "execute_result"
        }
      ],
      "source": [
        "loan_knowledge_resources[0].page_content[:1000]"
      ]
    },
    {
      "cell_type": "markdown",
      "metadata": {},
      "source": [
        "#### TextSplitting aka Chunking\n",
        "\n",
        "We'll use the `RecursiveCharacterTextSplitter` to create our toy example.\n",
        "\n",
        "It will split based on the following rules:\n",
        "\n",
        "- Each chunk has a maximum size of 1000 tokens\n",
        "- It will try and split first on the `\\n\\n` character, then on the `\\n`, then on the `<SPACE>` character, and finally it will split on individual tokens.\n",
        "\n",
        "Let's implement it and see the results!"
      ]
    },
    {
      "cell_type": "code",
      "execution_count": 7,
      "metadata": {},
      "outputs": [],
      "source": [
        "import tiktoken\n",
        "from langchain.text_splitter import RecursiveCharacterTextSplitter\n",
        "\n",
        "def tiktoken_len(text):\n",
        "    tokens = tiktoken.encoding_for_model(\"gpt-4o\").encode(\n",
        "        text,\n",
        "    )\n",
        "    return len(tokens)\n",
        "\n",
        "text_splitter = RecursiveCharacterTextSplitter(\n",
        "    chunk_size = 750,\n",
        "    chunk_overlap = 0,\n",
        "    length_function = tiktoken_len,\n",
        ")"
      ]
    },
    {
      "cell_type": "code",
      "execution_count": 8,
      "metadata": {},
      "outputs": [],
      "source": [
        "loan_knowledge_chunks = text_splitter.split_documents(loan_knowledge_resources)"
      ]
    },
    {
      "cell_type": "markdown",
      "metadata": {},
      "source": [
        "##### 🏗️ Activity #1:\n",
        "\n",
        "While there's nothing specifically wrong with the chunking method used above - it is a naive approach that is not sensitive to specific data formats.\n",
        "\n",
        "Brainstorm some ideas that would split large single documents into smaller documents.\n",
        "\n",
        "#### ✅ Answer:\n",
        "\n",
        "## Sophisticated Document Chunking Strategies\n",
        "See [ACTIVITIES_QUESTIONS](./ACTIVITIES_QUESTIONS.md) for detailed code snippet examples\n",
        "\n",
        "### 1. **Semantic Boundary Chunking**\n",
        "\n",
        "This approach uses natural language processing to identify logical content boundaries, ensuring chunks maintain semantic coherence. Instead of splitting at arbitrary character counts, it identifies topic transitions, paragraph breaks, and section headers.\n",
        "\n",
        "**Process:**\n",
        "- Parse document structure (headers, paragraphs, sections)\n",
        "- Use sentence tokenization to identify natural breakpoints\n",
        "- Apply sliding window with overlap to maintain context\n",
        "- Validate chunk size constraints while preserving meaning\n",
        "\n",
        "### 2. **Hierarchical Structure-Aware Chunking**\n",
        "\n",
        "This method leverages document structure (tables, lists, code blocks, headers) to create chunks that respect the document's logical organization. It's particularly effective for technical documentation and structured content.\n",
        "\n",
        "**Process:**\n",
        "- Parse markdown/HTML structure to identify elements\n",
        "- Group related elements (tables with captions, code with explanations)\n",
        "- Maintain parent-child relationships in metadata\n",
        "- Create variable-sized chunks based on content type\n",
        "\n",
        "\n",
        "### 3. **Token-Optimized Sliding Window Chunking**\n",
        "\n",
        "This strategy optimizes for LLM token limits while maintaining context continuity. It uses actual tokenization to ensure precise token counts and implements intelligent overlap strategies.\n",
        "\n",
        "**Process:**\n",
        "- Use model-specific tokenizer for accurate token counting\n",
        "- Implement sliding window with contextual overlap\n",
        "- Preserve sentence boundaries within token constraints\n",
        "- Add metadata for chunk relationships and context\n",
        "\n",
        "\n",
        "### 4. **Embedding-Based Semantic Clustering Chunking**\n",
        "\n",
        "This advanced strategy uses vector embeddings to group semantically related content, even when it's not physically adjacent. It creates more coherent chunks by understanding content similarity at a deeper level than simple text analysis.\n",
        "\n",
        "**Process:**\n",
        "- Generate embeddings for sentences/paragraphs using sentence transformers\n",
        "- Apply clustering algorithms (K-means, DBSCAN) to group similar content\n",
        "- Create chunks from clusters while respecting size constraints\n",
        "- Maintain topic coherence across non-contiguous text sections\n",
        "\n",
        "\n",
        "### 5. **Multi-Modal Content-Type Aware Chunking**\n",
        "\n",
        "This sophisticated approach recognizes different content types (code blocks, tables, lists, prose) and applies specialized chunking strategies for each, maintaining the integrity of structured content while optimizing for downstream processing.\n",
        "\n",
        "**Process:**\n",
        "- Parse and classify content blocks by type (markdown, code, tables, etc.)\n",
        "- Apply type-specific chunking rules and size constraints\n",
        "- Maintain content relationships and dependencies\n",
        "- Create unified metadata schema across content types\n",
        "\n",
        "### 6. **Dependency-Aware Graph-Based Chunking**\n",
        "\n",
        "This cutting-edge approach models document content as a knowledge graph, identifying relationships and dependencies between concepts to create chunks that maintain logical coherence and reference integrity.\n",
        "\n",
        "**Process:**\n",
        "- Extract entities and relationships using NLP (spaCy, Stanford NER)\n",
        "- Build directed graph of content dependencies and references\n",
        "- Apply graph clustering algorithms to identify cohesive subgraphs\n",
        "- Generate chunks that preserve critical relationships and minimize broken references\n",
        "\n",
        "\n",
        "These sophisticated strategies leverage machine learning, graph theory, and advanced NLP to create more intelligent chunking that preserves semantic meaning, content structure, and logical relationships across document boundaries. Each strategy addresses different use cases: semantic chunking for general text processing, structure-aware for technical docs, and token-optimized for LLM applications. The choice depends on your document types and downstream processing requirements."
      ]
    },
    {
      "cell_type": "markdown",
      "metadata": {},
      "source": [
        "#### Embeddings and Dense Vector Search\n",
        "\n",
        "Now that we have our individual chunks, we need a system to correctly select the relevant pieces of information to answer our query.\n",
        "\n",
        "This sounds like a perfect job for embeddings!\n",
        "\n",
        "We'll be using OpenAI's `text-embedding-3` model as our embedding model today!\n",
        "\n",
        "Let's load it up through LangChain."
      ]
    },
    {
      "cell_type": "code",
      "execution_count": 9,
      "metadata": {},
      "outputs": [],
      "source": [
        "from langchain_openai.embeddings import OpenAIEmbeddings\n",
        "\n",
        "embedding_model = OpenAIEmbeddings(model=\"text-embedding-3-small\")"
      ]
    },
    {
      "cell_type": "markdown",
      "metadata": {},
      "source": [
        "##### ❓ Question #1:\n",
        "\n",
        "What is the embedding dimension, given that we're using `text-embedding-3-small`?\n",
        "\n",
        "You will need to fill the next cell out correctly with your embedding dimension for the rest of the notebook to run.\n",
        "\n",
        "> HINT: Check out the docs to help you answer this question.\n",
        "\n",
        "#### ✅ Answer:\n",
        "\n",
        "Based on the OpenAI documentation and search results, **`text-embedding-3-small` has a default embedding dimension of 1536**.\n",
        "\n",
        "Key details about the dimensions:\n",
        "\n",
        "- **Default dimensions**: 1536 (same as the previous `text-embedding-ada-002` model)\n",
        "- **Configurable dimensions**: Can be shortened to as few as 512 dimensions using the `dimensions` parameter\n",
        "- **Flexible sizing**: You can specify any dimension size between 512 and 1536 without losing the concept-representing properties\n",
        "\n",
        "The model creates embeddings with 1536 dimensions by default, but OpenAI implemented Matryoshka Representation Learning (MRL) which allows you to truncate the embeddings to smaller sizes while maintaining most of the semantic quality.\n",
        "\n",
        "This is particularly useful for:\n",
        "\n",
        "- **Cost optimization**: Smaller dimensions = lower storage costs in vector databases\n",
        "- **Performance tuning**: Balance between accuracy and computational efficiency  \n",
        "- **Infrastructure constraints**: Some vector stores have dimension limits\n",
        "\n",
        "For example, in your chunking pipeline, you could use:\n",
        "\n",
        "```python\n",
        "# Full dimensions (1536)\n",
        "response = openai.embeddings.create(\n",
        "    input=chunks,\n",
        "    model=\"text-embedding-3-small\"\n",
        ")\n",
        "\n",
        "# Reduced dimensions (512) for cost savings\n",
        "response = openai.embeddings.create(\n",
        "    input=chunks,\n",
        "    model=\"text-embedding-3-small\",\n",
        "    dimensions=512\n",
        ")\n",
        "```"
      ]
    },
    {
      "cell_type": "code",
      "execution_count": 10,
      "metadata": {},
      "outputs": [],
      "source": [
        "embedding_dim =  1536"
      ]
    },
    {
      "cell_type": "markdown",
      "metadata": {},
      "source": [
        "#### Using A Vector Database - Intoduction to Qdrant\n",
        "\n",
        "Up to this point, we've been using a dictionary to hold our embeddings - typically, we'll want to use a more robust strategy.\n",
        "\n",
        "In this bootcamp - we'll be focusing on leveraging [Qdrant's vector database](https://qdrant.tech/qdrant-vector-database/).\n",
        "\n",
        "Let's take a look at how we set-up Qdrant!\n",
        "\n",
        "> NOTE: We'll be spending a lot of time learning about Qdrant throughout the remainder of our time together - but for an initial primer, please check out [this resource](https://qdrant.tech/articles/what-is-a-vector-database/)\n",
        "\n",
        "We are going to be using an \"in-memory\" Qdrant client, which means that our vectors will be held in our system's memory (RAM) - this is useful for prototyping and developement at smaller scales - but would need to be modified when moving to production. Luckily for us, this modification is trivial!\n",
        "\n",
        "> NOTE: While LangChain uses the terminology \"VectorStore\" (also known as a Vector Library), Qdrant is a \"Vector Database\" - more info. on that [here.](https://weaviate.io/blog/vector-library-vs-vector-database)"
      ]
    },
    {
      "cell_type": "code",
      "execution_count": 11,
      "metadata": {},
      "outputs": [],
      "source": [
        "from langchain_qdrant import QdrantVectorStore\n",
        "from qdrant_client import QdrantClient\n",
        "from qdrant_client.http.models import Distance, VectorParams\n",
        "\n",
        "client = QdrantClient(\":memory:\")"
      ]
    },
    {
      "cell_type": "markdown",
      "metadata": {},
      "source": [
        "Next, we need to create a collection - a collection is a specific...collection of vectors within the Qdrant client.\n",
        "\n",
        "These are useful as they allow us to create multiple different \"warehouses\" in a single client, which can be leveraged for personalization and more!\n",
        "\n",
        "Also notice that we define what our vector shapes are (embedding dim) as well as our desired distance metric."
      ]
    },
    {
      "cell_type": "code",
      "execution_count": 12,
      "metadata": {},
      "outputs": [
        {
          "data": {
            "text/plain": [
              "True"
            ]
          },
          "execution_count": 12,
          "metadata": {},
          "output_type": "execute_result"
        }
      ],
      "source": [
        "client.create_collection(\n",
        "    collection_name=\"loan_knowledge_index\",\n",
        "    vectors_config=VectorParams(size=embedding_dim, distance=Distance.COSINE),\n",
        ")"
      ]
    },
    {
      "cell_type": "markdown",
      "metadata": {},
      "source": [
        "Now we can assemble our vector database! Notice that we provide our client, our created collection, and our embedding model!"
      ]
    },
    {
      "cell_type": "code",
      "execution_count": 13,
      "metadata": {},
      "outputs": [],
      "source": [
        "vector_store = QdrantVectorStore(\n",
        "    client=client,\n",
        "    collection_name=\"loan_knowledge_index\",\n",
        "    embedding=embedding_model,\n",
        ")"
      ]
    },
    {
      "cell_type": "markdown",
      "metadata": {},
      "source": [
        "Now that we have our vector database set-up, we can add our documents into it!"
      ]
    },
    {
      "cell_type": "code",
      "execution_count": 14,
      "metadata": {},
      "outputs": [],
      "source": [
        "_ = vector_store.add_documents(documents=loan_knowledge_chunks)"
      ]
    },
    {
      "cell_type": "markdown",
      "metadata": {},
      "source": [
        "#### Creating a Retriever\n",
        "\n",
        "Now that we have an idea of how we're getting our most relevant information - let's see how we could create a pipeline that would automatically extract the closest chunk to our query and use it as context for our prompt!\n",
        "\n",
        "This will involve a popular LangChain interace known as `as_retriever`!\n",
        "\n",
        "> NOTE: We can still specify how many documents we wish to retrieve per vector."
      ]
    },
    {
      "cell_type": "code",
      "execution_count": 15,
      "metadata": {},
      "outputs": [],
      "source": [
        "retriever = vector_store.as_retriever(search_kwargs={\"k\": 5})"
      ]
    },
    {
      "cell_type": "code",
      "execution_count": 16,
      "metadata": {},
      "outputs": [
        {
          "data": {
            "text/plain": [
              "[Document(metadata={'producer': 'GPL Ghostscript 10.00.0', 'creator': 'wkhtmltopdf 0.12.6', 'creationdate': \"D:20250605165703Z00'00'\", 'source': 'data/The_Direct_Loan_Program.pdf', 'file_path': 'data/The_Direct_Loan_Program.pdf', 'total_pages': 71, 'format': 'PDF 1.7', 'title': '', 'author': '', 'subject': '', 'keywords': '', 'moddate': \"D:20250605165703Z00'00'\", 'trapped': '', 'modDate': \"D:20250605165703Z00'00'\", 'creationDate': \"D:20250605165703Z00'00'\", 'page': 25, '_id': 'f18bc670e812446881cd978f20e47f33', '_collection_name': 'loan_knowledge_index'}, page_content='hour, or non-SE9W nonstandard term program is offered in modules, the minimum loan period is still the lesser of the\\nacademic year or the program length (or remaining portion of the program).\\nFor Title IV aid purposes, students are allowed to skip one or more modules. However, if a loan period includes modules\\nthat the student does not attend, the COA for the loan period may not include costs associated with those modules.\\nMinimum Loan Period: Standard Term Combined With an Intersession\\nAs we explain under <Intersessions= in Volume 3, Chapter 1, in limited cases for academic programs offered in standard\\nterms, a short nonstandard term (often called an <intersession=) may be combined with a preceding or following standard\\nterm and considered to be a single standard term. In such cases, the minimum loan period for a Direct Loan is different\\ndepending on whether a student attends the intersession. If a student who attends the intersession requests a loan for the\\ncombined term, the loan period includes the standard term plus the intersession. However, if the student attends only the\\nstandard term and is not enrolled in the intersession that is attached to that term, the loan period includes only the\\nstandard term.\\nMaximum Loan Periods\\nThe maximum period for which you may originate a Direct Loan is generally an academic year. However, if your school\\napplies the annual loan limit for Direct Subsidized Loans and Direct Unsubsidized Loans to a period of time greater than\\nan academic year, you may originate a Direct Loan for that longer period of time. For example, a school might offer an\\n1100 clock-hour program and define the academic year as 900 clock hours but could choose to allow students to receive\\njust one annual loan limit for the entire 1100-hour program. In that case, the loan period would correspond to the length\\nof the program, a period of time that is longer than the academic year.\\nDirect Loan Disbursement Requirements\\nFor general guidance on the timing of disbursements made under the Title IV programs, see Volume 3, Chapter 1. For\\nguidance on reporting Title IV program disbursements through the COD System and the rules for making early\\ndisbursements, late disbursements, and retroactive payments, see Volume 4, Chapter 2. In this section we discuss certain\\nother disbursement requirements that are specific to the Direct Loan Program.\\nNote: See the guidance at the end of this chapter for certain exceptions to the normal Direct Loan disbursement\\nrequirements that apply when periods of clinical work are included in a standard term.\\nRequirement for Substantially Equal Disbursements\\nDirect Loans must be disbursed in substantially equal installments, regardless of any difference in costs for different\\npayment periods that are within the same loan period, and no Direct Loan disbursement may exceed one-half of the loan\\nMaximum Loan Period\\n34 CFR 685.301(a)(10)(iv)\\nDetermining Direct Loan Disbursement Dates and Amounts\\n34 CFR 685.303(d)'),\n",
              " Document(metadata={'producer': 'GPL Ghostscript 10.00.0', 'creator': 'wkhtmltopdf 0.12.6', 'creationdate': \"D:20250605165703Z00'00'\", 'source': 'data/The_Direct_Loan_Program.pdf', 'file_path': 'data/The_Direct_Loan_Program.pdf', 'total_pages': 71, 'format': 'PDF 1.7', 'title': '', 'author': '', 'subject': '', 'keywords': '', 'moddate': \"D:20250605165703Z00'00'\", 'trapped': '', 'modDate': \"D:20250605165703Z00'00'\", 'creationDate': \"D:20250605165703Z00'00'\", 'page': 23, '_id': '46a902856edf478e8e9dc850f3172d26', '_collection_name': 'loan_knowledge_index'}, page_content='period are separated by one or more terms in which the student is ineligible. For example, if a student is expected to be\\nenrolled on at least a half-time basis in the fall and spring quarters of an academic year consisting of the fall, winter, and\\nspring quarters, but the student indicates that they do not plan to attend the winter quarter (or that they plan to be\\nenrolled on a less than half-time basis during that quarter), the school may still originate a loan for a loan period covering\\nthe fall, winter, and spring quarters. Of course, no costs associated with winter quarter may be included in the student9s\\nCOA when determining the loan amount the student is eligible to receive for the fall and spring quarters. Similarly, if a\\nschool initially originates a loan for a fall-winter-spring loan period based on a student9s anticipated enrollment status of\\nat least half time during all three quarters, but the student subsequently does not attend the winter quarter or temporarily\\ndrops below half-time status for that term, and then resumes at least half-time enrollment in the spring, the school is not\\nrequired to make any changes to the original fall-winter-spring loan period. However, it may be necessary for the school\\nto adjust the originally approved loan amount if that amount is no longer supported by the reduced costs for the fall and\\nspring quarters only.\\nIn the first scenario described above the school could also choose to originate two separate loans for fall-only and spring-\\nonly loan periods. In the second scenario the school would also have the option of adjusting the original fall-winter-spring\\nloan period to fall-only, and then originating a new spring-only loan. Note, however, that in both cases the school would\\nthen be required to separately subtract the student9s full SAI from the fall-only and spring-only costs when determining\\nthe student9s Direct Subsidized Loan eligibility for those terms (see <No Alternate SAI When Originating Loans for Periods\\nOther Than Nine Months= earlier in this chapter). In some cases this could significantly reduce or even eliminate a\\nstudent9s need for Direct Subsidized Loans. In contrast, using a fall-winter-spring loan period (excluding all costs\\nassociated with the winter quarter) would allow the school to subtract the full SAI from the higher combined costs for the\\nfall and spring terms, partially mitigating the effect of not having alternate SAIs for periods of enrollment other than nine\\nmonths.\\nThe limited exception described above applies only if a student is eligible to receive a Direct Loan during the first and last\\nterms within the loan period. The term in which the student is ineligible cannot be the first or last term in the loan period.\\nFor instance, a school may not originate a loan for a fall-winter-spring loan period if the student does not attend the fall\\nterm or the spring term.\\nNote: See the guidance at the end of this chapter for certain exceptions to the normal loan period rules that apply when\\nperiods of clinical work are included in a standard term.\\nMinimum Loan Periods\\nThe minimum period for which a school may originate a Direct Loan varies depending on the school9s academic calendar.\\nAs explained below and in Chapter 7, different rules apply for purposes of determining the minimum loan period for a\\nDirect Loan and the type of academic year that a school may use to monitor Direct Loan annual loan limits depending on\\nwhether a program is term-based (including subscription-based programs; see Volume 3, Chapter 1) with either standard'),\n",
              " Document(metadata={'producer': 'GPL Ghostscript 10.00.0', 'creator': 'wkhtmltopdf 0.12.6', 'creationdate': \"D:20250605165703Z00'00'\", 'source': 'data/The_Direct_Loan_Program.pdf', 'file_path': 'data/The_Direct_Loan_Program.pdf', 'total_pages': 71, 'format': 'PDF 1.7', 'title': '', 'author': '', 'subject': '', 'keywords': '', 'moddate': \"D:20250605165703Z00'00'\", 'trapped': '', 'modDate': \"D:20250605165703Z00'00'\", 'creationDate': \"D:20250605165703Z00'00'\", 'page': 22, '_id': '460bcc8e71214469860a6f54650b5c3a', '_collection_name': 'loan_knowledge_index'}, page_content=\"or to prevent the total aid package from exceeding the student9s need.\\nAlthough a school isn9t required to return Direct Loan funds that were disbursed to the borrower (either directly or by\\napplying them to the student's account) before the overaward situation occurred, the law doesn9t prevent your school\\nfrom returning funds that were applied to the student account if you choose to do so. A borrower who receives a direct\\npayment of loan funds is not required to repay an overawarded amount, unless the overaward was caused by the\\nborrower9s misreporting or withholding of information.\\nLoan Periods\\nThe loan period (also referred to as the <period of enrollment=) is the period for which a Direct Loan is intended. It must\\ncoincide with an academic period established by the school for which institutional charges are generally assessed (e.g.,\\nsemester, trimester, quarter, length of the student9s program, or academic year). It9s important to define the loan period\\nat the beginning of the loan awarding process, because the timing and amount of Direct Loan disbursements are tied to\\nthe loan period.\\nGenerally, the loan period may not include terms in which a student is ineligible (for example, if the student is not enrolled\\nduring a particular term or is enrolled less than half time during a term). There is a limited exception to this rule if the loan\\nperiod begins and ends with a term in which the student is eligible for Direct Loans, but the first and last terms of the loan\"),\n",
              " Document(metadata={'producer': 'GPL Ghostscript 10.00.0', 'creator': 'wkhtmltopdf 0.12.6', 'creationdate': \"D:20250605165703Z00'00'\", 'source': 'data/The_Direct_Loan_Program.pdf', 'file_path': 'data/The_Direct_Loan_Program.pdf', 'total_pages': 71, 'format': 'PDF 1.7', 'title': '', 'author': '', 'subject': '', 'keywords': '', 'moddate': \"D:20250605165703Z00'00'\", 'trapped': '', 'modDate': \"D:20250605165703Z00'00'\", 'creationDate': \"D:20250605165703Z00'00'\", 'page': 24, '_id': '0af29552e3a3476a97b8d61e5c7552d9', '_collection_name': 'loan_knowledge_index'}, page_content='2. \\nNonstandard terms that are substantially equal, but one or more of the terms in the academic year\\ncontains fewer than nine weeks.\\nNon-\\nSE9W\\n3. \\nNonstandard terms that are not substantially equal in length (one or more of the terms in the academic\\nyear differs in length from another term by more than two weeks).\\nNon-\\nSE9W\\nWe refer to the first type of nonstandard term as <SE9W= nonstandard terms. We group the second and third types\\ntogether and refer to them as <non-SE9W= nonstandard terms.\\nPrograms with SE9W nonstandard terms are treated the same as standard-term programs for purposes of determining\\nminimum loan period length and monitoring annual loan limits. However, programs with non-SE9W nonstandard terms are\\ntreated the same as non-term programs for these purposes.\\nNote that substantially equal nonstandard terms (the first two types of nonstandard terms described above) are treated\\ndifferently for purposes of determining Direct Loan payment periods than for determining minimum loan period length\\nand monitoring annual loan limits. As explained in Volume 1, Chapter 1, if a program is offered in standard terms or in\\nnonstandard terms that are substantially equal in length (regardless of the length of the nonstandard term), the payment\\nperiod is the term.\\nHowever, for purposes of determining the minimum loan period for a Direct Loan and monitoring Direct Loan annual loan\\nlimits, substantially equal nonstandard terms that contain fewer than nine weeks are treated the same as nonstandard\\nterms that are not substantially equal. This means that if a program has substantially equal nonstandard terms that are\\nless than nine weeks in length, you must make a Direct Loan disbursement each term (the same as would be the case if\\nthe program were offered in standard terms), but the minimum loan period and the type of academic year used to\\nmonitor Direct Loan annual loan limits must be determined in accordance with the rules that apply to non-term programs.\\nFor detailed information on standard term, nonstandard term, and non-term programs, see Volume 1, Chapter 1.\\nMinimum Loan Period: Standard Term and SE9W Nonstandard Term Programs\\nFor credit-hour programs with standard terms (semesters, quarters, or trimesters), or with SE9W\\nnonstandard terms, the minimum loan period is a single academic term. For example, if a student will be enrolled in the\\nfall semester only and will skip the spring semester, you may originate a loan with a loan period that covers only the fall\\nterm.\\nMinimum Loan Period: Clock-Hour, Non-Term, and Non-SE9W Nonstandard Term Programs\\nFor all other programs (i.e., clock-hour, non-term, and non-SE9W nonstandard term programs), the minimum\\nloan period is generally the lesser of the program length (or remainder of the program, if there is less than full academic\\nyear remaining) or the academic year. There are exceptions to this minimum loan period rule when originating loans for\\ntransfer students, or for students who complete or otherwise cease enrollment in one program and then begin a different\\nprogram at the same school. We discuss these exceptions in detail in Chapter 7 of this volume.\\nMinimum Loan Period: Programs Offered in Modules\\nIf a program is offered in modules, this does not change the minimum loan period rules for Direct Loans. For example, if a\\nstandard or SE9W nonstandard term is divided into two or more modules, the minimum loan period for a Direct Loan is'),\n",
              " Document(metadata={'producer': 'GPL Ghostscript 10.00.0', 'creator': 'wkhtmltopdf 0.12.6', 'creationdate': \"D:20250605165703Z00'00'\", 'source': 'data/The_Direct_Loan_Program.pdf', 'file_path': 'data/The_Direct_Loan_Program.pdf', 'total_pages': 71, 'format': 'PDF 1.7', 'title': '', 'author': '', 'subject': '', 'keywords': '', 'moddate': \"D:20250605165703Z00'00'\", 'trapped': '', 'modDate': \"D:20250605165703Z00'00'\", 'creationDate': \"D:20250605165703Z00'00'\", 'page': 70, '_id': 'ce037550bc6942d79228f644954a3468', '_collection_name': 'loan_knowledge_index'}, page_content='credit-hour program.) The loan period will be for the first full academic year of the new program (the period\\nduring which the student will be expected to complete 24 semester hours and 30 weeks of instructional time).')]"
            ]
          },
          "execution_count": 16,
          "metadata": {},
          "output_type": "execute_result"
        }
      ],
      "source": [
        "retriever.invoke(\"What is the loan repayment period?\")"
      ]
    },
    {
      "cell_type": "markdown",
      "metadata": {},
      "source": [
        "#### Creating the Node\n",
        "\n",
        "We're finally ready to create our node!"
      ]
    },
    {
      "cell_type": "code",
      "execution_count": 17,
      "metadata": {
        "id": "05qhncktIwK_"
      },
      "outputs": [],
      "source": [
        "def retrieve(state: State) -> State:\n",
        "  retrieved_docs = retriever.invoke(state[\"question\"])\n",
        "  return {\"context\" : retrieved_docs}"
      ]
    },
    {
      "cell_type": "markdown",
      "metadata": {},
      "source": [
        "### Generate Node\n",
        "\n",
        "Next, let's create our `generate` node - which will leverage LangChain and something called an \"LCEL Chain\" which you can read more about [here](https://python.langchain.com/docs/concepts/lcel/)!\n",
        "\n",
        "We'll want to create a chain that does the following: \n",
        "\n",
        "1. Formats our inputs into a chat template suitable for RAG\n",
        "2. Takes that chat template and sends it to an LLM\n",
        "3. Parses that output into `str` format\n",
        "\n",
        "Let's get chaining!"
      ]
    },
    {
      "cell_type": "markdown",
      "metadata": {},
      "source": [
        "#### Chain Components: RAG Chat Template\n",
        "\n",
        "We'll create a chat template that takes in some query and formats it as a RAG prompt using LangChain's prompt template!"
      ]
    },
    {
      "cell_type": "code",
      "execution_count": 18,
      "metadata": {},
      "outputs": [],
      "source": [
        "from langchain_core.prompts import ChatPromptTemplate\n",
        "\n",
        "HUMAN_TEMPLATE = \"\"\"\n",
        "#CONTEXT:\n",
        "{context}\n",
        "\n",
        "QUERY:\n",
        "{query}\n",
        "\n",
        "Use the provide context to answer the provided user query. Only use the provided context to answer the query. If you do not know the answer, or it's not contained in the provided context response with \"I don't know\"\n",
        "\"\"\"\n",
        "\n",
        "chat_prompt = ChatPromptTemplate.from_messages([\n",
        "    (\"human\", HUMAN_TEMPLATE)\n",
        "])"
      ]
    },
    {
      "cell_type": "code",
      "execution_count": 19,
      "metadata": {},
      "outputs": [
        {
          "data": {
            "text/plain": [
              "'\\n#CONTEXT:\\nOUR CONTEXT HERE\\n\\nQUERY:\\nOUR QUERY HERE\\n\\nUse the provide context to answer the provided user query. Only use the provided context to answer the query. If you do not know the answer, or it\\'s not contained in the provided context response with \"I don\\'t know\"\\n'"
            ]
          },
          "execution_count": 19,
          "metadata": {},
          "output_type": "execute_result"
        }
      ],
      "source": [
        "chat_prompt.invoke({\"context\" : \"OUR CONTEXT HERE\", \"query\" : \"OUR QUERY HERE\"}).messages[0].content"
      ]
    },
    {
      "cell_type": "markdown",
      "metadata": {},
      "source": [
        "##### Chain Components: Generator\n",
        "\n",
        "We'll next set-up the generator - which will be OpenAI's `gpt-4o-nano` for today!"
      ]
    },
    {
      "cell_type": "code",
      "execution_count": 20,
      "metadata": {},
      "outputs": [],
      "source": [
        "from langchain_openai import ChatOpenAI\n",
        "\n",
        "openai_chat_model = ChatOpenAI(model=\"gpt-4.1-nano\")"
      ]
    },
    {
      "cell_type": "markdown",
      "metadata": {},
      "source": [
        "Let's now call our model with a formatted prompt.\n",
        "\n",
        "Notice that we have some nested calls here - we'll see that this is made easier by LCEL."
      ]
    },
    {
      "cell_type": "code",
      "execution_count": 21,
      "metadata": {},
      "outputs": [
        {
          "data": {
            "text/plain": [
              "AIMessage(content='The capital of France is Paris.', additional_kwargs={'refusal': None}, response_metadata={'token_usage': {'completion_tokens': 7, 'prompt_tokens': 72, 'total_tokens': 79, 'completion_tokens_details': {'accepted_prediction_tokens': 0, 'audio_tokens': 0, 'reasoning_tokens': 0, 'rejected_prediction_tokens': 0}, 'prompt_tokens_details': {'audio_tokens': 0, 'cached_tokens': 0}}, 'model_name': 'gpt-4.1-nano-2025-04-14', 'system_fingerprint': 'fp_38343a2f8f', 'id': 'chatcmpl-BqRAcQ817ExllHTZSLp3V1CVh4uR7', 'service_tier': 'default', 'finish_reason': 'stop', 'logprobs': None}, id='run--6d8c4f8c-436f-49d9-b3e8-847600a65332-0', usage_metadata={'input_tokens': 72, 'output_tokens': 7, 'total_tokens': 79, 'input_token_details': {'audio': 0, 'cache_read': 0}, 'output_token_details': {'audio': 0, 'reasoning': 0}})"
            ]
          },
          "execution_count": 21,
          "metadata": {},
          "output_type": "execute_result"
        }
      ],
      "source": [
        "openai_chat_model.invoke(chat_prompt.invoke({\"context\" : \"Paris is the capital of France\", \"query\" : \"What is the capital of France?\"}))"
      ]
    },
    {
      "cell_type": "markdown",
      "metadata": {},
      "source": [
        "#### Chain Components: `str` Parser\n",
        "\n",
        "Finally, let's set-up our `StrOutputParser()` which will transform our model's output into a simple `str` to be provided to the user.\n",
        "\n",
        "> NOTE: You can see us leveraging LCEL in the example below to avoid needing to do nested calls."
      ]
    },
    {
      "cell_type": "code",
      "execution_count": 22,
      "metadata": {},
      "outputs": [
        {
          "data": {
            "text/plain": [
              "'The capital of France is Paris.'"
            ]
          },
          "execution_count": 22,
          "metadata": {},
          "output_type": "execute_result"
        }
      ],
      "source": [
        "from langchain_core.output_parsers import StrOutputParser\n",
        "\n",
        "generator_chain = chat_prompt | openai_chat_model | StrOutputParser()\n",
        "\n",
        "generator_chain.invoke({\"context\" : \"Paris is the capital of France\", \"query\" : \"What is the capital of France?\"})"
      ]
    },
    {
      "cell_type": "markdown",
      "metadata": {},
      "source": [
        "### `generate` Node: \n",
        "\n",
        "Now we can create our `generate` Node!"
      ]
    },
    {
      "cell_type": "code",
      "execution_count": 23,
      "metadata": {
        "id": "XiL2isC8JS0l"
      },
      "outputs": [],
      "source": [
        "def generate(state: State) -> State:\n",
        "  generator_chain = chat_prompt | openai_chat_model | StrOutputParser()\n",
        "  response = generator_chain.invoke({\"query\" : state[\"question\"], \"context\" : state[\"context\"]})\n",
        "  return {\"response\" : response}"
      ]
    },
    {
      "cell_type": "markdown",
      "metadata": {
        "id": "_ZtriMEcJxeR"
      },
      "source": [
        "Now we can start defining our graph!\n",
        "\n",
        "Think of the graph's state as a blank canvas that we can add nodes and edges to.\n",
        "\n",
        "Every graph starts with two special nodes - START and END - the act as the entry and exit point to the other nodes in the graphs.  \n",
        "\n",
        "All valid graphs must start at the START node and end at the END node."
      ]
    },
    {
      "cell_type": "code",
      "execution_count": 24,
      "metadata": {
        "id": "ia9IWM9AJ4bx"
      },
      "outputs": [],
      "source": [
        "# Start with the blank canvas\n",
        "graph_builder = StateGraph(State)"
      ]
    },
    {
      "cell_type": "markdown",
      "metadata": {
        "id": "8kro8bQEL2Yj"
      },
      "source": [
        "Now we can add a sequence to our \"canvas\" (graph) - this can be done by providing a list of nodes, the will automatically have edges that connect the i-th element to the i+1-th element in the list. The final element will be added to the END node unless otherwise specified."
      ]
    },
    {
      "cell_type": "code",
      "execution_count": 25,
      "metadata": {
        "id": "OSfDMlXUL2kh"
      },
      "outputs": [],
      "source": [
        "graph_builder = graph_builder.add_sequence([retrieve, generate])"
      ]
    },
    {
      "cell_type": "markdown",
      "metadata": {
        "id": "g79NZf5VL4en"
      },
      "source": [
        "Next, let's connect our START node to our `retrieve` node by adding an edge."
      ]
    },
    {
      "cell_type": "code",
      "execution_count": 26,
      "metadata": {
        "id": "w1kTJKGNL4qA"
      },
      "outputs": [
        {
          "data": {
            "text/plain": [
              "<langgraph.graph.state.StateGraph at 0x160fda180>"
            ]
          },
          "execution_count": 26,
          "metadata": {},
          "output_type": "execute_result"
        }
      ],
      "source": [
        "graph_builder.add_edge(START, \"retrieve\")"
      ]
    },
    {
      "cell_type": "markdown",
      "metadata": {
        "id": "5EiVyt8-L6_5"
      },
      "source": [
        "Finally we can compile our graph! This will do basic verification to ensure that the Runnables have the correct inputs/outputs and can be matched."
      ]
    },
    {
      "cell_type": "code",
      "execution_count": 27,
      "metadata": {
        "id": "TM4My6geL7FW"
      },
      "outputs": [],
      "source": [
        "graph = graph_builder.compile()"
      ]
    },
    {
      "cell_type": "markdown",
      "metadata": {
        "id": "fNvoQcfCP3xI"
      },
      "source": [
        "Finally, we can visualize our graph!"
      ]
    },
    {
      "cell_type": "code",
      "execution_count": 28,
      "metadata": {},
      "outputs": [
        {
          "data": {
            "image/png": "[encoded data removed]",
            "text/plain": [
              "<langgraph.graph.state.CompiledStateGraph object at 0x1610310a0>"
            ]
          },
          "execution_count": 28,
          "metadata": {},
          "output_type": "execute_result"
        }
      ],
      "source": [
        "graph"
      ]
    },
    {
      "cell_type": "markdown",
      "metadata": {
        "id": "sBRCjvvyP8DA"
      },
      "source": [
        "Let's take it for a spin!\n",
        "\n",
        "We invoke our graph like we do any other Runnable in LCEL!\n",
        "\n",
        "> NOTE: That's right, even a compiled graph is a Runnable!"
      ]
    },
    {
      "cell_type": "code",
      "execution_count": 29,
      "metadata": {
        "colab": {
          "base_uri": "https://localhost:8080/",
          "height": 105
        },
        "id": "mSbsRLurKOKd",
        "outputId": "114185f3-4b98-4c66-96cd-65f4e4e3ef1d"
      },
      "outputs": [
        {
          "data": {
            "text/markdown": [
              "Applying for and securing a student loan in 2025 is not necessarily a terrible idea based on the provided context. The documents mention that the application process for federal student aid, such as FAFSA, begins with deadlines starting October 1, 2024, and applications are accepted through June 30, 2026. It also outlines the importance of understanding loan limits, eligibility requirements, and counseling options to ensure responsible borrowing. While the context emphasizes careful consideration of aid and loan packaging, it does not directly state that obtaining a loan in 2025 is a bad idea. Therefore, whether it is a good or bad idea depends on individual circumstances and how the loans are managed, but no statement in the context labels it as \"terrible.\""
            ],
            "text/plain": [
              "<IPython.core.display.Markdown object>"
            ]
          },
          "metadata": {},
          "output_type": "display_data"
        }
      ],
      "source": [
        "from IPython.display import Markdown, display\n",
        "response = graph.invoke({\"question\" : \"Is applying for and securing a student loan in 2025 a terrible idea?\"})\n",
        "display(Markdown(response[\"response\"]))"
      ]
    },
    {
      "cell_type": "code",
      "execution_count": 30,
      "metadata": {
        "colab": {
          "base_uri": "https://localhost:8080/",
          "height": 35
        },
        "id": "a_jEmE_rKwED",
        "outputId": "c5fac807-2a24-4cf9-8cca-105def13e3d8"
      },
      "outputs": [
        {
          "data": {
            "text/markdown": [
              "Based on the provided context, the maximum loan amounts a student may receive from the government depend on the specific program and circumstances:\n",
              "\n",
              "- For general programs at School B, the total loan amount may be up to $1,815, with no more than $1,155 of that being subsidized. If the student receives the maximum subsidized loan during an abbreviated period, there is no remaining eligibility afterward.\n",
              "\n",
              "- For dependent undergraduate students enrolled in a 900 clock-hour program, the combined annual loan limit (subsidized and unsubsidized) is $5,500, with no more than $3,500 subsidized.\n",
              "\n",
              "- The overall aggregate loan limits (including subsidized and unsubsidized) are also specified:\n",
              "  - For dependent undergraduates (excluding certain cases), up to $31,000 in total, with no more than $23,000 subsidized.\n",
              "  - For independent undergraduates, up to $57,500 total, with no more than $23,000 subsidized.\n",
              "  - For graduate and professional students, up to $138,500 total, with no more than $65,500 subsidized.\n",
              "\n",
              "There are proration rules applied if the program is shorter than an academic year, which can reduce the amount of loan money a student is eligible for. The school is responsible for adjusting disbursements if the maximum allowable loan amount is exceeded.\n",
              "\n",
              "Thus, there are caps on the total loan amounts students can borrow, determined by their program, year in school, and previous borrowing history."
            ],
            "text/plain": [
              "<IPython.core.display.Markdown object>"
            ]
          },
          "metadata": {},
          "output_type": "display_data"
        }
      ],
      "source": [
        "response = graph.invoke({\"question\" : \"How much loan money can I actually get from the government to go to school these days? Is there a cap?\"})\n",
        "display(Markdown(response[\"response\"]))"
      ]
    },
    {
      "cell_type": "code",
      "execution_count": 31,
      "metadata": {},
      "outputs": [
        {
          "data": {
            "text/markdown": [
              "Based on the provided context, grants and scholarships available for free include Pell Grants, FSEOG (Federal Supplemental Educational Opportunity Grants), state grants, and scholarships that do not require future employment or other conditions requiring repayment."
            ],
            "text/plain": [
              "<IPython.core.display.Markdown object>"
            ]
          },
          "metadata": {},
          "output_type": "display_data"
        }
      ],
      "source": [
        "response = graph.invoke({\"question\" : \"What grants and scholarships are available for free?\"})\n",
        "display(Markdown(response[\"response\"]))"
      ]
    },
    {
      "cell_type": "code",
      "execution_count": 32,
      "metadata": {},
      "outputs": [
        {
          "data": {
            "text/markdown": [
              "I don't know"
            ],
            "text/plain": [
              "<IPython.core.display.Markdown object>"
            ]
          },
          "metadata": {},
          "output_type": "display_data"
        }
      ],
      "source": [
        "response = graph.invoke({\"question\" : \"Who is Batman?\"})\n",
        "display(Markdown(response[\"response\"]))"
      ]
    },
    {
      "cell_type": "markdown",
      "metadata": {
        "id": "E_LRYXvvRjOp"
      },
      "source": [
        "#### ❓ Question #2:\n",
        "LangGraph's graph-based approach lets us visualize and manage complex flows naturally. How could we extend our current implementation to handle edge cases? For example:\n",
        "- What if the retriever finds no relevant context?  \n",
        "- What if the response needs fact-checking?\n",
        "Consider how you would modify the graph to handle these scenarios.\n",
        "\n",
        "##### Solution\n",
        "\n"
      ]
    },
    {
      "cell_type": "markdown",
      "metadata": {},
      "source": [
        "#### ✅ Answer:\n",
        "\n",
        "## Enhanced LangGraph RAG with Edge Case Handling\n",
        "\n",
        "To handle edge cases in our RAG system, we'll extend the graph with additional nodes and conditional routing. Here's how we can address the scenarios you mentioned:\n",
        "\n",
        "### 1. Enhanced State Definition\n",
        "\n",
        "First, let's extend our state to track additional information needed for edge case handling:"
      ]
    },
    {
      "cell_type": "code",
      "execution_count": 33,
      "metadata": {},
      "outputs": [],
      "source": [
        "from typing import TypedDict, List, Optional, Literal\n",
        "from langchain_core.documents import Document\n",
        "\n",
        "# Enhanced State with edge case handling\n",
        "class EnhancedState(TypedDict):\n",
        "    question: str\n",
        "    context: list[Document]\n",
        "    response: str\n",
        "    context_quality: Optional[float]  # Score for context relevance\n",
        "    needs_fact_check: Optional[bool]  # Flag for fact-checking requirement\n",
        "    fact_check_result: Optional[str]  # Result of fact-checking\n",
        "    fallback_response: Optional[str]  # Response when no context found\n",
        "    confidence_score: Optional[float]  # Overall confidence in the response\n"
      ]
    },
    {
      "cell_type": "markdown",
      "metadata": {
        "vscode": {
          "languageId": "raw"
        }
      },
      "source": [
        "### 2. Enhanced Retrieval Node\n",
        "\n",
        "We'll modify the retrieval node to assess context quality and handle cases where no relevant context is found:\n"
      ]
    },
    {
      "cell_type": "code",
      "execution_count": 34,
      "metadata": {},
      "outputs": [],
      "source": [
        "def enhanced_retrieve(state: EnhancedState) -> EnhancedState:\n",
        "    \"\"\"Enhanced retrieval with context quality assessment using the same Qdrant vector store\"\"\"\n",
        "    \n",
        "    # Use the same retriever from the previous implementation\n",
        "    # This ensures we're using the same Qdrant vector database and embedding model\n",
        "    retrieved_docs = retriever.invoke(state[\"question\"])\n",
        "    \n",
        "    # Assess context quality using similarity scores and content analysis\n",
        "    context_quality = 0.0\n",
        "    \n",
        "    if retrieved_docs:\n",
        "        # Enhanced quality assessment using the same similarity scoring approach\n",
        "        # Get similarity scores by performing a similarity search with scores\n",
        "        scored_docs = vector_store.similarity_search_with_score(\n",
        "            state[\"question\"], \n",
        "            k=5\n",
        "        )\n",
        "        \n",
        "        # Calculate context quality based on similarity scores\n",
        "        if scored_docs:\n",
        "            # Use the highest similarity score as base quality\n",
        "            # Note: Qdrant with cosine distance returns distance, not similarity\n",
        "            # So we convert distance to similarity (1 - distance)\n",
        "            max_similarity = 1 - min(score for _, score in scored_docs)\n",
        "            context_quality = max(0.0, max_similarity)\n",
        "            \n",
        "            # Boost quality if we have multiple good matches\n",
        "            good_matches = sum(1 for _, score in scored_docs if (1 - score) > 0.7)\n",
        "            if good_matches >= 2:\n",
        "                context_quality = min(1.0, context_quality + 0.2)\n",
        "        \n",
        "        # Additional quality check based on content relevance\n",
        "        question_terms = set(state[\"question\"].lower().split())\n",
        "        for doc in retrieved_docs:\n",
        "            doc_terms = set(doc.page_content.lower().split())\n",
        "            overlap = len(question_terms.intersection(doc_terms))\n",
        "            if overlap > 2:  # If more than 2 terms overlap, boost quality\n",
        "                context_quality = min(1.0, context_quality + 0.1)\n",
        "                break\n",
        "    \n",
        "    return {\n",
        "        \"context\": retrieved_docs,\n",
        "        \"context_quality\": context_quality\n",
        "    }\n"
      ]
    },
    {
      "cell_type": "markdown",
      "metadata": {
        "vscode": {
          "languageId": "raw"
        }
      },
      "source": [
        "### 3. Context Quality Router\n",
        "\n",
        "This node decides whether to proceed with generation or provide a fallback response.\n",
        "\n",
        "**Note on LangGraph Best Practice:**\n",
        "Router functions should return the actual node names directly (like \"enhanced_generate\", \"fallback_response\"). This follows LangGraph conventions and avoids unnecessary mapping layers that can complicate debugging and maintenance.\n"
      ]
    },
    {
      "cell_type": "code",
      "execution_count": 35,
      "metadata": {},
      "outputs": [],
      "source": [
        "def route_based_on_context_quality(state: EnhancedState):\n",
        "    \"\"\"Route based on context quality assessment\"\"\"\n",
        "    \n",
        "    context_quality = state.get(\"context_quality\", 0.0)\n",
        "    context = state.get(\"context\", [])\n",
        "    \n",
        "    # If no context found or quality is too low, use fallback\n",
        "    if not context or context_quality < 0.3:\n",
        "        return \"fallback_response\"  # Direct node name - LangGraph best practice\n",
        "    else:\n",
        "        return \"enhanced_generate\"  # Direct node name - LangGraph best practice\n"
      ]
    },
    {
      "cell_type": "markdown",
      "metadata": {
        "vscode": {
          "languageId": "raw"
        }
      },
      "source": [
        "### 4. Fallback Response Node\n",
        "\n",
        "This node handles cases where no relevant context is found:\n"
      ]
    },
    {
      "cell_type": "code",
      "execution_count": 36,
      "metadata": {},
      "outputs": [],
      "source": [
        "def fallback_response(state: EnhancedState) -> EnhancedState:\n",
        "    \"\"\"Provide fallback response when no relevant context is found\"\"\"\n",
        "    \n",
        "    fallback_msg = (\"I apologize, but I couldn't find relevant information in my knowledge base \"\n",
        "                   \"to answer your question about student loans and financial aid. \"\n",
        "                   \"For the most accurate and up-to-date information, I recommend contacting \"\n",
        "                   \"your school's financial aid office or visiting studentaid.gov.\")\n",
        "    \n",
        "    return {\n",
        "        \"response\": fallback_msg,\n",
        "        \"fallback_response\": fallback_msg,\n",
        "        \"confidence_score\": 0.1\n",
        "    }\n"
      ]
    },
    {
      "cell_type": "markdown",
      "metadata": {
        "vscode": {
          "languageId": "raw"
        }
      },
      "source": [
        "### 5. Enhanced Generation Node\n",
        "\n",
        "This node generates responses and determines if fact-checking is needed:\n"
      ]
    },
    {
      "cell_type": "code",
      "execution_count": 37,
      "metadata": {},
      "outputs": [],
      "source": [
        "def enhanced_generate(state: EnhancedState) -> EnhancedState:\n",
        "    \"\"\"Enhanced generation with fact-checking assessment using the same chat prompt and model\"\"\"\n",
        "    \n",
        "    # Use the same generator chain from the previous implementation\n",
        "    # This ensures we're using the same chat_prompt and openai_chat_model\n",
        "    generator_chain = chat_prompt | openai_chat_model | StrOutputParser()\n",
        "    response = generator_chain.invoke({\n",
        "        \"query\": state[\"question\"], \n",
        "        \"context\": state[\"context\"]\n",
        "    })\n",
        "    \n",
        "    # Determine if fact-checking is needed based on content analysis\n",
        "    needs_fact_check = False\n",
        "    confidence_score = 0.8\n",
        "    \n",
        "    # Base confidence on context quality from retrieval\n",
        "    context_quality = state.get(\"context_quality\", 0.5)\n",
        "    confidence_score = max(0.3, min(0.9, context_quality))\n",
        "    \n",
        "    # Check for numerical values that might need verification\n",
        "    import re\n",
        "    if re.search(r'\\$[\\d,]+|\\d+%|\\d{4}', response):\n",
        "        needs_fact_check = True\n",
        "        confidence_score = max(0.4, confidence_score - 0.2)\n",
        "    \n",
        "    # Check for specific financial terms that need verification\n",
        "    financial_terms = ['loan limit', 'maximum', 'aggregate', 'annual', 'interest rate', 'cap']\n",
        "    if any(term in response.lower() for term in financial_terms):\n",
        "        needs_fact_check = True\n",
        "        confidence_score = max(0.5, confidence_score - 0.1)\n",
        "    \n",
        "    return {\n",
        "        \"response\": response,\n",
        "        \"needs_fact_check\": needs_fact_check,\n",
        "        \"confidence_score\": confidence_score\n",
        "    }\n"
      ]
    },
    {
      "cell_type": "markdown",
      "metadata": {
        "vscode": {
          "languageId": "raw"
        }
      },
      "source": [
        "### 6. Fact-Checking Router\n",
        "\n",
        "This node determines whether to proceed with fact-checking or return the response:\n"
      ]
    },
    {
      "cell_type": "code",
      "execution_count": 38,
      "metadata": {},
      "outputs": [],
      "source": [
        "def route_fact_check(state: EnhancedState):\n",
        "    \"\"\"Route to fact-checking if needed\"\"\"\n",
        "    \n",
        "    needs_fact_check = state.get(\"needs_fact_check\", False)\n",
        "    \n",
        "    if needs_fact_check:\n",
        "        return \"fact_check\"  # Direct node name - LangGraph best practice\n",
        "    else:\n",
        "        return \"finalize_response\"  # Direct node name - LangGraph best practice\n"
      ]
    },
    {
      "cell_type": "markdown",
      "metadata": {
        "vscode": {
          "languageId": "raw"
        }
      },
      "source": [
        "### 7. Fact-Checking Node\n",
        "\n",
        "This node performs fact-checking on the generated response:\n"
      ]
    },
    {
      "cell_type": "code",
      "execution_count": 39,
      "metadata": {},
      "outputs": [],
      "source": [
        "def fact_check(state: EnhancedState) -> EnhancedState:\n",
        "    \"\"\"Perform fact-checking on the generated response using the same OpenAI model\"\"\"\n",
        "    \n",
        "    # Create a fact-checking prompt\n",
        "    fact_check_prompt = ChatPromptTemplate.from_messages([\n",
        "        (\"human\", \"\"\"\n",
        "        Please fact-check the following response about student loans and financial aid:\n",
        "        \n",
        "        ORIGINAL QUESTION: {question}\n",
        "        \n",
        "        RESPONSE TO CHECK: {response}\n",
        "        \n",
        "        CONTEXT USED: {context}\n",
        "        \n",
        "        Please verify if the information in the response is accurate based on the context.\n",
        "        If you find any inaccuracies, please provide corrections.\n",
        "        Respond with either:\n",
        "        - \"ACCURATE: The response is factually correct.\"\n",
        "        - \"INACCURATE: [specific corrections needed]\"\n",
        "        \"\"\")\n",
        "    ])\n",
        "    \n",
        "    # Create fact-checking chain using the same openai_chat_model from previous implementation\n",
        "    fact_check_chain = fact_check_prompt | openai_chat_model | StrOutputParser()\n",
        "    \n",
        "    # Perform fact-checking\n",
        "    fact_check_result = fact_check_chain.invoke({\n",
        "        \"question\": state[\"question\"],\n",
        "        \"response\": state[\"response\"],\n",
        "        \"context\": \"\\n\".join([doc.page_content for doc in state[\"context\"]])\n",
        "    })\n",
        "    \n",
        "    # Update confidence based on fact-check result and context quality\n",
        "    confidence_score = state.get(\"confidence_score\", 0.6)\n",
        "    context_quality = state.get(\"context_quality\", 0.5)\n",
        "    \n",
        "    if fact_check_result.startswith(\"ACCURATE\"):\n",
        "        # Boost confidence if fact-check passes and context quality is good\n",
        "        confidence_boost = 0.2 if context_quality > 0.7 else 0.1\n",
        "        confidence_score = min(1.0, confidence_score + confidence_boost)\n",
        "    else:\n",
        "        # Reduce confidence if fact-check fails, but consider context quality\n",
        "        confidence_reduction = 0.3 if context_quality < 0.5 else 0.2\n",
        "        confidence_score = max(0.2, confidence_score - confidence_reduction)\n",
        "    \n",
        "    return {\n",
        "        \"fact_check_result\": fact_check_result,\n",
        "        \"confidence_score\": confidence_score\n",
        "    }\n"
      ]
    },
    {
      "cell_type": "markdown",
      "metadata": {
        "vscode": {
          "languageId": "raw"
        }
      },
      "source": [
        "### 8. Response Finalization Node\n",
        "\n",
        "This node finalizes the response with confidence information:\n"
      ]
    },
    {
      "cell_type": "code",
      "execution_count": 40,
      "metadata": {},
      "outputs": [],
      "source": [
        "def finalize_response(state: EnhancedState) -> EnhancedState:\n",
        "    \"\"\"Finalize the response with confidence and fact-check information\"\"\"\n",
        "    \n",
        "    response = state[\"response\"]\n",
        "    confidence_score = state.get(\"confidence_score\", 0.8)\n",
        "    fact_check_result = state.get(\"fact_check_result\", \"\")\n",
        "    \n",
        "    # Add confidence indicator to response if confidence is low\n",
        "    if confidence_score < 0.5:\n",
        "        response += \"\\n\\n*Note: Please verify this information with official sources as my confidence in this response is limited.*\"\n",
        "    \n",
        "    # Add fact-check information if available\n",
        "    if fact_check_result and fact_check_result.startswith(\"INACCURATE\"):\n",
        "        response += f\"\\n\\n*Fact-check note: {fact_check_result}*\"\n",
        "    \n",
        "    return {\n",
        "        \"response\": response\n",
        "    }\n"
      ]
    },
    {
      "cell_type": "markdown",
      "metadata": {
        "vscode": {
          "languageId": "raw"
        }
      },
      "source": [
        "### 9. Building the Enhanced Graph\n",
        "\n",
        "Now let's build the enhanced graph with conditional routing:\n"
      ]
    },
    {
      "cell_type": "code",
      "execution_count": 41,
      "metadata": {},
      "outputs": [],
      "source": [
        "# Import END from langgraph\n",
        "from langgraph.graph import END\n",
        "\n",
        "# Build the enhanced graph using the same components from the previous implementation:\n",
        "# - Same Qdrant vector_store and retriever for document retrieval\n",
        "# - Same embedding_model (OpenAI text-embedding-3-small) for vector similarity\n",
        "# - Same chat_prompt and openai_chat_model (gpt-4.1-nano) for generation\n",
        "# - Same StrOutputParser for response formatting\n",
        "enhanced_graph_builder = StateGraph(EnhancedState)\n",
        "\n",
        "# Add all nodes\n",
        "enhanced_graph_builder.add_node(\"enhanced_retrieve\", enhanced_retrieve)\n",
        "enhanced_graph_builder.add_node(\"fallback_response\", fallback_response)\n",
        "enhanced_graph_builder.add_node(\"enhanced_generate\", enhanced_generate)\n",
        "enhanced_graph_builder.add_node(\"fact_check\", fact_check)\n",
        "enhanced_graph_builder.add_node(\"finalize_response\", finalize_response)\n",
        "\n",
        "# Add edges with conditional routing\n",
        "enhanced_graph_builder.add_edge(START, \"enhanced_retrieve\")\n",
        "\n",
        "# Route based on context quality - using direct node names (LangGraph best practice)\n",
        "enhanced_graph_builder.add_conditional_edges(\n",
        "    \"enhanced_retrieve\",\n",
        "    route_based_on_context_quality,\n",
        "    # No mapping needed when router returns direct node names\n",
        "    [\"enhanced_generate\", \"fallback_response\"]\n",
        ")\n",
        "\n",
        "# Route based on fact-checking needs - using direct node names (LangGraph best practice)\n",
        "enhanced_graph_builder.add_conditional_edges(\n",
        "    \"enhanced_generate\",\n",
        "    route_fact_check,\n",
        "    # No mapping needed when router returns direct node names\n",
        "    [\"fact_check\", \"finalize_response\"]\n",
        ")\n",
        "\n",
        "# Connect fact-check to finalize\n",
        "enhanced_graph_builder.add_edge(\"fact_check\", \"finalize_response\")\n",
        "\n",
        "# Both fallback and finalize go to END\n",
        "enhanced_graph_builder.add_edge(\"fallback_response\", END)\n",
        "enhanced_graph_builder.add_edge(\"finalize_response\", END)\n",
        "\n",
        "# Compile the enhanced graph\n",
        "enhanced_graph = enhanced_graph_builder.compile()\n"
      ]
    },
    {
      "cell_type": "markdown",
      "metadata": {
        "vscode": {
          "languageId": "raw"
        }
      },
      "source": [
        "### 10. Visualizing the Enhanced Graph\n",
        "\n",
        "Let's visualize our enhanced graph to see the conditional routing:\n"
      ]
    },
    {
      "cell_type": "code",
      "execution_count": 42,
      "metadata": {},
      "outputs": [
        {
          "data": {
            "image/png": "[encoded data removed]",
            "text/plain": [
              "<langgraph.graph.state.CompiledStateGraph object at 0x14d658b90>"
            ]
          },
          "execution_count": 42,
          "metadata": {},
          "output_type": "execute_result"
        }
      ],
      "source": [
        "# Visualize the enhanced graph\n",
        "enhanced_graph\n"
      ]
    },
    {
      "cell_type": "markdown",
      "metadata": {
        "vscode": {
          "languageId": "raw"
        }
      },
      "source": [
        "### 11. Testing the Enhanced Graph\n",
        "\n",
        "Let's test our enhanced graph with different scenarios:\n"
      ]
    },
    {
      "cell_type": "code",
      "execution_count": 43,
      "metadata": {},
      "outputs": [
        {
          "name": "stdout",
          "output_type": "stream",
          "text": [
            "=== Test 1: Normal Query ===\n",
            "Response: The maximum loan amount for undergraduate students depends on their dependency status and the type of loans. \n",
            "\n",
            "- For dependent undergraduates (excluding those whose parents cannot get Direct PLUS Loans), the total (subsidized and unsubsidized) loan limit is $31,000, with no more than $23,000 of this amount in subsidized loans.\n",
            "- For independent undergraduates (and dependent undergraduates whose parents cannot get Direct PLUS Loans), the total limit is $57,500, with no more than $23,000 subsidized.\n",
            "- The annual loan limit for dependent undergraduates is $5,500 (no more than $3,500 of which may be subsidized), prorated if enrolled in a program shorter than an academic year.\n",
            "- The aggregate loan limit for undergraduate students is $23,000 in subsidized loans and $31,000 overall.\n",
            "\n",
            "These limits can be prorated if the program is shorter than an academic year.\n",
            "\n",
            "*Note: Please verify this information with official sources as my confidence in this response is limited.*\n",
            "\n",
            "*Fact-check note: INACCURATE: The response contains inaccuracies and some lack of clarity regarding the specific loan limits. Here are the corrections and clarifications:\n",
            "\n",
            "1. **Maximum Loan Amounts:**\n",
            "   - For **dependent undergraduate students**, the **total (subsidized + unsubsidized) loan limit** is **$31,000**. For **independent undergraduates**, it is **$57,500**.  \n",
            "   - **However**, these are **aggregate loan limits** over a student’s entire undergraduate career, **not** annual limits.  \n",
            "   - The **annual loan limit** for dependent undergraduates is **$5,500** in the first year, with no more than **$3,500** subsidized. In subsequent years, the annual limits increase (e.g., up to $6,500, then $7,500, etc., depending on the year of study), but the initial figures are for the first year.\n",
            "\n",
            "2. **Confusing or partly incorrect statements:**  \n",
            "   - The statement **\"The total (subsidized and unsubsidized) loan limit is $31,000, with no more than $23,000 of this amount in subsidized loans\"** is accurate as an **aggregate limit**, **not** an annual limit.  \n",
            "   - Similarly, **$57,500 total and $23,000 subsidized** are **aggregate limits** for independent undergraduates, **not** annual limits.  \n",
            "   - The mention of **\"annual loan limit for dependent undergraduates is $5,500 (no more than $3,500 of which may be subsidized)\"** is correct but *only* for the first year, and the limits vary for other years.\n",
            "\n",
            "3. **Prorated limits and program length:**  \n",
            "   - The response correctly notes that loan limits can be prorated for shorter programs but should specify that prorating involves multiplying the annual limit by the fractional length of the program relative to the full academic year.\n",
            "\n",
            "4. **Graduate and professional students:**  \n",
            "   - The mention of a **$138,500** aggregate limit for graduate and professional students **including undergraduate loans** is accurate.  \n",
            "   - The higher **annual limits for graduate/ professional students** are also true, but should specify that they are **unsubsidized only** and vary by program.\n",
            "\n",
            "5. **Clarification needed:**  \n",
            "   - The response should emphasize that the **$5,500** figure is the **first-year dependent undergraduate** annual loan limit, and higher limits apply in subsequent years (e.g., **$6,500, then $7,500**, and so on).  \n",
            "   - The initial figures cited (e.g., \"$31,000\" total) are **aggregate loan limits**, not annual.  \n",
            "   - The statement **\"The aggregate loan limit for undergraduate students is $23,000 in subsidized loans and $31,000 overall\"** is **correct**, but should clearly specify that these are **aggregate caps** over the undergraduate career.\n",
            "\n",
            "**Summary:**  \n",
            "The response mixes **annual** and **aggregate** loan limits, leading to potential confusion. It correctly states the **aggregate** limits but needs to clarify that the figures like **$5,500** are **annual limits for first-year students**, with higher limits in later years, and that the **$31,000** and **$57,500** are total aggregate caps over undergraduate studies.\n",
            "\n",
            "**Therefore, the overall assessment is:**  \n",
            "**\"INACCURATE: [specific corrections needed]\"***\n",
            "Confidence: 0.2\n",
            "Context Quality: 0.49706157203818446\n",
            "\n"
          ]
        }
      ],
      "source": [
        "# Test 1: Normal query with good context\n",
        "print(\"=== Test 1: Normal Query ===\")\n",
        "response1 = enhanced_graph.invoke({\n",
        "    \"question\": \"What is the maximum loan amount for undergraduate students?\"\n",
        "})\n",
        "print(f\"Response: {response1['response']}\")\n",
        "print(f\"Confidence: {response1.get('confidence_score', 'N/A')}\")\n",
        "print(f\"Context Quality: {response1.get('context_quality', 'N/A')}\")\n",
        "print()\n"
      ]
    },
    {
      "cell_type": "code",
      "execution_count": 44,
      "metadata": {},
      "outputs": [
        {
          "name": "stdout",
          "output_type": "stream",
          "text": [
            "=== Test 2: Irrelevant Query ===\n",
            "Response: I don't know.\n",
            "Confidence: 0.9\n",
            "Context Quality: 1.0\n",
            "\n"
          ]
        }
      ],
      "source": [
        "# Test 2: Query with no relevant context (should trigger fallback)\n",
        "print(\"=== Test 2: Irrelevant Query ===\")\n",
        "response2 = enhanced_graph.invoke({\n",
        "    \"question\": \"What is the recipe for chocolate cake?\"\n",
        "})\n",
        "print(f\"Response: {response2['response']}\")\n",
        "print(f\"Confidence: {response2.get('confidence_score', 'N/A')}\")\n",
        "print(f\"Context Quality: {response2.get('context_quality', 'N/A')}\")\n",
        "print()\n"
      ]
    },
    {
      "cell_type": "code",
      "execution_count": 45,
      "metadata": {},
      "outputs": [
        {
          "name": "stdout",
          "output_type": "stream",
          "text": [
            "=== Test 3: Query with Specific Numbers ===\n",
            "Response: A dependent undergraduate student can borrow up to $5,500 in their first year, with no more than $3,500 of this amount being subsidized.\n",
            "\n",
            "*Note: Please verify this information with official sources as my confidence in this response is limited.*\n",
            "\n",
            "*Fact-check note: INACCURATE: The response contains a key inaccuracy regarding the first-year borrowing limit for dependent undergraduate students. The correct statutory maximum for a dependent undergraduate student in their first year is up to **$5,500 total**, with **no more than $3,500 of this amount being subsidized**. The response correctly states the total limit but slightly confuses the description by implying a restriction that may be misunderstood.\n",
            "\n",
            "The main correction is clarifying that:\n",
            "- A dependent undergraduate first-year student can borrow **up to $5,500 in total**, with **no more than $3,500 subsidized**.\n",
            "- If the student has no subsidized eligibility, they may borrow up to the full $5,500 in unsubsidized loans.\n",
            "\n",
            "Additionally, while the context elaborates extensively on loan limits, prorating, and aggregate limits, the core answer to \"How much money can a dependent undergraduate student borrow in their first year?\" should generally be summarized as:\n",
            "\n",
            "**\"A dependent undergraduate student can borrow up to $5,500 in their first year, with no more than $3,500 of this being subsidized.\"**\n",
            "\n",
            "Everything else in the detailed context supports this, but the initial statement effectively captures the main fact.\n",
            "\n",
            "**Summary:** The original response's figure is correct, but it should explicitly state the maximum **$5,500** combined limit, not just $5,000, to reflect current federal loan limits accurately.\n",
            "\n",
            "**Final conclusion:**  \n",
            "**\"ACCURATE: The response is factually correct\"** with the understanding that it correctly states the first-year borrowing limit for dependent undergraduates as **up to $5,500 total, with no more than $3,500 subsidized.***\n",
            "Confidence: 0.2\n",
            "Needs Fact Check: True\n",
            "Fact Check Result: INACCURATE: The response contains a key inaccuracy regarding the first-year borrowing limit for dependent undergraduate students. The correct statutory maximum for a dependent undergraduate student in their first year is up to **$5,500 total**, with **no more than $3,500 of this amount being subsidized**. The response correctly states the total limit but slightly confuses the description by implying a restriction that may be misunderstood.\n",
            "\n",
            "The main correction is clarifying that:\n",
            "- A dependent undergraduate first-year student can borrow **up to $5,500 in total**, with **no more than $3,500 subsidized**.\n",
            "- If the student has no subsidized eligibility, they may borrow up to the full $5,500 in unsubsidized loans.\n",
            "\n",
            "Additionally, while the context elaborates extensively on loan limits, prorating, and aggregate limits, the core answer to \"How much money can a dependent undergraduate student borrow in their first year?\" should generally be summarized as:\n",
            "\n",
            "**\"A dependent undergraduate student can borrow up to $5,500 in their first year, with no more than $3,500 of this being subsidized.\"**\n",
            "\n",
            "Everything else in the detailed context supports this, but the initial statement effectively captures the main fact.\n",
            "\n",
            "**Summary:** The original response's figure is correct, but it should explicitly state the maximum **$5,500** combined limit, not just $5,000, to reflect current federal loan limits accurately.\n",
            "\n",
            "**Final conclusion:**  \n",
            "**\"ACCURATE: The response is factually correct\"** with the understanding that it correctly states the first-year borrowing limit for dependent undergraduates as **up to $5,500 total, with no more than $3,500 subsidized.**\n",
            "\n"
          ]
        }
      ],
      "source": [
        "# Test 3: Query that might need fact-checking (contains numbers)\n",
        "print(\"=== Test 3: Query with Specific Numbers ===\")\n",
        "response3 = enhanced_graph.invoke({\n",
        "    \"question\": \"How much money can a dependent undergraduate student borrow in their first year?\"\n",
        "})\n",
        "print(f\"Response: {response3['response']}\")\n",
        "print(f\"Confidence: {response3.get('confidence_score', 'N/A')}\")\n",
        "print(f\"Needs Fact Check: {response3.get('needs_fact_check', 'N/A')}\")\n",
        "print(f\"Fact Check Result: {response3.get('fact_check_result', 'N/A')}\")\n",
        "print()\n"
      ]
    },
    {
      "cell_type": "markdown",
      "metadata": {
        "vscode": {
          "languageId": "raw"
        }
      },
      "source": [
        "### 12. Summary of Edge Case Handling\n",
        "\n",
        "This enhanced implementation addresses the key edge cases in the following ways:\n",
        "\n",
        "#### **No Relevant Context Found:**\n",
        "- **Detection**: The `enhanced_retrieve` node assesses context quality using content length and term overlap heuristics\n",
        "- **Routing**: The `route_based_on_context_quality` function routes to fallback when quality is below threshold\n",
        "- **Response**: The `fallback_response` node provides helpful guidance to users when no relevant context is found\n",
        "\n",
        "#### **Fact-Checking Requirements:**\n",
        "- **Detection**: The `enhanced_generate` node identifies responses that may need fact-checking based on numerical content\n",
        "- **Routing**: The `route_fact_check` function determines whether to proceed with fact-checking\n",
        "- **Verification**: The `fact_check` node performs additional verification using the context\n",
        "- **Integration**: Fact-check results are integrated into the final response with appropriate confidence adjustments\n",
        "\n",
        "#### **Additional Benefits:**\n",
        "- **Confidence Scoring**: Each response includes a confidence score that reflects the system's certainty\n",
        "- **Transparent Limitations**: Users are informed when confidence is low or when fact-checking reveals issues\n",
        "- **Graceful Degradation**: The system provides helpful fallbacks rather than failing silently\n",
        "\n",
        "This approach demonstrates how LangGraph's conditional routing capabilities enable sophisticated error handling and quality assurance in RAG applications, making them more robust and user-friendly in production environments.\n"
      ]
    }
  ],
  "metadata": {
    "accelerator": "GPU",
    "colab": {
      "gpuType": "T4",
      "machine_shape": "hm",
      "provenance": [],
      "toc_visible": true
    },
    "kernelspec": {
      "display_name": ".venv",
      "language": "python",
      "name": "python3"
    },
    "language_info": {
      "codemirror_mode": {
        "name": "ipython",
        "version": 3
      },
      "file_extension": ".py",
      "mimetype": "text/x-python",
      "name": "python",
      "nbconvert_exporter": "python",
      "pygments_lexer": "ipython3",
      "version": "3.12.10"
    }
  },
  "nbformat": 4,
  "nbformat_minor": 0
}
